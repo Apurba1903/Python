{
 "cells": [
  {
   "cell_type": "markdown",
   "id": "fb099b45-e363-4349-9f03-9ffe66037d5e",
   "metadata": {},
   "source": [
    "Operators in Python"
   ]
  },
  {
   "cell_type": "code",
   "execution_count": 23,
   "id": "06bbafff-1edc-45ef-91a8-15b96a2a9265",
   "metadata": {},
   "outputs": [
    {
     "name": "stdout",
     "output_type": "stream",
     "text": [
      "7\n",
      "3\n",
      "10\n",
      "2.5\n",
      "2\n",
      "1\n",
      "25\n"
     ]
    }
   ],
   "source": [
    "#Arithmetric Operator\n",
    "\n",
    "print (5+2) \n",
    "print (5-2)\n",
    "print (5*2)\n",
    "print (5/2)\n",
    "print (5//2) #Integer Division\n",
    "print (5%2)  #Modulas Operation\n",
    "print (5**2) #Power of Operator"
   ]
  },
  {
   "cell_type": "code",
   "execution_count": 24,
   "id": "3c1937b8-f061-4af6-95ca-7f729d19edfa",
   "metadata": {},
   "outputs": [
    {
     "name": "stdout",
     "output_type": "stream",
     "text": [
      "False\n",
      "True\n",
      "False\n",
      "True\n",
      "False\n",
      "True\n"
     ]
    }
   ],
   "source": [
    "# Relational Operators\n",
    "\n",
    "print (4>5)\n",
    "print (4<5)\n",
    "print (4>=5)\n",
    "print (4<=5)\n",
    "print (4==5)\n",
    "print (4!=5)"
   ]
  },
  {
   "cell_type": "code",
   "execution_count": 25,
   "id": "ae2d9715-38e0-4170-a9e3-5069dd274423",
   "metadata": {},
   "outputs": [
    {
     "name": "stdout",
     "output_type": "stream",
     "text": [
      "0\n",
      "1\n",
      "False\n"
     ]
    }
   ],
   "source": [
    "# Logical Operators\n",
    "\n",
    "print (1 and 0)\n",
    "print (1 or 0)\n",
    "print (not 1)"
   ]
  },
  {
   "cell_type": "code",
   "execution_count": 26,
   "id": "2bed1960-c662-4fcc-a0de-211bcb3daeab",
   "metadata": {},
   "outputs": [
    {
     "name": "stdout",
     "output_type": "stream",
     "text": [
      "2\n",
      "3\n",
      "1\n",
      "-4\n",
      "1\n",
      "20\n"
     ]
    }
   ],
   "source": [
    "# Bitwise Operators\n",
    "\n",
    "print (2 & 3) #Bitwise AND\n",
    "print (2 | 3) #Bitwise OR\n",
    "print (2 ^ 3) #Bitwise XOR\n",
    "\n",
    "print (~3) #Bitwise Not\n",
    "print (4 >> 2) #Bitwise Left\n",
    "print (5 << 2) #Bitwise Right"
   ]
  },
  {
   "cell_type": "code",
   "execution_count": 27,
   "id": "caffd452-f5aa-4ee0-8cd3-b9197d2ad189",
   "metadata": {},
   "outputs": [
    {
     "name": "stdout",
     "output_type": "stream",
     "text": [
      "2.0\n"
     ]
    }
   ],
   "source": [
    "# Assignment Operator\n",
    "\n",
    "A = 10 \n",
    "\n",
    "A +=5\n",
    "A -=5\n",
    "A /=5\n",
    "A %=5\n",
    "\n",
    "print (A)"
   ]
  },
  {
   "cell_type": "code",
   "execution_count": 29,
   "id": "8a056276-2c44-4250-9cb2-e6e0559156c8",
   "metadata": {},
   "outputs": [
    {
     "name": "stdout",
     "output_type": "stream",
     "text": [
      "True\n",
      "True\n",
      "True\n"
     ]
    }
   ],
   "source": [
    "# Membership Operators\n",
    "# in / not in\n",
    "\n",
    "print ('A' in 'Apurba')\n",
    "\n",
    "print ('D' not in 'Apurba')\n",
    "\n",
    "print (1903 in [5600, 2498, 1903])"
   ]
  },
  {
   "cell_type": "code",
   "execution_count": 33,
   "id": "2bb6fd71-9c26-41a6-86da-9253c6197add",
   "metadata": {},
   "outputs": [
    {
     "name": "stdin",
     "output_type": "stream",
     "text": [
      "Enter the 3 digit Number:  500\n"
     ]
    },
    {
     "name": "stdout",
     "output_type": "stream",
     "text": [
      "5\n"
     ]
    }
   ],
   "source": [
    "# Find the SUM of a 3 digit number entered by the user\n",
    "\n",
    "number = int (input('Enter the 3 digit Number: '))\n",
    "\n",
    "a = number % 10     #345 % 10 = 5\n",
    "\n",
    "number = number // 10     #345 // 10 = 34\n",
    "\n",
    "b = number % 10     #34 % 10 = 4\n",
    "\n",
    "number = number // 10     #34 //  10 = 3\n",
    "\n",
    "c = number % 10     #3 % 10 = 3\n",
    "\n",
    "sum = a+b+c\n",
    "\n",
    "print (sum)\n"
   ]
  },
  {
   "cell_type": "markdown",
   "id": "e6204ac2-9297-43f6-bd8f-bb8c05839647",
   "metadata": {},
   "source": [
    "If-Else in Python\n"
   ]
  },
  {
   "cell_type": "code",
   "execution_count": 38,
   "id": "a6543fcf-ca14-4889-a38d-a25df372365d",
   "metadata": {},
   "outputs": [
    {
     "name": "stdin",
     "output_type": "stream",
     "text": [
      "Enter your Email:  apurba1903@gmail.com\n",
      "Enter your Password:  safs\n"
     ]
    },
    {
     "name": "stdout",
     "output_type": "stream",
     "text": [
      "Password is Incorrect\n"
     ]
    },
    {
     "name": "stdin",
     "output_type": "stream",
     "text": [
      "Enter your Password Again:  password\n"
     ]
    },
    {
     "name": "stdout",
     "output_type": "stream",
     "text": [
      "Welcome Finally\n"
     ]
    }
   ],
   "source": [
    "#Login Program and Indentation\n",
    "\n",
    "email = input ('Enter your Email: ')\n",
    "password = input ('Enter your Password: ')\n",
    "\n",
    "if email == 'apurba1903@gmail.com' and password == 'password' :\n",
    "    print ('Welcome')\n",
    "    \n",
    "elif email == 'apurba1903@gmail.com' and password != 'password' :\n",
    "    print ('Password is Incorrect')\n",
    "\n",
    "    password = input ('Enter your Password Again: ')\n",
    "    if password == 'password': #Nested If Else\n",
    "        print ('Welcome Finally')\n",
    "    else :\n",
    "        print ('Dumb')\n",
    "\n",
    "else :\n",
    "    print ('Wrong Username or Password')\n"
   ]
  },
  {
   "cell_type": "code",
   "execution_count": 43,
   "id": "3a626576-71bb-44b5-9ff3-3ca765860400",
   "metadata": {},
   "outputs": [
    {
     "name": "stdin",
     "output_type": "stream",
     "text": [
      "Enter 1st Number:  5\n",
      "Enter 2nd Number:  5\n",
      "Enter 3rd Number:  5\n"
     ]
    },
    {
     "name": "stdout",
     "output_type": "stream",
     "text": [
      "5 is Lowest\n"
     ]
    }
   ],
   "source": [
    "#Find the min of 3 given numbers\n",
    "\n",
    "A = int(input ('Enter 1st Number: '))\n",
    "B = int(input ('Enter 2nd Number: '))\n",
    "C = int(input ('Enter 3rd Number: '))\n",
    "\n",
    "if A<B and A<C:\n",
    "    print (A,'is Lowest')\n",
    "elif B<A and B<C:\n",
    "    print (B,'is Lowest')\n",
    "else :\n",
    "    print (C,'is Lowest')\n",
    "\n"
   ]
  },
  {
   "cell_type": "code",
   "execution_count": 47,
   "id": "d9e7a624-8d62-48b8-b934-e26fc69f5388",
   "metadata": {},
   "outputs": [
    {
     "name": "stdin",
     "output_type": "stream",
     "text": [
      "Enter the 1st Number:  10\n",
      "Enter the 2nd Number:  5\n",
      "Enter the Operation:  *\n"
     ]
    },
    {
     "name": "stdout",
     "output_type": "stream",
     "text": [
      "50\n"
     ]
    }
   ],
   "source": [
    "# Menu Driven Simple Calculator\n",
    "\n",
    "A = int(input ('Enter the 1st Number: '))\n",
    "B = int(input ('Enter the 2nd Number: '))\n",
    "\n",
    "op = input ('Enter the Operation: ')\n",
    "\n",
    "if op == '+':\n",
    "    print (A+B)\n",
    "    \n",
    "elif op == '-':\n",
    "    print (A-B)\n",
    "    \n",
    "elif op == '*':\n",
    "    print (A*B)\n",
    "    \n",
    "else:\n",
    "    print (A/B)\n",
    "\n"
   ]
  },
  {
   "cell_type": "code",
   "execution_count": 48,
   "id": "a500c022-5bc8-4e52-b7e7-d450e7dc62ab",
   "metadata": {},
   "outputs": [
    {
     "name": "stdin",
     "output_type": "stream",
     "text": [
      "\n",
      "Hello Welcome!\n",
      "How can we help you?\n",
      "1. Press 1 for Pin change.\n",
      "2. Press 2 for Balance check.\n",
      "3. Press 3 for Withdrawl.\n",
      "4. Press 4 for Exit.   \n",
      " 4\n"
     ]
    },
    {
     "name": "stdout",
     "output_type": "stream",
     "text": [
      "Come Back Again\n"
     ]
    }
   ],
   "source": [
    "# Menu Driven Simple ATM Machine\n",
    "\n",
    "menu = input (\"\"\"\n",
    "Hello Welcome!\n",
    "How can we help you?\n",
    "1. Press 1 for Pin change.\n",
    "2. Press 2 for Balance check.\n",
    "3. Press 3 for Withdrawl.\n",
    "4. Press 4 for Exit.   \n",
    "\"\"\")\n",
    "\n",
    "if menu == '1':\n",
    "    print ('Change PIN')\n",
    "elif menu == '2':\n",
    "    print ('Your Balance is : 1903')\n",
    "elif menu == '3':\n",
    "    print ('Enter Withdrawl amount : ')\n",
    "else:\n",
    "    print ('Come Back Again')    \n",
    "    \n"
   ]
  },
  {
   "cell_type": "markdown",
   "id": "2d456798-b44c-4ccb-97ef-8fd64c5c4a2b",
   "metadata": {},
   "source": [
    "Modules in Python"
   ]
  },
  {
   "cell_type": "code",
   "execution_count": 54,
   "id": "38495e23-e999-45ef-9349-c466f495a18d",
   "metadata": {},
   "outputs": [
    {
     "data": {
      "text/plain": [
       "14.0"
      ]
     },
     "execution_count": 54,
     "metadata": {},
     "output_type": "execute_result"
    }
   ],
   "source": [
    "#Math\n",
    "\n",
    "import math\n",
    "\n",
    "math.factorial(5)\n",
    "math.floor(6.8)\n",
    "math.sqrt(196)\n"
   ]
  },
  {
   "cell_type": "code",
   "execution_count": 57,
   "id": "250c4a0f-47f8-4635-9f8f-ed4a87890ec1",
   "metadata": {},
   "outputs": [
    {
     "name": "stdout",
     "output_type": "stream",
     "text": [
      "['False', 'None', 'True', 'and', 'as', 'assert', 'async', 'await', 'break', 'class', 'continue', 'def', 'del', 'elif', 'else', 'except', 'finally', 'for', 'from', 'global', 'if', 'import', 'in', 'is', 'lambda', 'nonlocal', 'not', 'or', 'pass', 'raise', 'return', 'try', 'while', 'with', 'yield']\n"
     ]
    }
   ],
   "source": [
    "#Keyword\n",
    "\n",
    "import keyword\n",
    "\n",
    "print (keyword.kwlist)\n"
   ]
  },
  {
   "cell_type": "code",
   "execution_count": 62,
   "id": "5052ce63-4b95-4a97-8061-a6baee58fe0c",
   "metadata": {},
   "outputs": [
    {
     "name": "stdout",
     "output_type": "stream",
     "text": [
      "90\n"
     ]
    }
   ],
   "source": [
    "#Random\n",
    "\n",
    "import random\n",
    "\n",
    "print (random.randint(1,100))\n"
   ]
  },
  {
   "cell_type": "code",
   "execution_count": 63,
   "id": "5500b109-e670-4759-96d5-54ecc4be8b15",
   "metadata": {},
   "outputs": [
    {
     "name": "stdout",
     "output_type": "stream",
     "text": [
      "2025-01-17 17:31:54.037201\n"
     ]
    }
   ],
   "source": [
    "# Date Time\n",
    "\n",
    "import datetime\n",
    "\n",
    "print (datetime.datetime.now())\n"
   ]
  },
  {
   "cell_type": "code",
   "execution_count": null,
   "id": "2ebda087-7cfc-45df-9a7b-35fb8612e600",
   "metadata": {},
   "outputs": [],
   "source": [
    "help ('modules')"
   ]
  },
  {
   "cell_type": "markdown",
   "id": "598aa5e9-bf15-4830-bdd9-2c8834e484dc",
   "metadata": {},
   "source": [
    "Loops in Python\n"
   ]
  },
  {
   "cell_type": "code",
   "execution_count": 74,
   "id": "6c041a00-e1af-4510-8e6a-6cefd8e0fd38",
   "metadata": {},
   "outputs": [
    {
     "name": "stdin",
     "output_type": "stream",
     "text": [
      "Enter the number:  3\n"
     ]
    },
    {
     "name": "stdout",
     "output_type": "stream",
     "text": [
      "3 * 1 = 3\n",
      "3 * 2 = 6\n",
      "3 * 3 = 9\n",
      "3 * 4 = 12\n",
      "3 * 5 = 15\n",
      "3 * 6 = 18\n",
      "3 * 7 = 21\n",
      "3 * 8 = 24\n",
      "3 * 9 = 27\n",
      "3 * 10 = 30\n",
      "Limit Crossed\n"
     ]
    }
   ],
   "source": [
    "# Write a code to print a table\n",
    "\n",
    "N = int(input('Enter the number: ')) \n",
    "\n",
    "i = 1\n",
    "\n",
    "while i<=10:\n",
    "    \n",
    "    print (N, '*', i, '=', N*i)\n",
    "    \n",
    "    i=i+1\n",
    "\n"
   ]
  },
  {
   "cell_type": "code",
   "execution_count": 75,
   "id": "7e8bb693-38f8-4b48-b3f4-b971c6107c70",
   "metadata": {},
   "outputs": [
    {
     "name": "stdout",
     "output_type": "stream",
     "text": [
      "1\n",
      "2\n",
      "3\n",
      "4\n",
      "5\n",
      "6\n",
      "7\n",
      "8\n",
      "9\n",
      "Limit Crossed\n"
     ]
    }
   ],
   "source": [
    "# While loop with else\n",
    "\n",
    "x = 1\n",
    "\n",
    "while x < 10:\n",
    "    print (x)\n",
    "    x += 1\n",
    "\n",
    "else :\n",
    "    print ('Limit Crossed')"
   ]
  },
  {
   "cell_type": "code",
   "execution_count": 80,
   "id": "46a3970e-02d0-4a0f-8b4b-cb4029f90c60",
   "metadata": {},
   "outputs": [
    {
     "name": "stdin",
     "output_type": "stream",
     "text": [
      "Guess the number : 25\n"
     ]
    },
    {
     "name": "stdout",
     "output_type": "stream",
     "text": [
      "Guess Lower\n"
     ]
    },
    {
     "name": "stdin",
     "output_type": "stream",
     "text": [
      "Guess the number : 15\n"
     ]
    },
    {
     "name": "stdout",
     "output_type": "stream",
     "text": [
      "Guess Higher\n"
     ]
    },
    {
     "name": "stdin",
     "output_type": "stream",
     "text": [
      "Guess the number : 20\n"
     ]
    },
    {
     "name": "stdout",
     "output_type": "stream",
     "text": [
      "Guess Lower\n"
     ]
    },
    {
     "name": "stdin",
     "output_type": "stream",
     "text": [
      "Guess the number : 18\n"
     ]
    },
    {
     "name": "stdout",
     "output_type": "stream",
     "text": [
      "Guess Lower\n"
     ]
    },
    {
     "name": "stdin",
     "output_type": "stream",
     "text": [
      "Guess the number : 17\n"
     ]
    },
    {
     "name": "stdout",
     "output_type": "stream",
     "text": [
      "Jackpot!!!\n",
      "Attempts:  5\n"
     ]
    }
   ],
   "source": [
    "#Guessing Game\n",
    "\n",
    "import random\n",
    "\n",
    "jackpot = random.randint(1,50)\n",
    "\n",
    "user = int (input (\"Guess the number :\"))\n",
    "\n",
    "counter = 1\n",
    "while jackpot != user:\n",
    "    if jackpot > user:\n",
    "        print ('Guess Higher')\n",
    "    \n",
    "    else:\n",
    "        print ('Guess Lower')\n",
    "\n",
    "    user = int (input (\"Guess the number :\"))\n",
    "    counter += 1\n",
    "\n",
    "else:\n",
    "    print ('Jackpot!!!')\n",
    "    print ('Attempts: ', counter)\n"
   ]
  },
  {
   "cell_type": "code",
   "execution_count": 105,
   "id": "08215fb6-d65f-4ccd-96de-af213af6ce7c",
   "metadata": {},
   "outputs": [
    {
     "name": "stdout",
     "output_type": "stream",
     "text": [
      "10\n",
      "9\n",
      "8\n",
      "7\n",
      "6\n",
      "5\n",
      "4\n",
      "3\n",
      "2\n",
      "1\n",
      "A\n",
      "p\n",
      "u\n",
      "r\n",
      "b\n",
      "a\n"
     ]
    }
   ],
   "source": [
    "# For Loop\n",
    "\n",
    "for i in range (10,0,-1):\n",
    "    print (i)\n",
    "\n",
    "for i in 'Apurba':\n",
    "    print (i)\n"
   ]
  },
  {
   "cell_type": "markdown",
   "id": "4d413208-8954-4cf7-b255-a66f3ebe26f1",
   "metadata": {},
   "source": [
    "Program - The current population of a town is 10000. The population of the town is increasing at the rate of 10% per year. You have to write a program to find out the population at the end of each of the last 10 years."
   ]
  },
  {
   "cell_type": "code",
   "execution_count": 111,
   "id": "40db0dfd-5bbf-4e8c-9c9c-4c0b56156d8b",
   "metadata": {},
   "outputs": [
    {
     "name": "stdout",
     "output_type": "stream",
     "text": [
      "Year: 10 Population:  10000\n",
      "Year: 9 Population:  9000.0\n",
      "Year: 8 Population:  8100.0\n",
      "Year: 7 Population:  7290.0\n",
      "Year: 6 Population:  6561.0\n",
      "Year: 5 Population:  5904.9\n",
      "Year: 4 Population:  5314.41\n",
      "Year: 3 Population:  4782.969\n",
      "Year: 2 Population:  4304.6721\n",
      "Year: 1 Population:  3874.20489\n"
     ]
    }
   ],
   "source": [
    "#Population increased in last 10 years.\n",
    "\n",
    "current = 10000\n",
    "\n",
    "for i in range (10,0,-1):\n",
    "    print ('Year:', i, 'Population: ', current)\n",
    "\n",
    "    current = current - 0.1*current\n"
   ]
  },
  {
   "cell_type": "code",
   "execution_count": null,
   "id": "f588af69-9a42-43f5-b5db-a6ddead1c1ef",
   "metadata": {},
   "outputs": [],
   "source": []
  }
 ],
 "metadata": {
  "kernelspec": {
   "display_name": "Python 3 (ipykernel)",
   "language": "python",
   "name": "python3"
  },
  "language_info": {
   "codemirror_mode": {
    "name": "ipython",
    "version": 3
   },
   "file_extension": ".py",
   "mimetype": "text/x-python",
   "name": "python",
   "nbconvert_exporter": "python",
   "pygments_lexer": "ipython3",
   "version": "3.10.13"
  }
 },
 "nbformat": 4,
 "nbformat_minor": 5
}
