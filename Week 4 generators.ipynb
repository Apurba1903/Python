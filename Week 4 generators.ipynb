{
 "cells": [
  {
   "cell_type": "markdown",
   "id": "905a4e72",
   "metadata": {},
   "source": [
    "## What is a Generator\n",
    "\n",
    "Python generators are a simple way of creating iterators. "
   ]
  },
  {
   "cell_type": "code",
   "execution_count": null,
   "id": "478a2bbc",
   "metadata": {},
   "outputs": [],
   "source": [
    "# Iterable CLass\n",
    "class myRange:\n",
    "    \n",
    "    def __init__(self, start, end):\n",
    "        self.start = start\n",
    "        self.end = end\n",
    "        \n",
    "    def __iter__(self):\n",
    "        return myRangeIterator(self)\n",
    "\n",
    "\n",
    "# Iterator CLass\n",
    "class myRangeIterator:\n",
    "    \n",
    "    def __init__(self,iterable_obj):\n",
    "        self.iterable = iterable_obj\n",
    "    \n",
    "    def __iter__(self):\n",
    "        return self\n",
    "    \n",
    "    def __next__(self):\n",
    "        \n",
    "        if self.iterable.start >= self.iterable.end:\n",
    "            raise StopIteration\n",
    "\n",
    "        current = self.iterable.start\n",
    "        self.iterable.start += 1\n",
    "        return current\n",
    "    \n",
    "    \n",
    "    \n",
    "x = myRange(1,11)\n",
    "print(type(x))\n",
    "print(iter(x))"
   ]
  },
  {
   "cell_type": "markdown",
   "id": "fd44bc77",
   "metadata": {},
   "source": [
    "## The Why"
   ]
  },
  {
   "cell_type": "code",
   "execution_count": 1,
   "id": "ea3d5fa3",
   "metadata": {},
   "outputs": [
    {
     "name": "stdout",
     "output_type": "stream",
     "text": [
      "12515.375\n",
      "0.75\n"
     ]
    }
   ],
   "source": [
    "# Example\n",
    "\n",
    "import sys\n",
    "\n",
    "L = [ x for x in range(1,100000)]\n",
    "#for i in L:\n",
    "#   print(i**2)\n",
    "\n",
    "print(sys.getsizeof(L)/64)\n",
    "\n",
    "\n",
    "x = range(1,100000)\n",
    "#for i in x:\n",
    "#   print(i**2)\n",
    "\n",
    "print(sys.getsizeof(x)/64)"
   ]
  },
  {
   "cell_type": "markdown",
   "id": "b22fe091",
   "metadata": {},
   "source": [
    "## A Simple Example"
   ]
  },
  {
   "cell_type": "code",
   "execution_count": 8,
   "id": "43d4ce12",
   "metadata": {},
   "outputs": [
    {
     "name": "stdout",
     "output_type": "stream",
     "text": [
      "First Statement\n",
      "Second Statement\n",
      "Third Statement\n"
     ]
    }
   ],
   "source": [
    "def gen_demo():\n",
    "    \n",
    "    yield 'First Statement'\n",
    "    yield 'Second Statement'\n",
    "    yield 'Third Statement'\n",
    "    \n",
    "gen = gen_demo()\n",
    "\n",
    "for i in gen:\n",
    "    print(i)\n"
   ]
  },
  {
   "cell_type": "markdown",
   "id": "75eb3d2b",
   "metadata": {},
   "source": [
    "## Python Tutor Demo (yield vs return)"
   ]
  },
  {
   "cell_type": "code",
   "execution_count": null,
   "id": "7995f7d7",
   "metadata": {},
   "outputs": [],
   "source": [
    "# Yield remembers where it printed before and automatically forwards itself to the next line of code."
   ]
  },
  {
   "cell_type": "markdown",
   "id": "f86e2b35",
   "metadata": {},
   "source": [
    "## Example 2"
   ]
  },
  {
   "cell_type": "code",
   "execution_count": 16,
   "id": "2f8dd2d8",
   "metadata": {},
   "outputs": [
    {
     "name": "stdout",
     "output_type": "stream",
     "text": [
      "1\n",
      "4\n",
      "9\n",
      "16\n",
      "25\n",
      "36\n",
      "49\n",
      "64\n",
      "81\n"
     ]
    }
   ],
   "source": [
    "def square(num):\n",
    "    for i in range(1, num):\n",
    "        yield i**2\n",
    "        \n",
    "\n",
    "gen = square(10)\n",
    "\n",
    "print(next(gen))\n",
    "print(next(gen))\n",
    "print(next(gen))\n",
    "\n",
    "for i in gen:\n",
    "    print(i)\n",
    "    \n",
    "\n",
    "# Yield remembers."
   ]
  },
  {
   "cell_type": "markdown",
   "id": "875edb12",
   "metadata": {},
   "source": [
    "## Range Function using Generator"
   ]
  },
  {
   "cell_type": "code",
   "execution_count": null,
   "id": "14721877",
   "metadata": {},
   "outputs": [
    {
     "name": "stdout",
     "output_type": "stream",
     "text": [
      "15\n",
      "16\n",
      "17\n",
      "18\n",
      "19\n",
      "20\n",
      "21\n",
      "22\n",
      "23\n",
      "24\n",
      "25\n"
     ]
    }
   ],
   "source": [
    "def myRange(start, end):\n",
    "    \n",
    "    for i in range(start, end):\n",
    "        yield i\n",
    "\n",
    "\n",
    "for i in myRange(15, 26):\n",
    "    print(i)"
   ]
  },
  {
   "cell_type": "markdown",
   "id": "406188e0",
   "metadata": {},
   "source": [
    "## Generator Expression"
   ]
  },
  {
   "cell_type": "code",
   "execution_count": 19,
   "id": "722796db",
   "metadata": {},
   "outputs": [],
   "source": [
    "# List Comprehension\n",
    "\n",
    "L = [i**2 for i in range(1,101)]"
   ]
  },
  {
   "cell_type": "code",
   "execution_count": 20,
   "id": "cc01bd9d",
   "metadata": {},
   "outputs": [
    {
     "name": "stdout",
     "output_type": "stream",
     "text": [
      "1\n",
      "4\n",
      "9\n",
      "16\n",
      "25\n",
      "36\n",
      "49\n",
      "64\n",
      "81\n",
      "100\n",
      "121\n",
      "144\n",
      "169\n",
      "196\n",
      "225\n",
      "256\n",
      "289\n",
      "324\n",
      "361\n",
      "400\n",
      "441\n",
      "484\n",
      "529\n",
      "576\n",
      "625\n",
      "676\n",
      "729\n",
      "784\n",
      "841\n",
      "900\n",
      "961\n",
      "1024\n",
      "1089\n",
      "1156\n",
      "1225\n",
      "1296\n",
      "1369\n",
      "1444\n",
      "1521\n",
      "1600\n",
      "1681\n",
      "1764\n",
      "1849\n",
      "1936\n",
      "2025\n",
      "2116\n",
      "2209\n",
      "2304\n",
      "2401\n",
      "2500\n",
      "2601\n",
      "2704\n",
      "2809\n",
      "2916\n",
      "3025\n",
      "3136\n",
      "3249\n",
      "3364\n",
      "3481\n",
      "3600\n",
      "3721\n",
      "3844\n",
      "3969\n",
      "4096\n",
      "4225\n",
      "4356\n",
      "4489\n",
      "4624\n",
      "4761\n",
      "4900\n",
      "5041\n",
      "5184\n",
      "5329\n",
      "5476\n",
      "5625\n",
      "5776\n",
      "5929\n",
      "6084\n",
      "6241\n",
      "6400\n",
      "6561\n",
      "6724\n",
      "6889\n",
      "7056\n",
      "7225\n",
      "7396\n",
      "7569\n",
      "7744\n",
      "7921\n",
      "8100\n",
      "8281\n",
      "8464\n",
      "8649\n",
      "8836\n",
      "9025\n",
      "9216\n",
      "9409\n",
      "9604\n",
      "9801\n",
      "10000\n"
     ]
    }
   ],
   "source": [
    "gen = (i**2 for i in range(1,101))\n",
    "\n",
    "for i in gen:\n",
    "    print(i)"
   ]
  },
  {
   "cell_type": "markdown",
   "id": "0c7d14fc",
   "metadata": {},
   "source": [
    "## Practical Example"
   ]
  },
  {
   "cell_type": "code",
   "execution_count": null,
   "id": "b03eb0a7",
   "metadata": {},
   "outputs": [],
   "source": [
    "import os\n",
    "import cv2\n",
    "\n",
    "def image_data_reader(folder_path):\n",
    "\n",
    "    for file in os.listdir(folder_path):\n",
    "        f_array = cv2.imread(os.path.join(folder_path,file))\n",
    "        yield f_array    "
   ]
  },
  {
   "cell_type": "code",
   "execution_count": null,
   "id": "c0ccdc67",
   "metadata": {},
   "outputs": [],
   "source": [
    "gen = image_data_reader('C:/Path')\n",
    "\n",
    "next(gen)\n",
    "next(gen)\n",
    "\n",
    "next(gen)\n",
    "next(gen)"
   ]
  },
  {
   "cell_type": "markdown",
   "id": "8cb79570",
   "metadata": {},
   "source": [
    "## Benefits of using a Generator"
   ]
  },
  {
   "cell_type": "markdown",
   "id": "3329b0d1",
   "metadata": {},
   "source": [
    "#### 1. Ease of Implementation"
   ]
  },
  {
   "cell_type": "code",
   "execution_count": null,
   "id": "a1cae9cd",
   "metadata": {},
   "outputs": [],
   "source": [
    "# Iterable CLass\n",
    "class myRange:\n",
    "    \n",
    "    def __init__(self, start, end):\n",
    "        self.start = start\n",
    "        self.end = end\n",
    "        \n",
    "    def __iter__(self):\n",
    "        return myRangeIterator(self)"
   ]
  },
  {
   "cell_type": "code",
   "execution_count": null,
   "id": "a16123e0",
   "metadata": {},
   "outputs": [],
   "source": [
    "# Iterator CLass\n",
    "class myRangeIterator:\n",
    "    \n",
    "    def __init__(self,iterable_obj):\n",
    "        self.iterable = iterable_obj\n",
    "    \n",
    "    def __iter__(self):\n",
    "        return self\n",
    "    \n",
    "    def __next__(self):\n",
    "        \n",
    "        if self.iterable.start >= self.iterable.end:\n",
    "            raise StopIteration\n",
    "\n",
    "        current = self.iterable.start\n",
    "        self.iterable.start += 1\n",
    "        return current"
   ]
  },
  {
   "cell_type": "code",
   "execution_count": null,
   "id": "999b118f",
   "metadata": {},
   "outputs": [],
   "source": [
    "def myRange(start, end):\n",
    "    \n",
    "    for i in range(start, end):\n",
    "        yield i"
   ]
  },
  {
   "cell_type": "markdown",
   "id": "1cee95cb",
   "metadata": {},
   "source": [
    "#### 2. Memory Efficient"
   ]
  },
  {
   "cell_type": "code",
   "execution_count": 23,
   "id": "d9886270",
   "metadata": {},
   "outputs": [
    {
     "name": "stdout",
     "output_type": "stream",
     "text": [
      "Size of L in Memory:  800984\n",
      "Size of Gen in Memory:  200\n"
     ]
    }
   ],
   "source": [
    "import sys\n",
    "\n",
    "L = [i for i in range(100000)]\n",
    "gen = (i for i in range(100000))\n",
    "\n",
    "print('Size of L in Memory: ', sys.getsizeof(L))\n",
    "print('Size of Gen in Memory: ', sys.getsizeof(gen))"
   ]
  },
  {
   "cell_type": "markdown",
   "id": "5d7c5229",
   "metadata": {},
   "source": [
    "#### 3. Representing Infinite Streams"
   ]
  },
  {
   "cell_type": "code",
   "execution_count": 25,
   "id": "a144da66",
   "metadata": {},
   "outputs": [
    {
     "data": {
      "text/plain": [
       "4"
      ]
     },
     "execution_count": 25,
     "metadata": {},
     "output_type": "execute_result"
    }
   ],
   "source": [
    "def all_even():\n",
    "    n = 0\n",
    "    while True:\n",
    "        yield n\n",
    "        n += 2\n",
    "        \n",
    "even_num_gen = all_even()\n",
    "next(even_num_gen)\n",
    "next(even_num_gen)\n",
    "next(even_num_gen)"
   ]
  },
  {
   "cell_type": "markdown",
   "id": "e80fec2f",
   "metadata": {},
   "source": [
    "#### 4. Chaining Generators"
   ]
  },
  {
   "cell_type": "code",
   "execution_count": 26,
   "id": "fc9972b1",
   "metadata": {},
   "outputs": [
    {
     "name": "stdout",
     "output_type": "stream",
     "text": [
      "4895\n"
     ]
    }
   ],
   "source": [
    "def fibonacci_numbers(nums):\n",
    "    x, y = 0, 1\n",
    "    for _ in range(nums):\n",
    "        x, y = y, x+y\n",
    "        yield x\n",
    "\n",
    "def square(nums):\n",
    "    for num in nums:\n",
    "        yield num**2\n",
    "\n",
    "print(sum(square(fibonacci_numbers(10))))"
   ]
  },
  {
   "cell_type": "code",
   "execution_count": null,
   "id": "0558f0f9",
   "metadata": {},
   "outputs": [],
   "source": []
  }
 ],
 "metadata": {
  "kernelspec": {
   "display_name": "Python 3",
   "language": "python",
   "name": "python3"
  },
  "language_info": {
   "codemirror_mode": {
    "name": "ipython",
    "version": 3
   },
   "file_extension": ".py",
   "mimetype": "text/x-python",
   "name": "python",
   "nbconvert_exporter": "python",
   "pygments_lexer": "ipython3",
   "version": "3.11.9"
  }
 },
 "nbformat": 4,
 "nbformat_minor": 5
}
