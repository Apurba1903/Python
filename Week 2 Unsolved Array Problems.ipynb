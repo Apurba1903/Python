{
 "cells": [
  {
   "cell_type": "code",
   "execution_count": null,
   "id": "efd7cc60-ec3e-4f37-82ff-a5167f10f535",
   "metadata": {},
   "outputs": [],
   "source": [
    "# 11. Sort arrays with items 1 and 0"
   ]
  },
  {
   "cell_type": "code",
   "execution_count": null,
   "id": "adb0ead3-360e-4f70-825f-60ef9665a8ff",
   "metadata": {},
   "outputs": [],
   "source": [
    "# 12. Move all -ve numbers to the end"
   ]
  },
  {
   "cell_type": "code",
   "execution_count": null,
   "id": "32b9454e-91d5-45a6-807d-d87ec6f2206c",
   "metadata": {},
   "outputs": [],
   "source": [
    "# 13. Maximum Product Subarray"
   ]
  },
  {
   "cell_type": "code",
   "execution_count": null,
   "id": "d3b5184f-91d5-41f4-8389-27ed3f23202e",
   "metadata": {},
   "outputs": [],
   "source": [
    "# 14. Find union of 2 arrays"
   ]
  },
  {
   "cell_type": "code",
   "execution_count": null,
   "id": "cdf368e9-780b-4f15-a758-bb752a84be7c",
   "metadata": {},
   "outputs": [],
   "source": [
    "# 15. Find Pythagorean triplets in an array"
   ]
  }
 ],
 "metadata": {
  "kernelspec": {
   "display_name": "Python 3 (ipykernel)",
   "language": "python",
   "name": "python3"
  },
  "language_info": {
   "codemirror_mode": {
    "name": "ipython",
    "version": 3
   },
   "file_extension": ".py",
   "mimetype": "text/x-python",
   "name": "python",
   "nbconvert_exporter": "python",
   "pygments_lexer": "ipython3",
   "version": "3.10.13"
  }
 },
 "nbformat": 4,
 "nbformat_minor": 5
}
