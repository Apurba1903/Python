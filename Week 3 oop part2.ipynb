{
 "cells": [
  {
   "cell_type": "markdown",
   "metadata": {
    "id": "JUmWTebLbjwN"
   },
   "source": [
    "### Write OOP classes to handle the following scenarios:\n",
    "\n",
    "- A user can create and view 2D coordinates\n",
    "- A user can find out the distance between 2 coordinates\n",
    "- A user can find find the distance of a coordinate from origin\n",
    "- A user can check if a point lies on a given line\n",
    "- A user can find the distance between a given 2D point and a given line\n",
    "\n"
   ]
  },
  {
   "cell_type": "code",
   "execution_count": 48,
   "metadata": {
    "id": "2jfIFsMocjN3"
   },
   "outputs": [],
   "source": [
    "class Point:\n",
    "\n",
    "    def __init__(self,x,y):\n",
    "        self.x_cod = x\n",
    "        self.y_cod = y\n",
    "\n",
    "    def __str__(self):\n",
    "        return \"<{},{}>\". format(self.x_cod,self.y_cod)\n",
    "\n",
    "    def euclidean_distance(self,other):\n",
    "        return ((self.x_cod - other.x_cod)**2 + (self.y_cod - other.y_cod)**2)**0.5\n",
    "    \n",
    "    def distance_from_origin(self):\n",
    "        return self.euclidean_distance(Point(0,0))        \n",
    "    \n",
    "class Line:\n",
    "    def __init__(self,A,B,C):\n",
    "        self.A = A\n",
    "        self.B = B\n",
    "        self.C = C\n",
    "\n",
    "    def __str__(self):\n",
    "        return \"{}x + {}y + {} = 0\".format( self.A, self.B, self.C)\n",
    "    \n",
    "    def point_on_line(line, point):\n",
    "        if line.A*point.x_cod + line.B*point.y_cod + line.C == 0:\n",
    "            return 'Lie on the line'\n",
    "        else:\n",
    "            return 'Does not lie on the line.'\n",
    "        \n",
    "    def shortest_distance(line,point):\n",
    "        return abs(line.A*point.x_cod + line.B*point.y_cod + line.C) / (line.A**2 +line.B**2)**0.5"
   ]
  },
  {
   "cell_type": "code",
   "execution_count": 51,
   "metadata": {
    "colab": {
     "base_uri": "https://localhost:8080/"
    },
    "id": "z3QeFQu07dpO",
    "outputId": "0af4fec2-739e-42f5-fcb5-428f5ea425fe"
   },
   "outputs": [
    {
     "name": "stdout",
     "output_type": "stream",
     "text": [
      "1x + 1y + -2 = 0\n",
      "<1,2>\n",
      "Does not lie on the line.\n",
      "0.7071067811865475\n"
     ]
    }
   ],
   "source": [
    "'''p1 = Point(2,2)\n",
    "p2 = Point(10,10)\n",
    "print(p1)\n",
    "print(p1.euclidean_distance(p2))\n",
    "print(p1.distance_from_origin())\n",
    "\n",
    "l1 = Line(3,4,5)\n",
    "print(l1)'''\n",
    "\n",
    "\n",
    "l1 = Line(1,1,-2)\n",
    "p1 = Point(1,2)\n",
    "print(l1)\n",
    "print(p1)\n",
    "print(l1.point_on_line(p1))\n",
    "print(l1.shortest_distance(p1))"
   ]
  },
  {
   "cell_type": "markdown",
   "metadata": {
    "id": "s6n-PpwgfiMv"
   },
   "source": [
    "### How objects access attributes"
   ]
  },
  {
   "cell_type": "code",
   "execution_count": 1,
   "metadata": {
    "id": "XUwz5NX3fl3p"
   },
   "outputs": [],
   "source": [
    "class Person:\n",
    "\n",
    "    def __init__ (self, name_input, country_input):\n",
    "        self.name = name_input\n",
    "        self.country = country_input\n",
    "\n",
    "    def greet(self):\n",
    "        if self.country == 'Bangladesh':\n",
    "            print('Kire Mama! Ki Obostha?', self.name)\n",
    "        else:\n",
    "            print('Hello',self.name)"
   ]
  },
  {
   "cell_type": "code",
   "execution_count": 2,
   "metadata": {
    "id": "Eb_wD7mkh-sK"
   },
   "outputs": [],
   "source": [
    "# How to access attributes.\n",
    "p = Person('Apurba','Bangladesh')"
   ]
  },
  {
   "cell_type": "code",
   "execution_count": 6,
   "metadata": {
    "colab": {
     "base_uri": "https://localhost:8080/",
     "height": 36
    },
    "id": "R_zixc-yD2z8",
    "outputId": "18dcea56-fe39-4214-b3cc-483d2fb32ff2"
   },
   "outputs": [
    {
     "data": {
      "text/plain": [
       "'Apurba'"
      ]
     },
     "execution_count": 6,
     "metadata": {},
     "output_type": "execute_result"
    }
   ],
   "source": [
    "p.name"
   ]
  },
  {
   "cell_type": "code",
   "execution_count": null,
   "metadata": {
    "colab": {
     "base_uri": "https://localhost:8080/"
    },
    "id": "FVenvmOViFN5",
    "outputId": "e6638bef-33c0-46fb-dd70-5896e27d8b7f"
   },
   "outputs": [
    {
     "name": "stdout",
     "output_type": "stream",
     "text": [
      "Kire Mama! Ki Obostha? Apurba\n"
     ]
    }
   ],
   "source": [
    "# How to access Method\n",
    "p.greet()"
   ]
  },
  {
   "cell_type": "code",
   "execution_count": 8,
   "metadata": {
    "colab": {
     "base_uri": "https://localhost:8080/",
     "height": 187
    },
    "id": "LyBkKlAviG-x",
    "outputId": "66fd0bf4-9d2e-4d3b-d0fd-3d3593849d25"
   },
   "outputs": [
    {
     "ename": "AttributeError",
     "evalue": "'Person' object has no attribute 'gender'",
     "output_type": "error",
     "traceback": [
      "\u001b[1;31m---------------------------------------------------------------------------\u001b[0m",
      "\u001b[1;31mAttributeError\u001b[0m                            Traceback (most recent call last)",
      "Cell \u001b[1;32mIn[8], line 2\u001b[0m\n\u001b[0;32m      1\u001b[0m \u001b[38;5;66;03m# What if I try to access non-existent attributes.\u001b[39;00m\n\u001b[1;32m----> 2\u001b[0m \u001b[43mp\u001b[49m\u001b[38;5;241;43m.\u001b[39;49m\u001b[43mgender\u001b[49m\n",
      "\u001b[1;31mAttributeError\u001b[0m: 'Person' object has no attribute 'gender'"
     ]
    }
   ],
   "source": [
    "# What if I try to access non-existent attributes.\n",
    "p.gender"
   ]
  },
  {
   "cell_type": "markdown",
   "metadata": {
    "id": "gFxMl3Gpfmq-"
   },
   "source": [
    "### Attribute creation from outside of the class"
   ]
  },
  {
   "cell_type": "code",
   "execution_count": null,
   "metadata": {
    "id": "Ab2M4VwRfp6G"
   },
   "outputs": [],
   "source": [
    "# Creating attribute from outside the class\n",
    "p.gender ='Male'"
   ]
  },
  {
   "cell_type": "code",
   "execution_count": 11,
   "metadata": {
    "colab": {
     "base_uri": "https://localhost:8080/",
     "height": 36
    },
    "id": "YquKhn88NXEZ",
    "outputId": "2d07e3aa-14d3-4016-cba2-8de3ac9c1fa5"
   },
   "outputs": [
    {
     "data": {
      "text/plain": [
       "'Male'"
      ]
     },
     "execution_count": 11,
     "metadata": {},
     "output_type": "execute_result"
    }
   ],
   "source": [
    "p.gender"
   ]
  },
  {
   "cell_type": "markdown",
   "metadata": {
    "id": "s26UEjp6fqjn"
   },
   "source": [
    "### Reference Variables\n",
    "\n",
    "- Reference variables hold the objects\n",
    "- We can create objects without reference variable as well\n",
    "- An object can have multiple reference variables\n",
    "- Assigning a new reference variable to an existing object does not create a new object"
   ]
  },
  {
   "cell_type": "code",
   "execution_count": 17,
   "metadata": {
    "id": "FAoqeNdQfsrB"
   },
   "outputs": [],
   "source": [
    "# Object without a Reference\n",
    "\n",
    "class Person:\n",
    "\n",
    "    def __init__ (self):\n",
    "        self.name = 'Apurba'\n",
    "        self.gender = 'Male'\n",
    "\n",
    "p = Person()\n",
    "q = p"
   ]
  },
  {
   "cell_type": "code",
   "execution_count": 18,
   "metadata": {
    "colab": {
     "base_uri": "https://localhost:8080/"
    },
    "id": "oaJcQhkRfuGP",
    "outputId": "c0561a5e-f2d7-4e24-c8b1-5ec0a3a52372"
   },
   "outputs": [
    {
     "name": "stdout",
     "output_type": "stream",
     "text": [
      "2860893443280\n",
      "2860893443280\n"
     ]
    }
   ],
   "source": [
    "# Multiple Reference Value\n",
    "\n",
    "print(id(p))\n",
    "print(id(q))"
   ]
  },
  {
   "cell_type": "code",
   "execution_count": 20,
   "metadata": {
    "id": "Ycm-nWU6fscq"
   },
   "outputs": [
    {
     "name": "stdout",
     "output_type": "stream",
     "text": [
      "Apurba\n",
      "Apurba\n",
      "Arnob\n",
      "Arnob\n"
     ]
    }
   ],
   "source": [
    "# Change Attribute value with the help of 2nd Object\n",
    "\n",
    "print(p.name)\n",
    "print(q.name)\n",
    "\n",
    "q.name = 'Arnob'\n",
    "\n",
    "print(p.name)\n",
    "print(q.name)\n"
   ]
  },
  {
   "cell_type": "markdown",
   "metadata": {
    "id": "4nqDJqJvfukO"
   },
   "source": [
    "### Pass by reference"
   ]
  },
  {
   "cell_type": "code",
   "execution_count": 30,
   "metadata": {
    "colab": {
     "base_uri": "https://localhost:8080/"
    },
    "id": "noYvRkMmfwMl",
    "outputId": "2e61b55e-133c-4f15-9dc4-c29a416658d9"
   },
   "outputs": [
    {
     "name": "stdout",
     "output_type": "stream",
     "text": [
      "Hi my name is Apurba and I am a  Male\n",
      "Apurba\n",
      "Male\n"
     ]
    }
   ],
   "source": [
    "class Person:\n",
    "\n",
    "    def __init__ (self,name,gender):\n",
    "        self.name = 'Apurba'\n",
    "        self.gender = 'Male'\n",
    "\n",
    "# Outside the Class => Function\n",
    "def greet(person):\n",
    "    print('Hi my name is', person.name , 'and I am a ', person.gender)\n",
    "    p1 = Person('Arnob' , 'Male')\n",
    "    return p1\n",
    "\n",
    "\n",
    "p = Person('Apurba' , 'male')\n",
    "x = greet(p)\n",
    "print(x.name)\n",
    "print(x.gender)"
   ]
  },
  {
   "cell_type": "code",
   "execution_count": 32,
   "metadata": {
    "colab": {
     "base_uri": "https://localhost:8080/"
    },
    "id": "8ddbyX3hHryA",
    "outputId": "b902e987-9199-4637-c88c-ca5154bf31bb"
   },
   "outputs": [
    {
     "name": "stdout",
     "output_type": "stream",
     "text": [
      "2860893577872\n",
      "2860893577872\n",
      "Arnob\n",
      "Arnob\n"
     ]
    }
   ],
   "source": [
    "class Person:\n",
    "\n",
    "    def __init__ (self,name,gender):\n",
    "        self.name = 'Apurba'\n",
    "        self.gender = 'Male'\n",
    "\n",
    "# Outside the Class => Function\n",
    "def greet(person):\n",
    "    print(id(person))\n",
    "    person.name = 'Arnob'\n",
    "    print(person.name)\n",
    "\n",
    "p = Person('Apurba' , 'male')\n",
    "print(id(p))\n",
    "greet(p)\n",
    "print(p.name)"
   ]
  },
  {
   "cell_type": "markdown",
   "metadata": {
    "id": "gRNNs9_DFvud"
   },
   "source": [
    "### Object ki Mutability"
   ]
  },
  {
   "cell_type": "code",
   "execution_count": null,
   "metadata": {
    "colab": {
     "base_uri": "https://localhost:8080/"
    },
    "id": "GcBsQGR_Fy5E",
    "outputId": "e1048f8e-45c0-4ff0-8a2b-78578b81f23b"
   },
   "outputs": [
    {
     "name": "stdout",
     "output_type": "stream",
     "text": [
      "2860894773136\n",
      "2860894773136\n"
     ]
    }
   ],
   "source": [
    "class Person:\n",
    "\n",
    "    def __init__ (self,name,gender):\n",
    "        self.name = 'Apurba'\n",
    "        self.gender = 'Male'\n",
    "\n",
    "# Outside the Class => Function\n",
    "def greet(person):\n",
    "    person.name = 'Arnob'\n",
    "    return person\n",
    "\n",
    "p = Person('Apurba' , 'male')\n",
    "print(id(p))\n",
    "p1 = greet(p)\n",
    "print(id(p1))\n",
    "\n",
    "'''All objects in Pyhton is Mutable by default'''"
   ]
  },
  {
   "cell_type": "markdown",
   "metadata": {
    "id": "A2Opzki1fw7x"
   },
   "source": [
    "### Encapsulation"
   ]
  },
  {
   "cell_type": "code",
   "execution_count": 1,
   "metadata": {
    "id": "yLRvYq47fyvp"
   },
   "outputs": [],
   "source": [
    "# Instance Variable => Python Tutor\n",
    "\n",
    "class Person:\n",
    "\n",
    "    def __init__(self,name_input,country_input):\n",
    "        self.name = name_input\n",
    "        self.country = country_input\n",
    "\n",
    "p1 = Person('Apurba', 'Bangladesh')\n",
    "p2 = Person('Nitish', 'India')"
   ]
  },
  {
   "cell_type": "code",
   "execution_count": 3,
   "metadata": {
    "colab": {
     "base_uri": "https://localhost:8080/",
     "height": 36
    },
    "id": "myBJr2T_KZmL",
    "outputId": "98f717d2-c600-43fa-c6ba-012f518d0490"
   },
   "outputs": [
    {
     "data": {
      "text/plain": [
       "'Nitish'"
      ]
     },
     "execution_count": 3,
     "metadata": {},
     "output_type": "execute_result"
    }
   ],
   "source": [
    "p2.name\n"
   ]
  },
  {
   "cell_type": "code",
   "execution_count": 53,
   "metadata": {
    "id": "HRV0i93nzBtZ"
   },
   "outputs": [],
   "source": [
    "class Atm:\n",
    "\n",
    "    #constructor(Special Function)\n",
    "    def __init__(self):\n",
    "        self.pin = ''\n",
    "        self.__balance = 0\n",
    "        #self.menu()\n",
    "    \n",
    "    def get_balance(self):\n",
    "        return self.__balance\n",
    "    \n",
    "    def set_balance(self,new_value):\n",
    "        if type(new_value) == int:\n",
    "            self.__balance = new_value\n",
    "        else:\n",
    "            print('Beta bohot Marenge')\n",
    "\n",
    "\n",
    "    def __menu(self):\n",
    "        user_input = input(\"\"\"\n",
    "        Hi How can I help you?\n",
    "        1. Press 1 to create pin.\n",
    "        2. Press 2 to change pin.\n",
    "        3. Press 3 to check balance.\n",
    "        4. Press 4 to withdraw.\n",
    "        5. Anything else to exit.\n",
    "        \"\"\")\n",
    "\n",
    "        if user_input == '1':\n",
    "            self.create_pin()\n",
    "\n",
    "        elif user_input == '2':            \n",
    "            self.change_pin()\n",
    "\n",
    "        elif user_input == '3':\n",
    "            self.check_balance()\n",
    "            \n",
    "        elif user_input == '4':\n",
    "            self.withdraw()\n",
    "            \n",
    "        else:\n",
    "            exit()\n",
    "\n",
    "\n",
    "    def create_pin(self):\n",
    "        user_pin = input('Enter your new PIN')\n",
    "        self.pin = user_pin\n",
    "\n",
    "        user_balance = int(input('Enter your Balance'))\n",
    "        self.__balance = user_balance\n",
    "    \n",
    "        print('Pin Created Successfully')\n",
    "        #self.menu()\n",
    "\n",
    "\n",
    "    def change_pin(self):\n",
    "        old_pin = input('Enter Old Pin')\n",
    "\n",
    "        if old_pin == self.pin:\n",
    "            new_pin = input('Enter your new PIN')\n",
    "            self.pin = new_pin\n",
    "            print('Pin Change Successful')\n",
    "            #self.menu()\n",
    "        else:\n",
    "            print('Error')\n",
    "            #self.menu()\n",
    "\n",
    "\n",
    "    def check_balance(self):\n",
    "        user_pin = input('Enter your PIN')\n",
    "        if user_pin == self.pin:\n",
    "            print ('Your balance is ',self.__balance)\n",
    "        else:\n",
    "            print ('Wrong PIN')\n",
    "\n",
    "    \n",
    "    def withdraw(self):\n",
    "        user_pin = input('Enter your PIN')\n",
    "        if user_pin == self.pin:\n",
    "            amount = int(input('Enter your amount'))\n",
    "            if amount <= self.__balance:\n",
    "                self.__balance = self.__balance - amount\n",
    "                print('Withdrawal Successful. Balance is ',self.__balance)\n",
    "            else:\n",
    "                print ('Not enough amount')\n",
    "        else:\n",
    "            print ('Wrong PIN')"
   ]
  },
  {
   "cell_type": "code",
   "execution_count": 54,
   "metadata": {
    "colab": {
     "base_uri": "https://localhost:8080/"
    },
    "id": "L_5IBTO_LaFO",
    "outputId": "f3e1ac11-942e-4324-b471-d5e9f295fa9c"
   },
   "outputs": [],
   "source": [
    "obj = Atm()"
   ]
  },
  {
   "cell_type": "code",
   "execution_count": 58,
   "metadata": {
    "id": "OEDXxBISQeH-"
   },
   "outputs": [
    {
     "data": {
      "text/plain": [
       "1000"
      ]
     },
     "execution_count": 58,
     "metadata": {},
     "output_type": "execute_result"
    }
   ],
   "source": [
    "obj.get_balance()"
   ]
  },
  {
   "cell_type": "code",
   "execution_count": 57,
   "metadata": {},
   "outputs": [],
   "source": [
    "obj.set_balance(1000)"
   ]
  },
  {
   "cell_type": "code",
   "execution_count": 60,
   "metadata": {
    "colab": {
     "base_uri": "https://localhost:8080/",
     "height": 330
    },
    "id": "MIOrnSeLL4Gi",
    "outputId": "928252c3-ae3b-42ed-fe0c-11e1e6ed7b08"
   },
   "outputs": [
    {
     "name": "stdout",
     "output_type": "stream",
     "text": [
      "Not enough amount\n"
     ]
    }
   ],
   "source": [
    "obj.withdraw()"
   ]
  },
  {
   "cell_type": "markdown",
   "metadata": {
    "id": "2zN_yVYaf0_1"
   },
   "source": [
    "### Collection of objects"
   ]
  },
  {
   "cell_type": "code",
   "execution_count": 62,
   "metadata": {
    "id": "UN7FByT3LZSX"
   },
   "outputs": [
    {
     "name": "stdout",
     "output_type": "stream",
     "text": [
      "Apurba Male\n",
      "Ankit Male\n",
      "Ankita Female\n"
     ]
    }
   ],
   "source": [
    "# List of Objects\n",
    "class Person:\n",
    "\n",
    "    def __init__(self,name,gender):\n",
    "        self.name = name\n",
    "        self.gender = gender\n",
    "\n",
    "p1 = Person('Apurba' , 'Male')\n",
    "p2 = Person('Ankit' , 'Male')\n",
    "p3 = Person('Ankita' , 'Female')\n",
    "\n",
    "L = [p1,p2,p3]\n",
    "\n",
    "for i in L:\n",
    "    print(i.name,i.gender)"
   ]
  },
  {
   "cell_type": "code",
   "execution_count": 66,
   "metadata": {
    "colab": {
     "base_uri": "https://localhost:8080/"
    },
    "id": "VdP0aR6Qf4zp",
    "outputId": "72deb00b-deae-4536-da36-2bae44d2245c"
   },
   "outputs": [
    {
     "name": "stdout",
     "output_type": "stream",
     "text": [
      "Apurba\n",
      "Ankit\n",
      "Ankita\n"
     ]
    }
   ],
   "source": [
    "# Dict of Objects\n",
    "class Person:\n",
    "\n",
    "    def __init__(self,name,gender):\n",
    "        self.name = name\n",
    "        self.gender = gender\n",
    "\n",
    "p1 = Person('Apurba' , 'Male')\n",
    "p2 = Person('Ankit' , 'Male')\n",
    "p3 = Person('Ankita' , 'Female')\n",
    "\n",
    "d = {'p1':p1,'p2':p2,'p3':p3}\n",
    "\n",
    "for i in d:\n",
    "    print(d[i].name)"
   ]
  },
  {
   "cell_type": "markdown",
   "metadata": {
    "id": "TKdM9xIFf8Lt"
   },
   "source": [
    "### Static Variables(Vs Instance variables)"
   ]
  },
  {
   "cell_type": "code",
   "execution_count": null,
   "metadata": {
    "id": "yQakCFqbf-kB"
   },
   "outputs": [],
   "source": [
    "# Need for Static Variables"
   ]
  },
  {
   "cell_type": "code",
   "execution_count": null,
   "metadata": {
    "id": "5HYjBHv9wZNm"
   },
   "outputs": [],
   "source": [
    "class Atm:\n",
    "\n",
    "\n",
    "    __counter = 1\n",
    "\n",
    "    #constructor(Special Function)\n",
    "    def __init__(self):\n",
    "        self.pin = ''\n",
    "        self.__balance = 0\n",
    "        self.cid = Atm.__counter\n",
    "        Atm.__counter = Atm.__counter + 1\n",
    "        #self.menu()\n",
    "    \n",
    "    # Utility Function\n",
    "    @staticmethod\n",
    "    def get_counter():\n",
    "        return Atm.__counter\n",
    "\n",
    "\n",
    "    def get_balance(self):\n",
    "        return self.__balance\n",
    "    \n",
    "    def set_balance(self,new_value):\n",
    "        if type(new_value) == int:\n",
    "            self.__balance = new_value\n",
    "        else:\n",
    "            print('Beta bohot Marenge')\n",
    "\n",
    "\n",
    "    def __menu(self):\n",
    "        user_input = input(\"\"\"\n",
    "        Hi How can I help you?\n",
    "        1. Press 1 to create pin.\n",
    "        2. Press 2 to change pin.\n",
    "        3. Press 3 to check balance.\n",
    "        4. Press 4 to withdraw.\n",
    "        5. Anything else to exit.\n",
    "        \"\"\")\n",
    "\n",
    "        if user_input == '1':\n",
    "            self.create_pin()\n",
    "\n",
    "        elif user_input == '2':            \n",
    "            self.change_pin()\n",
    "\n",
    "        elif user_input == '3':\n",
    "            self.check_balance()\n",
    "            \n",
    "        elif user_input == '4':\n",
    "            self.withdraw()\n",
    "            \n",
    "        else:\n",
    "            exit()\n",
    "\n",
    "\n",
    "    def create_pin(self):\n",
    "        user_pin = input('Enter your new PIN')\n",
    "        self.pin = user_pin\n",
    "\n",
    "        user_balance = int(input('Enter your Balance'))\n",
    "        self.__balance = user_balance\n",
    "    \n",
    "        print('Pin Created Successfully')\n",
    "        #self.menu()\n",
    "\n",
    "\n",
    "    def change_pin(self):\n",
    "        old_pin = input('Enter Old Pin')\n",
    "\n",
    "        if old_pin == self.pin:\n",
    "            new_pin = input('Enter your new PIN')\n",
    "            self.pin = new_pin\n",
    "            print('Pin Change Successful')\n",
    "            #self.menu()\n",
    "        else:\n",
    "            print('Error')\n",
    "            #self.menu()\n",
    "\n",
    "\n",
    "    def check_balance(self):\n",
    "        user_pin = input('Enter your PIN')\n",
    "        if user_pin == self.pin:\n",
    "            print ('Your balance is ',self.__balance)\n",
    "        else:\n",
    "            print ('Wrong PIN')\n",
    "\n",
    "    \n",
    "    def withdraw(self):\n",
    "        user_pin = input('Enter your PIN')\n",
    "        if user_pin == self.pin:\n",
    "            amount = int(input('Enter your amount'))\n",
    "            if amount <= self.__balance:\n",
    "                self.__balance = self.__balance - amount\n",
    "                print('Withdrawal Successful. Balance is ',self.__balance)\n",
    "            else:\n",
    "                print ('Not enough amount')\n",
    "        else:\n",
    "            print ('Wrong PIN')"
   ]
  },
  {
   "cell_type": "code",
   "execution_count": 87,
   "metadata": {
    "colab": {
     "base_uri": "https://localhost:8080/"
    },
    "id": "uafMrCPewZWY",
    "outputId": "b0c914a4-b08b-4aa0-ebcb-9f1b4bacd0ba"
   },
   "outputs": [],
   "source": [
    "c1 = Atm()"
   ]
  },
  {
   "cell_type": "code",
   "execution_count": 88,
   "metadata": {
    "colab": {
     "base_uri": "https://localhost:8080/"
    },
    "id": "f35wRAlXwZa7",
    "outputId": "a7a897b2-8262-45b7-b83a-aad207ee102f"
   },
   "outputs": [
    {
     "data": {
      "text/plain": [
       "2"
      ]
     },
     "execution_count": 88,
     "metadata": {},
     "output_type": "execute_result"
    }
   ],
   "source": [
    "Atm.get_counter()"
   ]
  },
  {
   "cell_type": "code",
   "execution_count": 76,
   "metadata": {
    "colab": {
     "base_uri": "https://localhost:8080/"
    },
    "id": "WiCrLBgGTseq",
    "outputId": "9019d462-0b46-4a9d-8837-6a3c31591ad4"
   },
   "outputs": [],
   "source": [
    "c3 = Atm()"
   ]
  },
  {
   "cell_type": "code",
   "execution_count": 81,
   "metadata": {
    "colab": {
     "base_uri": "https://localhost:8080/"
    },
    "id": "YwPU4wRYTuoK",
    "outputId": "cb34a43c-1337-412f-c7ee-e6a2eccd9066"
   },
   "outputs": [
    {
     "data": {
      "text/plain": [
       "3"
      ]
     },
     "execution_count": 81,
     "metadata": {},
     "output_type": "execute_result"
    }
   ],
   "source": [
    "c3.cid"
   ]
  },
  {
   "cell_type": "code",
   "execution_count": 83,
   "metadata": {
    "colab": {
     "base_uri": "https://localhost:8080/"
    },
    "id": "-shiIdW1Vmzd",
    "outputId": "2e1b0468-2e2f-4061-d219-6ee4d818ceea"
   },
   "outputs": [
    {
     "data": {
      "text/plain": [
       "4"
      ]
     },
     "execution_count": 83,
     "metadata": {},
     "output_type": "execute_result"
    }
   ],
   "source": [
    "Atm.counter"
   ]
  },
  {
   "cell_type": "markdown",
   "metadata": {
    "id": "K9bxHyfBgC3Y"
   },
   "source": [
    "### Static methods"
   ]
  },
  {
   "cell_type": "markdown",
   "metadata": {
    "id": "Izqb_9FtwoIZ"
   },
   "source": [
    "##### Points to remember about static\n",
    "\n",
    "- Static attributes are created at class level.\n",
    "- Static attributes are accessed using ClassName.\n",
    "- Static attributes are object independent. We can access them without creating instance (object) of the class in which they are defined.\n",
    "- The value stored in static attribute is shared between all instances(objects) of the class in which the static attribute is defined."
   ]
  }
 ],
 "metadata": {
  "colab": {
   "provenance": []
  },
  "kernelspec": {
   "display_name": "Python 3",
   "language": "python",
   "name": "python3"
  },
  "language_info": {
   "codemirror_mode": {
    "name": "ipython",
    "version": 3
   },
   "file_extension": ".py",
   "mimetype": "text/x-python",
   "name": "python",
   "nbconvert_exporter": "python",
   "pygments_lexer": "ipython3",
   "version": "3.11.9"
  }
 },
 "nbformat": 4,
 "nbformat_minor": 4
}
