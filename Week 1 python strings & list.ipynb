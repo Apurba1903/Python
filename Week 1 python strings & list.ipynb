{
 "cells": [
  {
   "cell_type": "markdown",
   "metadata": {
    "id": "xZ2EH7kf-4WW"
   },
   "source": [
    "### Program - The current population of a town is 10000. The population of the town is increasing at the rate of 10% per year. You have to write a program to find out the population at the end of each of the last 10 years."
   ]
  },
  {
   "cell_type": "code",
   "execution_count": 1,
   "metadata": {
    "colab": {
     "base_uri": "https://localhost:8080/"
    },
    "id": "mWuYuFjV-6Mo",
    "outputId": "6c39a2ad-edfb-4e26-d991-27ec83bbc961"
   },
   "outputs": [
    {
     "name": "stdout",
     "output_type": "stream",
     "text": [
      "10 10000\n",
      "9 9090.90909090909\n",
      "8 8264.462809917353\n",
      "7 7513.148009015775\n",
      "6 6830.134553650703\n",
      "5 6209.213230591548\n",
      "4 5644.739300537771\n",
      "3 5131.5811823070635\n",
      "2 4665.07380209733\n",
      "1 4240.976183724845\n"
     ]
    }
   ],
   "source": [
    "x = 10000\n",
    "\n",
    "for i in range (10,0,-1):\n",
    "    print (i, x)\n",
    "    x = x/1.1\n",
    "    "
   ]
  },
  {
   "cell_type": "markdown",
   "metadata": {
    "id": "jmeilrsx_Dz_"
   },
   "source": [
    "### Sequence sum\n",
    "\n",
    "1/1! + 2/2! + 3/3! + ..."
   ]
  },
  {
   "cell_type": "code",
   "execution_count": 2,
   "metadata": {
    "colab": {
     "base_uri": "https://localhost:8080/"
    },
    "id": "UU38MOpA_E3_",
    "outputId": "7e799872-6165-46b9-e55e-8f82e7439537"
   },
   "outputs": [
    {
     "name": "stdin",
     "output_type": "stream",
     "text": [
      "Enter the value of N :  5\n"
     ]
    },
    {
     "name": "stdout",
     "output_type": "stream",
     "text": [
      "2.708333333333333\n"
     ]
    }
   ],
   "source": [
    "\n",
    "n = int(input('Enter the value of N : '))\n",
    "\n",
    "sum = 0\n",
    "fact = 1\n",
    "for i in range (1,n+1):\n",
    "    fact = fact * i\n",
    "    sum = sum + i / fact\n",
    "\n",
    "print (sum)\n"
   ]
  },
  {
   "cell_type": "markdown",
   "metadata": {
    "id": "F_ka2Jji_G3d"
   },
   "source": [
    "# Nested Loops"
   ]
  },
  {
   "cell_type": "code",
   "execution_count": 8,
   "metadata": {
    "colab": {
     "base_uri": "https://localhost:8080/"
    },
    "id": "3nctuHAQ_RvA",
    "outputId": "358c4383-00b0-4a91-e5be-ede4e60c537c"
   },
   "outputs": [
    {
     "name": "stdout",
     "output_type": "stream",
     "text": [
      "1 1\n",
      "1 2\n",
      "1 3\n",
      "1 4\n",
      "2 1\n",
      "2 2\n",
      "2 3\n",
      "2 4\n",
      "3 1\n",
      "3 2\n",
      "3 3\n",
      "3 4\n",
      "4 1\n",
      "4 2\n",
      "4 3\n",
      "4 4\n"
     ]
    }
   ],
   "source": [
    "for i in range (1,5):\n",
    "    for j in range (1,5):\n",
    "        print(i,j)"
   ]
  },
  {
   "cell_type": "markdown",
   "metadata": {
    "id": "iUnoz6z1_aaI"
   },
   "source": [
    "### Pattern 1\n",
    "\n",
    "\n",
    "* <br>\n",
    "** <br>\n",
    "***<br>\n"
   ]
  },
  {
   "cell_type": "code",
   "execution_count": 13,
   "metadata": {
    "colab": {
     "base_uri": "https://localhost:8080/"
    },
    "id": "exQMnIoC_Zv2",
    "outputId": "6fbe7b5e-d46c-415c-c286-c795e770f12d"
   },
   "outputs": [
    {
     "name": "stdin",
     "output_type": "stream",
     "text": [
      "Enter the row number:  4\n"
     ]
    },
    {
     "name": "stdout",
     "output_type": "stream",
     "text": [
      "*\n",
      "**\n",
      "***\n",
      "****\n"
     ]
    }
   ],
   "source": [
    "rows = int (input('Enter the row number: '))\n",
    "\n",
    "for i in range (1,rows+1):\n",
    "    for j in range (1,i+1):\n",
    "        print ('*', end='')\n",
    "    print()"
   ]
  },
  {
   "cell_type": "markdown",
   "metadata": {
    "id": "OxXDih5R_0uB"
   },
   "source": [
    "### Pattern 2\n",
    "\n",
    "1<br>\n",
    "121<br>\n",
    "12321<br>\n",
    "1234321<br>"
   ]
  },
  {
   "cell_type": "code",
   "execution_count": 20,
   "metadata": {
    "colab": {
     "base_uri": "https://localhost:8080/"
    },
    "id": "x8rGo4KM_Y-j",
    "outputId": "b5da3149-fb64-4530-9bd9-ce49f8977ec8"
   },
   "outputs": [
    {
     "name": "stdin",
     "output_type": "stream",
     "text": [
      "Enter the row number:  5\n"
     ]
    },
    {
     "name": "stdout",
     "output_type": "stream",
     "text": [
      "1\n",
      "121\n",
      "12321\n",
      "1234321\n",
      "123454321\n"
     ]
    }
   ],
   "source": [
    "rows = int (input('Enter the row number: '))\n",
    "\n",
    "for i in range (1,rows+1):\n",
    "    \n",
    "    for j in range (1,i+1):\n",
    "        print (j, end='')\n",
    "        \n",
    "    for k in range (i-1,0,-1):\n",
    "        print (k, end='')\n",
    "    \n",
    "    print()"
   ]
  },
  {
   "cell_type": "markdown",
   "metadata": {
    "id": "oFemwQBw_8Q1"
   },
   "source": [
    "# Loop Control Statement\n",
    "\n",
    "- Break\n",
    "- Continue\n",
    "- Pass"
   ]
  },
  {
   "cell_type": "code",
   "execution_count": 22,
   "metadata": {
    "colab": {
     "base_uri": "https://localhost:8080/"
    },
    "id": "9NNS6bDL_82u",
    "outputId": "f3c390ff-2f75-4039-95eb-f1cc05dcf6c8"
   },
   "outputs": [
    {
     "name": "stdout",
     "output_type": "stream",
     "text": [
      "1\n",
      "2\n",
      "3\n",
      "4\n"
     ]
    }
   ],
   "source": [
    "for i in range (1,10):\n",
    "    if i == 5:\n",
    "        break\n",
    "    print (i)"
   ]
  },
  {
   "cell_type": "code",
   "execution_count": 25,
   "metadata": {
    "colab": {
     "base_uri": "https://localhost:8080/"
    },
    "id": "voBWY0VC9bxW",
    "outputId": "2371cc4a-64a8-4f81-e1d7-228d517997a7"
   },
   "outputs": [
    {
     "name": "stdin",
     "output_type": "stream",
     "text": [
      "Enter the Lower Range number:  10\n",
      "Enter the Upper Range number:  100\n"
     ]
    },
    {
     "name": "stdout",
     "output_type": "stream",
     "text": [
      "11\n",
      "13\n",
      "17\n",
      "19\n",
      "23\n",
      "29\n",
      "31\n",
      "37\n",
      "41\n",
      "43\n",
      "47\n",
      "53\n",
      "59\n",
      "61\n",
      "67\n",
      "71\n",
      "73\n",
      "79\n",
      "83\n",
      "89\n",
      "97\n"
     ]
    }
   ],
   "source": [
    "### User will give you a range. You have to find all the prime number in that range.\n",
    "\n",
    "L = int (input('Enter the Lower Range number: '))\n",
    "U = int (input('Enter the Upper Range number: '))\n",
    "\n",
    "for i in range (L,U+1):\n",
    "    for j in range (2,i):\n",
    "        if i%j == 0:\n",
    "            break\n",
    "    else:\n",
    "        print(i)\n",
    "    \n"
   ]
  },
  {
   "cell_type": "code",
   "execution_count": 27,
   "metadata": {
    "colab": {
     "base_uri": "https://localhost:8080/"
    },
    "id": "QPwyXdT09b2K",
    "outputId": "26621acc-0a86-4ade-8339-41a039a3a4bb"
   },
   "outputs": [
    {
     "name": "stdout",
     "output_type": "stream",
     "text": [
      "1\n",
      "2\n",
      "4\n",
      "5\n"
     ]
    }
   ],
   "source": [
    "#Continue\n",
    "\n",
    "for i in range (1,6):\n",
    "    if i == 3:\n",
    "        continue\n",
    "    print(i)"
   ]
  },
  {
   "cell_type": "code",
   "execution_count": 28,
   "metadata": {
    "id": "c_kqggLg9b_i"
   },
   "outputs": [],
   "source": [
    "#Pass\n",
    "\n",
    "for i in range (1,10):\n",
    "    pass\n",
    "\n",
    "# To use in future for avoiding Error\n"
   ]
  },
  {
   "cell_type": "markdown",
   "metadata": {
    "id": "iz0prYf-LiFB"
   },
   "source": [
    "Strings are sequence of Characters\n",
    "\n",
    "In Python specifically, strings are a sequence of Unicode Characters\n",
    "\n",
    "- Creating Strings\n",
    "- Accessing Strings\n",
    "- Adding Chars to Strings\n",
    "- Editing Strings\n",
    "- Deleting Strings\n",
    "- Operations on Strings\n",
    "- String Functions"
   ]
  },
  {
   "cell_type": "markdown",
   "metadata": {
    "id": "i75VO5hxL_4K"
   },
   "source": [
    "## Creating Stings"
   ]
  },
  {
   "cell_type": "code",
   "execution_count": 34,
   "metadata": {
    "colab": {
     "base_uri": "https://localhost:8080/"
    },
    "id": "FqMi90xxLotH",
    "outputId": "a4df54d5-c62e-4f3b-c012-955e8c9c6f28"
   },
   "outputs": [
    {
     "name": "stdout",
     "output_type": "stream",
     "text": [
      "Apurba Halder Apurba Halder Okay\n"
     ]
    }
   ],
   "source": [
    "S = 'Apurba'\n",
    "t = \"Halder\"\n",
    "u = '''Apurba'''\n",
    "v = \"\"\"Halder\"\"\"\n",
    "w = str('Okay')\n",
    "\n",
    "print (s,t,u,v, w)"
   ]
  },
  {
   "cell_type": "code",
   "execution_count": 35,
   "metadata": {
    "colab": {
     "base_uri": "https://localhost:8080/",
     "height": 36
    },
    "id": "NUEqGB84C1Vs",
    "outputId": "d36c8e49-bdc0-48c4-9d86-6aa39d9bf295"
   },
   "outputs": [
    {
     "data": {
      "text/plain": [
       "\"I am working very' late\""
      ]
     },
     "execution_count": 35,
     "metadata": {},
     "output_type": "execute_result"
    }
   ],
   "source": [
    "\"I am working very' late\""
   ]
  },
  {
   "cell_type": "markdown",
   "metadata": {
    "id": "24fOWaO_MCtn"
   },
   "source": [
    "## Accessing Substrings from a String"
   ]
  },
  {
   "cell_type": "code",
   "execution_count": 36,
   "metadata": {
    "colab": {
     "base_uri": "https://localhost:8080/",
     "height": 204
    },
    "id": "es8p3f7FMGP1",
    "outputId": "bb82c5df-fd38-420d-dd57-0a362aa57c67"
   },
   "outputs": [
    {
     "name": "stdout",
     "output_type": "stream",
     "text": [
      "a\n"
     ]
    }
   ],
   "source": [
    "# Positive Indexing\n",
    "\n",
    "s = 'Apurba Halder'\n",
    "\n",
    "print (s[5])\n"
   ]
  },
  {
   "cell_type": "code",
   "execution_count": 38,
   "metadata": {
    "colab": {
     "base_uri": "https://localhost:8080/"
    },
    "id": "_rdwDbNYD-lY",
    "outputId": "f45e7002-fabc-48ca-e337-8452cd545c5b"
   },
   "outputs": [
    {
     "name": "stdout",
     "output_type": "stream",
     "text": [
      "r a\n"
     ]
    }
   ],
   "source": [
    "# Negetive Indexing\n",
    "\n",
    "s = 'Apurba Halder'\n",
    "\n",
    "print (s[-1], s[-5])\n"
   ]
  },
  {
   "cell_type": "code",
   "execution_count": 52,
   "metadata": {
    "colab": {
     "base_uri": "https://localhost:8080/"
    },
    "id": "qWGgcTHpEcSC",
    "outputId": "f4e15e5f-7da1-4cf0-c311-f14a19b3b350"
   },
   "outputs": [
    {
     "name": "stdout",
     "output_type": "stream",
     "text": [
      "redlaH abrupA\n"
     ]
    }
   ],
   "source": [
    "#String Slicing\n",
    "\n",
    "s = 'Apurba Halder'\n",
    "\n",
    "print (s[::-1])\n"
   ]
  },
  {
   "cell_type": "code",
   "execution_count": 59,
   "metadata": {
    "colab": {
     "base_uri": "https://localhost:8080/"
    },
    "id": "j8LMvRsRFr1S",
    "outputId": "7fcf9810-fceb-44a4-8371-8b3e2273c86a"
   },
   "outputs": [
    {
     "name": "stdout",
     "output_type": "stream",
     "text": [
      "redlaH\n"
     ]
    }
   ],
   "source": [
    "s = 'Apurba Halder'\n",
    "\n",
    "print (s[-1:-7:-1])"
   ]
  },
  {
   "cell_type": "markdown",
   "metadata": {
    "id": "g2VqMYWqMJSU"
   },
   "source": [
    "## Editing and Deleting in Strings"
   ]
  },
  {
   "cell_type": "code",
   "execution_count": null,
   "metadata": {
    "colab": {
     "base_uri": "https://localhost:8080/",
     "height": 187
    },
    "id": "j_jPqHHyMKGK",
    "outputId": "39bd3a6a-b332-4429-ba87-27ec22f152f9"
   },
   "outputs": [],
   "source": [
    "#Python strings are immutable. Strings can not be changed.\n",
    "\n",
    "s = 'Apurba Halder'\n",
    "\n",
    "s[0] = 'H'\n"
   ]
  },
  {
   "cell_type": "code",
   "execution_count": null,
   "metadata": {
    "colab": {
     "base_uri": "https://localhost:8080/",
     "height": 204
    },
    "id": "rF-XM6IOG8-0",
    "outputId": "e6223f5a-37bd-419f-8737-668115675fcd"
   },
   "outputs": [],
   "source": [
    "s = 'Apurba Halder'\n",
    "\n",
    "del s\n",
    "\n",
    "print (s) #Not Allowed in python"
   ]
  },
  {
   "cell_type": "code",
   "execution_count": null,
   "metadata": {
    "colab": {
     "base_uri": "https://localhost:8080/",
     "height": 204
    },
    "id": "p72F5KruHO6x",
    "outputId": "365421c7-0bbe-4821-c0a5-d35d4fa80554"
   },
   "outputs": [],
   "source": [
    "s = 'Apurba Halder'\n",
    "\n",
    "del s[-1:-6:2]\n",
    "\n",
    "print (s) #Not Allowed in python"
   ]
  },
  {
   "cell_type": "markdown",
   "metadata": {
    "id": "6icAp0UvMKsh"
   },
   "source": [
    "## Operations on Strings\n",
    "\n",
    "- Arithmetic Operations\n",
    "- Relational Operations\n",
    "- Logical Operations\n",
    "- Loops on Strings\n",
    "- Membership Operations"
   ]
  },
  {
   "cell_type": "code",
   "execution_count": 65,
   "metadata": {
    "colab": {
     "base_uri": "https://localhost:8080/"
    },
    "id": "37rbhwLAMSt9",
    "outputId": "9ba3f855-375a-4355-8b94-21254da02eb0"
   },
   "outputs": [
    {
     "name": "stdout",
     "output_type": "stream",
     "text": [
      "Apurba Halder\n"
     ]
    }
   ],
   "source": [
    "print ('Apurba' + ' ' + 'Halder')"
   ]
  },
  {
   "cell_type": "code",
   "execution_count": 66,
   "metadata": {
    "colab": {
     "base_uri": "https://localhost:8080/"
    },
    "id": "cnTYYnv9HsIc",
    "outputId": "1bb37e5e-4328-4f3a-c7ad-5ae255fde2e1"
   },
   "outputs": [
    {
     "name": "stdout",
     "output_type": "stream",
     "text": [
      "ApurbaApurbaApurbaApurbaApurba\n"
     ]
    }
   ],
   "source": [
    "print ('Apurba' *5)"
   ]
  },
  {
   "cell_type": "code",
   "execution_count": 67,
   "metadata": {
    "colab": {
     "base_uri": "https://localhost:8080/"
    },
    "id": "OJM0LcTcHsQB",
    "outputId": "57e7a5c7-1dbb-4580-e6bf-c9e5da5f79df"
   },
   "outputs": [
    {
     "data": {
      "text/plain": [
       "False"
      ]
     },
     "execution_count": 67,
     "metadata": {},
     "output_type": "execute_result"
    }
   ],
   "source": [
    "'Delhi' == 'Dhaka'"
   ]
  },
  {
   "cell_type": "code",
   "execution_count": 77,
   "metadata": {
    "colab": {
     "base_uri": "https://localhost:8080/"
    },
    "id": "d5wx8XKeHsWP",
    "outputId": "477dc4a2-8676-46ba-cce2-2ed345fd2e5d"
   },
   "outputs": [
    {
     "data": {
      "text/plain": [
       "False"
      ]
     },
     "execution_count": 77,
     "metadata": {},
     "output_type": "execute_result"
    }
   ],
   "source": [
    "'Dhaka' > 'dhaka'\n",
    "\n",
    "#Lexiographically ASCII Value"
   ]
  },
  {
   "cell_type": "code",
   "execution_count": 76,
   "metadata": {
    "colab": {
     "base_uri": "https://localhost:8080/"
    },
    "id": "G3byoyLNHsmo",
    "outputId": "1492fd4f-4329-4290-97f5-3f5ecee7b045"
   },
   "outputs": [
    {
     "data": {
      "text/plain": [
       "True"
      ]
     },
     "execution_count": 76,
     "metadata": {},
     "output_type": "execute_result"
    }
   ],
   "source": [
    "'dhaka' > 'Dhaka'"
   ]
  },
  {
   "cell_type": "code",
   "execution_count": 78,
   "metadata": {
    "colab": {
     "base_uri": "https://localhost:8080/"
    },
    "id": "qtZ0Zm-HHsry",
    "outputId": "c9d0bf38-795d-4888-8e09-7642b8a5e494"
   },
   "outputs": [
    {
     "data": {
      "text/plain": [
       "'World'"
      ]
     },
     "execution_count": 78,
     "metadata": {},
     "output_type": "execute_result"
    }
   ],
   "source": [
    "'Hello' and 'World'"
   ]
  },
  {
   "cell_type": "code",
   "execution_count": 79,
   "metadata": {
    "colab": {
     "base_uri": "https://localhost:8080/",
     "height": 36
    },
    "id": "pRj_nS6kHs00",
    "outputId": "c3ba2345-e53c-41ee-f257-89dc96c78435"
   },
   "outputs": [
    {
     "data": {
      "text/plain": [
       "'Hello'"
      ]
     },
     "execution_count": 79,
     "metadata": {},
     "output_type": "execute_result"
    }
   ],
   "source": [
    "'Hello' or 'World'"
   ]
  },
  {
   "cell_type": "code",
   "execution_count": 80,
   "metadata": {
    "colab": {
     "base_uri": "https://localhost:8080/",
     "height": 36
    },
    "id": "KZhBwrGtJEFY",
    "outputId": "c5b891c8-e85e-4518-d3e8-874ffb0293b4"
   },
   "outputs": [
    {
     "data": {
      "text/plain": [
       "''"
      ]
     },
     "execution_count": 80,
     "metadata": {},
     "output_type": "execute_result"
    }
   ],
   "source": [
    "'' and 'World'"
   ]
  },
  {
   "cell_type": "code",
   "execution_count": 81,
   "metadata": {
    "colab": {
     "base_uri": "https://localhost:8080/",
     "height": 36
    },
    "id": "d8W6QmDnJELj",
    "outputId": "a453a2e0-3502-49ac-d058-c69f6e248401"
   },
   "outputs": [
    {
     "data": {
      "text/plain": [
       "'World'"
      ]
     },
     "execution_count": 81,
     "metadata": {},
     "output_type": "execute_result"
    }
   ],
   "source": [
    "'' or 'World'"
   ]
  },
  {
   "cell_type": "code",
   "execution_count": 85,
   "metadata": {
    "colab": {
     "base_uri": "https://localhost:8080/",
     "height": 36
    },
    "id": "jTsHPpGQJESA",
    "outputId": "0512e1ce-47fe-4075-9b99-dc52a6cda55b"
   },
   "outputs": [
    {
     "data": {
      "text/plain": [
       "True"
      ]
     },
     "execution_count": 85,
     "metadata": {},
     "output_type": "execute_result"
    }
   ],
   "source": [
    "not ''"
   ]
  },
  {
   "cell_type": "code",
   "execution_count": 87,
   "metadata": {
    "colab": {
     "base_uri": "https://localhost:8080/",
     "height": 36
    },
    "id": "BvwdDf4PJmnz",
    "outputId": "d72174f5-64cc-42a1-bcbc-3c8790031df8"
   },
   "outputs": [
    {
     "name": "stdout",
     "output_type": "stream",
     "text": [
      "H\n",
      "e\n",
      "l\n",
      "l\n",
      "o\n"
     ]
    }
   ],
   "source": [
    "#Loops\n",
    "\n",
    "for i in 'Hello':\n",
    "    print (i)\n",
    "    "
   ]
  },
  {
   "cell_type": "code",
   "execution_count": 88,
   "metadata": {
    "colab": {
     "base_uri": "https://localhost:8080/",
     "height": 36
    },
    "id": "pTRQabdQJnnV",
    "outputId": "5ab1851d-1203-45f1-989e-672b8ebe0f38"
   },
   "outputs": [
    {
     "name": "stdout",
     "output_type": "stream",
     "text": [
      "World\n",
      "World\n",
      "World\n",
      "World\n",
      "World\n"
     ]
    }
   ],
   "source": [
    "for i in 'Hello':\n",
    "    print ('World')"
   ]
  },
  {
   "cell_type": "code",
   "execution_count": 89,
   "metadata": {
    "colab": {
     "base_uri": "https://localhost:8080/"
    },
    "id": "jrf62do3J4VD",
    "outputId": "b7105118-adb0-4381-c9cd-102aa64d4c70"
   },
   "outputs": [
    {
     "data": {
      "text/plain": [
       "True"
      ]
     },
     "execution_count": 89,
     "metadata": {},
     "output_type": "execute_result"
    }
   ],
   "source": [
    "'D' in 'Delhi'"
   ]
  },
  {
   "cell_type": "code",
   "execution_count": 90,
   "metadata": {
    "colab": {
     "base_uri": "https://localhost:8080/"
    },
    "id": "i64jefPQKRtR",
    "outputId": "b9d5e844-fc1f-4403-862c-fdc845b39161"
   },
   "outputs": [
    {
     "data": {
      "text/plain": [
       "False"
      ]
     },
     "execution_count": 90,
     "metadata": {},
     "output_type": "execute_result"
    }
   ],
   "source": [
    "'d' in 'Delhi'"
   ]
  },
  {
   "cell_type": "markdown",
   "metadata": {
    "id": "dE_jTrX5MYSV"
   },
   "source": [
    "## Common Functions\n",
    "- len\n",
    "- max\n",
    "- min\n",
    "- sorted"
   ]
  },
  {
   "cell_type": "code",
   "execution_count": 91,
   "metadata": {
    "colab": {
     "base_uri": "https://localhost:8080/"
    },
    "id": "mIm1rHvIMcZ6",
    "outputId": "15ec3b75-9fd5-4345-b0fb-ec9a4be30281"
   },
   "outputs": [
    {
     "data": {
      "text/plain": [
       "13"
      ]
     },
     "execution_count": 91,
     "metadata": {},
     "output_type": "execute_result"
    }
   ],
   "source": [
    "len('Apurba Halder')"
   ]
  },
  {
   "cell_type": "code",
   "execution_count": 93,
   "metadata": {
    "colab": {
     "base_uri": "https://localhost:8080/",
     "height": 36
    },
    "id": "kVpxwx3KLUlO",
    "outputId": "7dbad591-31cf-46a9-9126-1381f17cdbed"
   },
   "outputs": [
    {
     "data": {
      "text/plain": [
       "'u'"
      ]
     },
     "execution_count": 93,
     "metadata": {},
     "output_type": "execute_result"
    }
   ],
   "source": [
    "max ('Apurba Halder')"
   ]
  },
  {
   "cell_type": "code",
   "execution_count": 95,
   "metadata": {
    "colab": {
     "base_uri": "https://localhost:8080/",
     "height": 36
    },
    "id": "bWDAwg6TLUt-",
    "outputId": "1276ee22-52a1-4fb3-af5d-3c7030e063c8"
   },
   "outputs": [
    {
     "data": {
      "text/plain": [
       "'A'"
      ]
     },
     "execution_count": 95,
     "metadata": {},
     "output_type": "execute_result"
    }
   ],
   "source": [
    "min ('Apurba Halder')"
   ]
  },
  {
   "cell_type": "code",
   "execution_count": 97,
   "metadata": {
    "colab": {
     "base_uri": "https://localhost:8080/"
    },
    "id": "Z2dgEqi7LU1A",
    "outputId": "4decb050-6570-4974-b9a2-0aea95e081ca"
   },
   "outputs": [
    {
     "data": {
      "text/plain": [
       "['u', 'r', 'r', 'p', 'l', 'e', 'd', 'b', 'a', 'a', 'H', 'A', ' ']"
      ]
     },
     "execution_count": 97,
     "metadata": {},
     "output_type": "execute_result"
    }
   ],
   "source": [
    "sorted ('Apurba Halder', reverse=True)"
   ]
  },
  {
   "cell_type": "markdown",
   "metadata": {
    "id": "yHlmb_KxMf6f"
   },
   "source": [
    "## Capitalize/Title/Upper/Lower/Swapcase"
   ]
  },
  {
   "cell_type": "code",
   "execution_count": 101,
   "metadata": {
    "colab": {
     "base_uri": "https://localhost:8080/"
    },
    "id": "Ycqnmb-HMgyz",
    "outputId": "0a2bacaf-1c07-47b1-86e5-d5c386d40b7d"
   },
   "outputs": [
    {
     "data": {
      "text/plain": [
       "'Working late night'"
      ]
     },
     "execution_count": 101,
     "metadata": {},
     "output_type": "execute_result"
    }
   ],
   "source": [
    "s = 'working late night'\n",
    "s.capitalize()"
   ]
  },
  {
   "cell_type": "code",
   "execution_count": 102,
   "metadata": {
    "colab": {
     "base_uri": "https://localhost:8080/",
     "height": 36
    },
    "id": "KIBQhMj6L1iK",
    "outputId": "9ac3fa30-6744-4aea-89c0-0d1b3c986375"
   },
   "outputs": [
    {
     "data": {
      "text/plain": [
       "'Working Late Night'"
      ]
     },
     "execution_count": 102,
     "metadata": {},
     "output_type": "execute_result"
    }
   ],
   "source": [
    "s.title()"
   ]
  },
  {
   "cell_type": "code",
   "execution_count": 103,
   "metadata": {
    "colab": {
     "base_uri": "https://localhost:8080/",
     "height": 36
    },
    "id": "TPo-CYKWL25K",
    "outputId": "f6375733-fdf6-419f-8078-1ecb781aa9e3"
   },
   "outputs": [
    {
     "data": {
      "text/plain": [
       "'WORKING LATE NIGHT'"
      ]
     },
     "execution_count": 103,
     "metadata": {},
     "output_type": "execute_result"
    }
   ],
   "source": [
    "s.upper()"
   ]
  },
  {
   "cell_type": "code",
   "execution_count": 104,
   "metadata": {
    "colab": {
     "base_uri": "https://localhost:8080/",
     "height": 36
    },
    "id": "8ghClhVBL4Ed",
    "outputId": "bb407478-285c-4e88-ee16-093f50a6a9b3"
   },
   "outputs": [
    {
     "data": {
      "text/plain": [
       "'working late night'"
      ]
     },
     "execution_count": 104,
     "metadata": {},
     "output_type": "execute_result"
    }
   ],
   "source": [
    "s.lower()"
   ]
  },
  {
   "cell_type": "code",
   "execution_count": 105,
   "metadata": {
    "colab": {
     "base_uri": "https://localhost:8080/",
     "height": 36
    },
    "id": "Ac6I82JdL4bD",
    "outputId": "1034a753-bf8f-49aa-8139-27b11e8007b3"
   },
   "outputs": [
    {
     "data": {
      "text/plain": [
       "'wHaT IS tHiS'"
      ]
     },
     "execution_count": 105,
     "metadata": {},
     "output_type": "execute_result"
    }
   ],
   "source": [
    "'WhAt is ThIs'.swapcase()"
   ]
  },
  {
   "cell_type": "markdown",
   "metadata": {
    "id": "3iq5s2cnMhkE"
   },
   "source": [
    "## Count/Find/Index"
   ]
  },
  {
   "cell_type": "code",
   "execution_count": 107,
   "metadata": {
    "colab": {
     "base_uri": "https://localhost:8080/"
    },
    "id": "puAH2DgBMmNd",
    "outputId": "8d4fbf2d-08f3-408c-9401-b40897e5ae2f"
   },
   "outputs": [
    {
     "data": {
      "text/plain": [
       "3"
      ]
     },
     "execution_count": 107,
     "metadata": {},
     "output_type": "execute_result"
    }
   ],
   "source": [
    "'My name is Apurba Halder'.count('a')"
   ]
  },
  {
   "cell_type": "code",
   "execution_count": 110,
   "metadata": {
    "colab": {
     "base_uri": "https://localhost:8080/"
    },
    "id": "KK5lf-TyMbCR",
    "outputId": "3ef39fa4-db4a-4bca-e3a8-9cee6aefa6a9"
   },
   "outputs": [
    {
     "data": {
      "text/plain": [
       "-1"
      ]
     },
     "execution_count": 110,
     "metadata": {},
     "output_type": "execute_result"
    }
   ],
   "source": [
    "'My name is Apurba Halder'.find('x')"
   ]
  },
  {
   "cell_type": "code",
   "execution_count": 114,
   "metadata": {
    "colab": {
     "base_uri": "https://localhost:8080/",
     "height": 169
    },
    "id": "rkm5UBY3McKS",
    "outputId": "cb6a621b-5f30-4dbf-d5f4-433b79a4d1c4"
   },
   "outputs": [
    {
     "data": {
      "text/plain": [
       "8"
      ]
     },
     "execution_count": 114,
     "metadata": {},
     "output_type": "execute_result"
    }
   ],
   "source": [
    "'My name is Apurba Halder'.index('is')"
   ]
  },
  {
   "cell_type": "markdown",
   "metadata": {
    "id": "MrsT5bJuMmqs"
   },
   "source": [
    "## endswith/startswith"
   ]
  },
  {
   "cell_type": "code",
   "execution_count": 116,
   "metadata": {
    "colab": {
     "base_uri": "https://localhost:8080/"
    },
    "id": "TbyYTHMxMpbZ",
    "outputId": "2f76966f-8f4c-45d0-958d-979bf5d181a8"
   },
   "outputs": [
    {
     "data": {
      "text/plain": [
       "False"
      ]
     },
     "execution_count": 116,
     "metadata": {},
     "output_type": "execute_result"
    }
   ],
   "source": [
    "'My name is Apurba Halder'.endswith('rba')"
   ]
  },
  {
   "cell_type": "code",
   "execution_count": 118,
   "metadata": {
    "colab": {
     "base_uri": "https://localhost:8080/"
    },
    "id": "gpR1WiKEM8Am",
    "outputId": "eb1e9b53-edd6-4185-96eb-ed39359b6dc0"
   },
   "outputs": [
    {
     "data": {
      "text/plain": [
       "True"
      ]
     },
     "execution_count": 118,
     "metadata": {},
     "output_type": "execute_result"
    }
   ],
   "source": [
    "'My name is Apurba Halder'.startswith('My')"
   ]
  },
  {
   "cell_type": "markdown",
   "metadata": {
    "id": "0A9eNV0YMqHg"
   },
   "source": [
    "## format"
   ]
  },
  {
   "cell_type": "code",
   "execution_count": 119,
   "metadata": {
    "colab": {
     "base_uri": "https://localhost:8080/",
     "height": 36
    },
    "id": "p9zAoUNjMtAC",
    "outputId": "e25d4cd5-22eb-4dde-9cd8-d80dd26524b9"
   },
   "outputs": [
    {
     "data": {
      "text/plain": [
       "'My name is Apurba and I am a Male'"
      ]
     },
     "execution_count": 119,
     "metadata": {},
     "output_type": "execute_result"
    }
   ],
   "source": [
    "name = 'Apurba'\n",
    "gender = 'Male'\n",
    "\n",
    "'My name is {} and I am a {}'.format(name,gender)"
   ]
  },
  {
   "cell_type": "markdown",
   "metadata": {
    "id": "vKc81z_fMvIn"
   },
   "source": [
    "## isalnum/ isalpha/ isdigit/ isidentifier"
   ]
  },
  {
   "cell_type": "code",
   "execution_count": 123,
   "metadata": {
    "colab": {
     "base_uri": "https://localhost:8080/"
    },
    "id": "v2vFZEfCMv6c",
    "outputId": "72821996-f172-4dad-8ae1-d5a2d877eb4b"
   },
   "outputs": [
    {
     "data": {
      "text/plain": [
       "True"
      ]
     },
     "execution_count": 123,
     "metadata": {},
     "output_type": "execute_result"
    }
   ],
   "source": [
    "'Apurba1903'.isalnum()"
   ]
  },
  {
   "cell_type": "code",
   "execution_count": 125,
   "metadata": {
    "colab": {
     "base_uri": "https://localhost:8080/"
    },
    "id": "_AJvibg9OT-K",
    "outputId": "65c06e50-18c9-41da-cfd0-89e8d00e7fa4"
   },
   "outputs": [
    {
     "data": {
      "text/plain": [
       "True"
      ]
     },
     "execution_count": 125,
     "metadata": {},
     "output_type": "execute_result"
    }
   ],
   "source": [
    "'Apurba'.isalpha()"
   ]
  },
  {
   "cell_type": "code",
   "execution_count": 127,
   "metadata": {
    "colab": {
     "base_uri": "https://localhost:8080/"
    },
    "id": "JLt0leaVOUGV",
    "outputId": "0ddcf634-5c80-4fc3-8136-2c5f5885ea93"
   },
   "outputs": [
    {
     "data": {
      "text/plain": [
       "True"
      ]
     },
     "execution_count": 127,
     "metadata": {},
     "output_type": "execute_result"
    }
   ],
   "source": [
    "'1903'.isdigit()"
   ]
  },
  {
   "cell_type": "code",
   "execution_count": 130,
   "metadata": {
    "colab": {
     "base_uri": "https://localhost:8080/"
    },
    "id": "V3NeoIviOUPa",
    "outputId": "cbd92200-d8d1-40bb-82bd-4a7cabe0745d"
   },
   "outputs": [
    {
     "data": {
      "text/plain": [
       "False"
      ]
     },
     "execution_count": 130,
     "metadata": {},
     "output_type": "execute_result"
    }
   ],
   "source": [
    "'Apurba-H'.isidentifier()"
   ]
  },
  {
   "cell_type": "markdown",
   "metadata": {
    "id": "CkR9E0ywMyPE"
   },
   "source": [
    "## Split/Join"
   ]
  },
  {
   "cell_type": "code",
   "execution_count": 139,
   "metadata": {
    "colab": {
     "base_uri": "https://localhost:8080/"
    },
    "id": "82_UJMr7M0VC",
    "outputId": "f9fc2cd4-f718-4a72-fa56-24384f5a1337"
   },
   "outputs": [
    {
     "data": {
      "text/plain": [
       "['Apurba', 'Halder', 'is', 'programming']"
      ]
     },
     "execution_count": 139,
     "metadata": {},
     "output_type": "execute_result"
    }
   ],
   "source": [
    "'Apurba Halder is programming'.split()"
   ]
  },
  {
   "cell_type": "code",
   "execution_count": 141,
   "metadata": {
    "colab": {
     "base_uri": "https://localhost:8080/",
     "height": 36
    },
    "id": "OmLemRVTO2Qq",
    "outputId": "9597fe72-5c6e-4216-db68-1aee43a8fe87"
   },
   "outputs": [
    {
     "data": {
      "text/plain": [
       "'Apurba Halder is programming'"
      ]
     },
     "execution_count": 141,
     "metadata": {},
     "output_type": "execute_result"
    }
   ],
   "source": [
    "' '.join(['Apurba', 'Halder', 'is', 'programming'])"
   ]
  },
  {
   "cell_type": "markdown",
   "metadata": {
    "id": "30p7nlw_M4M1"
   },
   "source": [
    "## Replace"
   ]
  },
  {
   "cell_type": "code",
   "execution_count": 143,
   "metadata": {
    "colab": {
     "base_uri": "https://localhost:8080/",
     "height": 36
    },
    "id": "vuobYzSTM5F-",
    "outputId": "31fc9c0a-80e1-42be-de9f-d8cb2ce800a8"
   },
   "outputs": [
    {
     "data": {
      "text/plain": [
       "'Nitish Halder is programming'"
      ]
     },
     "execution_count": 143,
     "metadata": {},
     "output_type": "execute_result"
    }
   ],
   "source": [
    "'Apurba Halder is programming'.replace('Apurba','Nitish')"
   ]
  },
  {
   "cell_type": "markdown",
   "metadata": {
    "id": "YqdGvSgFM5hW"
   },
   "source": [
    "## Strip"
   ]
  },
  {
   "cell_type": "code",
   "execution_count": 145,
   "metadata": {
    "colab": {
     "base_uri": "https://localhost:8080/",
     "height": 36
    },
    "id": "AkWgOFpPM6wq",
    "outputId": "0d50c002-3615-44af-9a7a-74f1874d796c"
   },
   "outputs": [
    {
     "data": {
      "text/plain": [
       "'Apurba'"
      ]
     },
     "execution_count": 145,
     "metadata": {},
     "output_type": "execute_result"
    }
   ],
   "source": [
    "'Apurba              '.strip()"
   ]
  }
 ],
 "metadata": {
  "colab": {
   "provenance": []
  },
  "kernelspec": {
   "display_name": "Python 3 (ipykernel)",
   "language": "python",
   "name": "python3"
  },
  "language_info": {
   "codemirror_mode": {
    "name": "ipython",
    "version": 3
   },
   "file_extension": ".py",
   "mimetype": "text/x-python",
   "name": "python",
   "nbconvert_exporter": "python",
   "pygments_lexer": "ipython3",
   "version": "3.10.13"
  }
 },
 "nbformat": 4,
 "nbformat_minor": 4
}
