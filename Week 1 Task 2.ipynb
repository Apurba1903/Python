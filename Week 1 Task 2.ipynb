{
 "cells": [
  {
   "cell_type": "markdown",
   "metadata": {
    "id": "w6RlOAXV2PWh"
   },
   "source": [
    "### `Problem 1`: Write a program that will give you in hand monthly salary after deduction on CTC - HRA(10%), DA(5%), PF(3%) and taxes deduction as below:\n",
    "\n",
    "> Salary(Lakhs) : Tax(%)\n",
    "\n",
    "*   Below 5 : 0%\n",
    "*   5-10 : 10%\n",
    "*   10-20 : 20%\n",
    "*   aboove 20 : 30%"
   ]
  },
  {
   "cell_type": "code",
   "execution_count": 7,
   "metadata": {
    "id": "7tMHvKYO2etI"
   },
   "outputs": [
    {
     "name": "stdin",
     "output_type": "stream",
     "text": [
      "Enter your annual Salary : 1200000\n"
     ]
    },
    {
     "name": "stdout",
     "output_type": "stream",
     "text": [
      "Your salary after Tax is :  65600.0\n"
     ]
    }
   ],
   "source": [
    "\n",
    "CTC = int (input('Enter your annual Salary :'))\n",
    "\n",
    "if CTC < 500000:\n",
    "    after_Tax = CTC\n",
    "elif CTC > 500000 and CTC < 1000000:\n",
    "    after_Tax = CTC * 0.90\n",
    "elif CTC > 1000000 and CTC < 2000000:\n",
    "    after_Tax = CTC * 0.80\n",
    "else :\n",
    "    after_Tax = CTC * 0.70\n",
    "\n",
    "Tax_deduction = (after_Tax - (after_Tax * 0.18)) / 12\n",
    "\n",
    "print ('Your salary after Tax is : ', Tax_deduction)\n"
   ]
  },
  {
   "cell_type": "markdown",
   "metadata": {
    "id": "tYzCGqwl2hfN"
   },
   "source": [
    "### `Problem 2`: Write a program that take a user input of three angles and will find out whether it can form a triangle or not."
   ]
  },
  {
   "cell_type": "code",
   "execution_count": 9,
   "metadata": {
    "id": "FYEqln-I2kxV"
   },
   "outputs": [
    {
     "name": "stdin",
     "output_type": "stream",
     "text": [
      "Enter 1st angle : 50\n",
      "Enter 2nd angle : 100\n",
      "Enter 3rd angle : 40\n"
     ]
    },
    {
     "name": "stdout",
     "output_type": "stream",
     "text": [
      "No Triangle can be formed.\n"
     ]
    }
   ],
   "source": [
    "first = float (input('Enter 1st angle :'))\n",
    "second = float (input('Enter 2nd angle :'))\n",
    "third = float (input('Enter 3rd angle :'))\n",
    "\n",
    "Sum = first + second + third\n",
    "\n",
    "if Sum == 180 and first>0 and second>0 and third>0:\n",
    "    print ('It can form a triangle.')\n",
    "else:\n",
    "    print ('No Triangle can be formed.')\n"
   ]
  },
  {
   "cell_type": "markdown",
   "metadata": {
    "id": "5vEpPh8C2pE4"
   },
   "source": [
    "### `Problem 3`: Write a program that will take user input of cost price and selling price and determines whether its a loss or a profit."
   ]
  },
  {
   "cell_type": "code",
   "execution_count": 12,
   "metadata": {
    "id": "jDwBXlkO2sfl"
   },
   "outputs": [
    {
     "name": "stdin",
     "output_type": "stream",
     "text": [
      "Enter the buying price : 50\n",
      "Enter the selling price : 50\n"
     ]
    },
    {
     "name": "stdout",
     "output_type": "stream",
     "text": [
      "No Profit and No Loss\n"
     ]
    }
   ],
   "source": [
    "cost = float (input('Enter the buying price :'))\n",
    "sell = float (input('Enter the selling price :'))\n",
    "\n",
    "if cost<sell:\n",
    "    print ('You made a profit.')\n",
    "elif cost>sell:\n",
    "    print ('You made a loss.')\n",
    "else:\n",
    "    print ('No Profit and No Loss')"
   ]
  },
  {
   "cell_type": "markdown",
   "metadata": {
    "id": "J_FG_cJW2ugT"
   },
   "source": [
    "### `Problem 4`: Write a menu-driven program -\n",
    "1. cm to ft\n",
    "2. km to miles\n",
    "3. USD to INR\n",
    "4. exit"
   ]
  },
  {
   "cell_type": "code",
   "execution_count": 21,
   "metadata": {
    "id": "yBHhaCGQ2zpD"
   },
   "outputs": [
    {
     "name": "stdin",
     "output_type": "stream",
     "text": [
      "\n",
      "Hello! Which conversion would you like to do today?\n",
      "1. CM to Ft\n",
      "2. KM to Mi\n",
      "3. USD to BDT\n",
      "4. Exit\n",
      " 4\n"
     ]
    }
   ],
   "source": [
    "button = input(\"\"\"\n",
    "Hello! Which conversion would you like to do today?\n",
    "1. CM to Ft\n",
    "2. KM to Mi\n",
    "3. USD to BDT\n",
    "4. Exit\n",
    "\"\"\")\n",
    "\n",
    "if button == '1':\n",
    "    cm = float(input ('Enter CM : '))\n",
    "    ft = cm*0.032\n",
    "    print ('Ft = ', ft)\n",
    "elif button == '2':\n",
    "    km = float(input ('Enter KM : '))\n",
    "    mi = km*0.62\n",
    "    print ('Mi = ', mi)\n",
    "elif button == '3':\n",
    "    USD = float(input ('Enter USD : '))\n",
    "    BDT = USD*121.47\n",
    "    print ('BDT = ', BDT)\n",
    "elif button == '4':\n",
    "    print ('Thank You, Come Again')\n",
    "else:\n",
    "    print ('Enter a valid Number')\n"
   ]
  },
  {
   "cell_type": "markdown",
   "metadata": {
    "id": "LJJ30_Yw27ZU"
   },
   "source": [
    "### `Problem 5` - Exercise 12: Display Fibonacci series up to 10 terms.\n",
    "\n",
    "*Note: The Fibonacci Sequence is a series of numbers. The next number is found by adding up the two numbers before it. The first two numbers are 0 and 1. For example, 0, 1, 1, 2, 3, 5, 8, 13, 21. The next number in this series above is 13+21 = 34*"
   ]
  },
  {
   "cell_type": "code",
   "execution_count": 1,
   "metadata": {
    "id": "ae_1rpe52-5R"
   },
   "outputs": [
    {
     "name": "stdout",
     "output_type": "stream",
     "text": [
      "0\n",
      "1\n",
      "1\n",
      "2\n",
      "3\n",
      "5\n",
      "8\n",
      "13\n",
      "21\n",
      "34\n"
     ]
    }
   ],
   "source": [
    "num1 = 0\n",
    "num2 = 1\n",
    "\n",
    "for i in range (10):\n",
    "    print (num1)\n",
    "\n",
    "    next = num1 + num2\n",
    "\n",
    "    num1 = num2\n",
    "    num2 = next"
   ]
  },
  {
   "cell_type": "markdown",
   "metadata": {
    "id": "pk_I_S4m3PT5"
   },
   "source": [
    "### `Problem 6` - Find the factorial of a given number.\n",
    "\n",
    "Write a program to use the loop to find the factorial of a given number.\n",
    "\n",
    "The factorial (symbol: `!`) means to multiply all whole numbers from the chosen number down to 1.\n",
    "\n",
    "For example: calculate the factorial of 5\n",
    "\n",
    "```bash\n",
    "5! = 5 × 4 × 3 × 2 × 1 = 120\n",
    "```\n",
    "\n",
    "Output:\n",
    "\n",
    "```bash\n",
    "120\n",
    "```"
   ]
  },
  {
   "cell_type": "code",
   "execution_count": 4,
   "metadata": {
    "id": "lzXxHegx3Rkc"
   },
   "outputs": [
    {
     "name": "stdin",
     "output_type": "stream",
     "text": [
      "Enter the number :  5\n"
     ]
    },
    {
     "name": "stdout",
     "output_type": "stream",
     "text": [
      "120\n"
     ]
    }
   ],
   "source": [
    "num = int (input('Enter the number : '))\n",
    "\n",
    "fact = 1\n",
    "for i in range (1, num+1):\n",
    "    fact = fact*i\n",
    "\n",
    "print (fact)\n"
   ]
  },
  {
   "cell_type": "markdown",
   "metadata": {
    "id": "-17IOi-g3UpU"
   },
   "source": [
    "### `Problem 7` - Reverse a given integer number.\n",
    "\n",
    "Example:\n",
    "\n",
    "`Input:`\n",
    "\n",
    "```bash\n",
    "76542\n",
    "```\n",
    "\n",
    "`Output:`\n",
    "\n",
    "```bash\n",
    "24567\n",
    "```"
   ]
  },
  {
   "cell_type": "code",
   "execution_count": 5,
   "metadata": {
    "id": "wJwLpKCr3aVA"
   },
   "outputs": [
    {
     "name": "stdin",
     "output_type": "stream",
     "text": [
      "Enter the Number:  567890432\n"
     ]
    },
    {
     "name": "stdout",
     "output_type": "stream",
     "text": [
      "234098765\n"
     ]
    }
   ],
   "source": [
    "number = int(input('Enter the Number: '))\n",
    "\n",
    "rev = 0\n",
    "\n",
    "while number>0:\n",
    "    last = number % 10\n",
    "    rev = rev*10 + last\n",
    "    number = number // 10\n",
    "\n",
    "print(rev)"
   ]
  },
  {
   "cell_type": "markdown",
   "metadata": {
    "id": "-t8PJQaY3sHf"
   },
   "source": [
    "### `Problem 8`: Take a user input as integer N. Find out the sum from 1 to N. If any number if divisible by 5, then skip that number. And if the sum is greater than 300, don't need to calculate the sum further more. Print the final result. And don't use for loop to solve this problem.\n",
    "\n",
    "**Example 1:**\n",
    "\n",
    "`Input:`\n",
    "\n",
    "```bash\n",
    "30\n",
    "```\n",
    "\n",
    "`Output:`\n",
    "\n",
    "```bash\n",
    "276\n",
    "```"
   ]
  },
  {
   "cell_type": "code",
   "execution_count": 10,
   "metadata": {
    "id": "GZB6mGMP3ujT"
   },
   "outputs": [
    {
     "name": "stdin",
     "output_type": "stream",
     "text": [
      "Enter the number:  10\n"
     ]
    },
    {
     "name": "stdout",
     "output_type": "stream",
     "text": [
      "40\n"
     ]
    }
   ],
   "source": [
    "\n",
    "n = int(input('Enter the number: '))\n",
    "\n",
    "sum = 0\n",
    "i = 1\n",
    "\n",
    "while i < n+1:\n",
    "    \n",
    "    if i % 5 == 0:\n",
    "        i +=1\n",
    "        continue\n",
    "\n",
    "    sum = sum + i\n",
    "\n",
    "    if sum > 300:\n",
    "        sum = sum - i\n",
    "        break\n",
    "        \n",
    "    i +=1\n",
    "    \n",
    "print (sum)\n",
    "    "
   ]
  },
  {
   "cell_type": "markdown",
   "metadata": {
    "id": "Q7ggImeA3xm4"
   },
   "source": [
    "### `Problem 9`: Write a program that keeps on accepting a number from the user until the user enters Zero. Display the sum and average of all the numbers."
   ]
  },
  {
   "cell_type": "code",
   "execution_count": 12,
   "metadata": {
    "id": "t_YDSZDe4Kdo"
   },
   "outputs": [
    {
     "name": "stdin",
     "output_type": "stream",
     "text": [
      "Enter Number:  1\n",
      "Enter Number:  2\n",
      "Enter Number:  3\n",
      "Enter Number:  4\n",
      "Enter Number:  5\n",
      "Enter Number:  0\n"
     ]
    },
    {
     "name": "stdout",
     "output_type": "stream",
     "text": [
      "Sum =  15\n",
      "Average =  3.0\n"
     ]
    }
   ],
   "source": [
    "\n",
    "sum = 0\n",
    "count = 0\n",
    "\n",
    "while True:\n",
    "    num = int(input('Enter Number: '))\n",
    "    if num == 0:\n",
    "        break\n",
    "    sum = sum + num\n",
    "    count = count + 1\n",
    "\n",
    "print ('Sum = ', sum)\n",
    "print ('Average = ', sum/count)\n",
    "\n"
   ]
  },
  {
   "cell_type": "markdown",
   "metadata": {
    "id": "6EhvEMvm4R7s"
   },
   "source": [
    "`Problem 9`: Write a program which will find all such numbers which are divisible by 7 but are not a multiple of 5, between 2000 and 3200 (both included). The numbers obtained should be printed in a comma-separated sequence on a single line."
   ]
  },
  {
   "cell_type": "code",
   "execution_count": 17,
   "metadata": {
    "id": "d6RgP1B34T6c"
   },
   "outputs": [
    {
     "name": "stdout",
     "output_type": "stream",
     "text": [
      "2002,2009,2016,2023,2037,2044,2051,2058,2072,2079,2086,2093,2107,2114,2121,2128,2142,2149,2156,2163,2177,2184,2191,2198,2212,2219,2226,2233,2247,2254,2261,2268,2282,2289,2296,2303,2317,2324,2331,2338,2352,2359,2366,2373,2387,2394,2401,2408,2422,2429,2436,2443,2457,2464,2471,2478,2492,2499,2506,2513,2527,2534,2541,2548,2562,2569,2576,2583,2597,2604,2611,2618,2632,2639,2646,2653,2667,2674,2681,2688,2702,2709,2716,2723,2737,2744,2751,2758,2772,2779,2786,2793,2807,2814,2821,2828,2842,2849,2856,2863,2877,2884,2891,2898,2912,2919,2926,2933,2947,2954,2961,2968,2982,2989,2996,3003,3017,3024,3031,3038,3052,3059,3066,3073,3087,3094,3101,3108,3122,3129,3136,3143,3157,3164,3171,3178,3192,3199\n"
     ]
    }
   ],
   "source": [
    "L = []\n",
    "for i in range (2000,3201):\n",
    "    if i%7==0 and i%5!=0:\n",
    "        L.append(str(i))\n",
    "\n",
    "print (\",\".join(L))"
   ]
  },
  {
   "cell_type": "markdown",
   "metadata": {
    "id": "tYvmRR-G4Vp4"
   },
   "source": [
    "###`Problem 10`: Write a program, which will find all such numbers between 1000 and 3000 (both included) such that each digit of the number is an even number. The numbers obtained should be printed in a space-separated sequence on a single line.\n",
    "\n"
   ]
  },
  {
   "cell_type": "code",
   "execution_count": 20,
   "metadata": {
    "id": "k6Gs1kIf4k19"
   },
   "outputs": [
    {
     "name": "stdout",
     "output_type": "stream",
     "text": [
      "2000,2002,2004,2006,2008,2020,2022,2024,2026,2028,2040,2042,2044,2046,2048,2060,2062,2064,2066,2068,2080,2082,2084,2086,2088,2200,2202,2204,2206,2208,2220,2222,2224,2226,2228,2240,2242,2244,2246,2248,2260,2262,2264,2266,2268,2280,2282,2284,2286,2288,2400,2402,2404,2406,2408,2420,2422,2424,2426,2428,2440,2442,2444,2446,2448,2460,2462,2464,2466,2468,2480,2482,2484,2486,2488,2600,2602,2604,2606,2608,2620,2622,2624,2626,2628,2640,2642,2644,2646,2648,2660,2662,2664,2666,2668,2680,2682,2684,2686,2688,2800,2802,2804,2806,2808,2820,2822,2824,2826,2828,2840,2842,2844,2846,2848,2860,2862,2864,2866,2868,2880,2882,2884,2886,2888\n"
     ]
    }
   ],
   "source": [
    "L = []\n",
    "for i in range (1000,3001):\n",
    "    flag = True\n",
    "\n",
    "    curr = i\n",
    "\n",
    "    while curr > 0:\n",
    "        last = curr%10\n",
    "        if last%2 !=0:\n",
    "            flag = False\n",
    "            break\n",
    "        curr = curr // 10\n",
    "\n",
    "    if flag:\n",
    "        L.append(str(i))\n",
    "        \n",
    "print (\",\".join(L))    "
   ]
  },
  {
   "cell_type": "markdown",
   "metadata": {
    "id": "GV18IINT4mf5"
   },
   "source": [
    "###`Problem 11`: A robot moves in a plane starting from the original point (0,0). The robot can move toward UP, DOWN, LEFT and RIGHT with a given steps.\n",
    "The trace of robot movement is shown as the following:\n",
    "```\n",
    "UP 5\n",
    "DOWN 3\n",
    "LEFT 3\n",
    "RIGHT 2\n",
    "!\n",
    "```\n",
    "> The numbers after the direction are steps.\n",
    "\n",
    "> `!` means robot stop there.\n",
    "\n",
    "**Please write a program to compute the distance from current position after a sequence of movement and original point.**\n",
    "\n",
    "*If the distance is a float, then just print the nearest integer.*\n",
    "\n",
    "Example:\n",
    "\n",
    "`Input`:\n",
    "```\n",
    "UP 5\n",
    "DOWN 3\n",
    "LEFT 3\n",
    "RIGHT 2\n",
    "!\n",
    "```\n",
    "`Output`:\n",
    "```\n",
    "2\n",
    "```"
   ]
  },
  {
   "cell_type": "code",
   "execution_count": 27,
   "metadata": {
    "id": "6UNMC2aR4w5x"
   },
   "outputs": [
    {
     "name": "stdin",
     "output_type": "stream",
     "text": [
      "Enter the Robot Path:  UP 5\n",
      "Enter the Robot Path:  RIGHT 7\n",
      "Enter the Robot Path:  !\n"
     ]
    },
    {
     "name": "stdout",
     "output_type": "stream",
     "text": [
      "New Position:  [7, 5]\n",
      "8.602325267042627\n"
     ]
    }
   ],
   "source": [
    "\n",
    "pos = [0,0]\n",
    "\n",
    "while True:\n",
    "    s = input ('Enter the Robot Path: ')\n",
    "    if s == '!':\n",
    "        break\n",
    "    direction = s.split()[0]\n",
    "    steps = int (s.split()[1])\n",
    "\n",
    "    if direction == 'UP':\n",
    "        pos[1] = pos[1] + steps\n",
    "    elif direction == 'DOWN':\n",
    "        pos[1] = pos[1] - steps\n",
    "    elif direction == 'LEFT':\n",
    "        pos[0] = pos[0] - steps\n",
    "    elif direction == 'RIGHT':\n",
    "        pos[0] = pos[0] + steps\n",
    "    else:\n",
    "        pass\n",
    "\n",
    "final_position = ((pos[0]**2 + pos[1]**2)**0.5)\n",
    "print ('New Position: ',pos)\n",
    "print (final_position)\n"
   ]
  },
  {
   "cell_type": "markdown",
   "metadata": {
    "id": "3fsAIAhK5GYY"
   },
   "source": [
    "###`Problem 12`:Write a program to print whether a given number is a prime number or not"
   ]
  },
  {
   "cell_type": "code",
   "execution_count": 33,
   "metadata": {
    "id": "j6y91lxy5LZs"
   },
   "outputs": [
    {
     "name": "stdin",
     "output_type": "stream",
     "text": [
      "Enter the Number :  9\n"
     ]
    },
    {
     "name": "stdout",
     "output_type": "stream",
     "text": [
      "Not Prime\n"
     ]
    }
   ],
   "source": [
    "\n",
    "num = int (input('Enter the Number : '))\n",
    "\n",
    "flag = True\n",
    "for i in range (2,num-1):\n",
    "    if num%i == 0:\n",
    "        flag = False\n",
    "        break\n",
    "\n",
    "if flag == True:\n",
    "    print ('Prime')\n",
    "else:\n",
    "    print ('Not Prime')\n"
   ]
  },
  {
   "cell_type": "markdown",
   "metadata": {
    "id": "asAbmbK-5NHv"
   },
   "source": [
    "###`Problem 13`:Print all the Armstrong numbers in a given range.\n",
    "Range will be provided by the user<br>\n",
    "Armstrong number is a number that is equal to the sum of cubes of its digits. For example 0, 1, 153, 370, 371 and 407 are the Armstrong numbers."
   ]
  },
  {
   "cell_type": "code",
   "execution_count": 35,
   "metadata": {
    "id": "PZuI67pm5jCT"
   },
   "outputs": [
    {
     "name": "stdin",
     "output_type": "stream",
     "text": [
      "Enter the start of the Range: 1\n",
      "Enter the end of the Range: 200\n"
     ]
    },
    {
     "name": "stdout",
     "output_type": "stream",
     "text": [
      "1\n",
      "2\n",
      "3\n",
      "4\n",
      "5\n",
      "6\n",
      "7\n",
      "8\n",
      "9\n",
      "153\n"
     ]
    }
   ],
   "source": [
    "start = int(input('Enter the start of the Range:'))\n",
    "end = int(input('Enter the end of the Range:'))\n",
    "\n",
    "for num in range (start, end+1):\n",
    "    temp = num\n",
    "    sum = 0\n",
    "    order = len (str(num))\n",
    "    while temp > 0:\n",
    "        digit = temp % 10\n",
    "        sum += digit ** order\n",
    "        temp = temp // 10\n",
    "    if num == sum:\n",
    "        print (num)\n",
    "\n",
    "\n"
   ]
  },
  {
   "cell_type": "markdown",
   "metadata": {
    "id": "ClCQZMqT7gK0"
   },
   "source": [
    "###`Problem 14`:Calculate the angle between the hour hand and minute hand.\n",
    "\n",
    "Note: There can be two angles between hands; we need to print a minimum of two. Also, we need to print the floor of the final result angle. For example, if the final angle is 10.61, we need to print 10.\n",
    "\n",
    "Input:<br>\n",
    "H = 9 , M = 0<br>\n",
    "Output:<br>\n",
    "90<br>\n",
    "Explanation:<br>\n",
    "The minimum angle between hour and minute\n",
    "hand when the time is 9 is 90 degress."
   ]
  },
  {
   "cell_type": "code",
   "execution_count": 36,
   "metadata": {
    "id": "tNBTCZML7jy_"
   },
   "outputs": [
    {
     "name": "stdin",
     "output_type": "stream",
     "text": [
      "Enter the hour's hand:  6\n",
      "Enter the minute's hand:  30\n"
     ]
    },
    {
     "name": "stdout",
     "output_type": "stream",
     "text": [
      "The angle is : 15.0\n"
     ]
    }
   ],
   "source": [
    "h = int(input(\"Enter the hour's hand: \"))\n",
    "m = int(input(\"Enter the minute's hand: \"))\n",
    "\n",
    "if (h<0 or m<0 or h>12 or m>60):\n",
    "    print ('Wrong Input')\n",
    "\n",
    "m_angle = m*6\n",
    "h_angle = h*30 + m*0.5\n",
    "\n",
    "angle = abs(h_angle - m_angle)\n",
    "\n",
    "if angle>180:\n",
    "    print ('The angle is :',360-angle)\n",
    "else:\n",
    "    print ('The angle is :',angle)\n",
    "\n"
   ]
  },
  {
   "cell_type": "markdown",
   "metadata": {
    "id": "GwacF9Co72Qc"
   },
   "source": [
    "###`Problem 15`:Given two rectangles, find if the given two rectangles overlap or not. A rectangle is denoted by providing the x and y coordinates of two points: the left top corner and the right bottom corner of the rectangle. Two rectangles sharing a side are considered overlapping. (L1 and R1 are the extreme points of the first rectangle and L2 and R2 are the extreme points of the second rectangle).\n",
    "\n",
    "Note: It may be assumed that the rectangles are parallel to the coordinate axis.\n",
    "\n",
    "<img src='https://www.geeksforgeeks.org/wp-content/uploads/rectanglesOverlap.png' width='300' height='200'>"
   ]
  },
  {
   "cell_type": "code",
   "execution_count": 39,
   "metadata": {
    "id": "6rrw_lpH78Rs"
   },
   "outputs": [
    {
     "name": "stdout",
     "output_type": "stream",
     "text": [
      "Enter the cordinate points of both rectangles.\n"
     ]
    },
    {
     "name": "stdin",
     "output_type": "stream",
     "text": [
      "Enter L1 cordinate values, (Two value space seperated):  0 10\n",
      "Enter R1 cordinate values, (Two value space seperated):  10 0\n",
      "Enter L2 cordinate values, (Two value space seperated):  5 5\n",
      "Enter R2 cordinate values, (Two value space seperated):  15 -5\n"
     ]
    },
    {
     "name": "stdout",
     "output_type": "stream",
     "text": [
      "Overlap\n"
     ]
    }
   ],
   "source": [
    "print('Enter the cordinate points of both rectangles.')\n",
    "\n",
    "l_x1, l_y1 = list(map(int, input('Enter L1 cordinate values, (Two value space seperated): ').split()))\n",
    "r_x1, r_y1 = list(map(int, input('Enter R1 cordinate values, (Two value space seperated): ').split()))\n",
    "\n",
    "l_x2, l_y2 = list(map(int, input('Enter L2 cordinate values, (Two value space seperated): ').split()))\n",
    "r_x2, r_y2 = list(map(int, input('Enter R2 cordinate values, (Two value space seperated): ').split()))\n",
    "\n",
    "if l_x1 == r_x1 or l_y1 == r_y1 or l_x2 == r_x2 or l_y2 == r_y2:\n",
    "    print (\"Don't Overlap\")\n",
    "\n",
    "elif l_x1 > r_x2 or l_x2 > r_x1:\n",
    "    print (\"Don't Overlap\")\n",
    "\n",
    "elif r_y1 > l_y2 or r_y2 > l_y1:\n",
    "    print (\"Don't Overlap\")\n",
    "\n",
    "else:\n",
    "    print(\"Overlap\")\n"
   ]
  },
  {
   "cell_type": "code",
   "execution_count": null,
   "metadata": {},
   "outputs": [],
   "source": []
  }
 ],
 "metadata": {
  "colab": {
   "provenance": []
  },
  "kernelspec": {
   "display_name": "Python 3 (ipykernel)",
   "language": "python",
   "name": "python3"
  },
  "language_info": {
   "codemirror_mode": {
    "name": "ipython",
    "version": 3
   },
   "file_extension": ".py",
   "mimetype": "text/x-python",
   "name": "python",
   "nbconvert_exporter": "python",
   "pygments_lexer": "ipython3",
   "version": "3.10.13"
  }
 },
 "nbformat": 4,
 "nbformat_minor": 4
}
