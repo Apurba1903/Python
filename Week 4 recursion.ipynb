{
 "cells": [
  {
   "cell_type": "code",
   "execution_count": null,
   "metadata": {},
   "outputs": [
    {
     "name": "stdout",
     "output_type": "stream",
     "text": [
      "6\n"
     ]
    }
   ],
   "source": [
    "# Multiply using Loops\n",
    "\n",
    "def multiply(a,b):\n",
    "    \n",
    "    result = 0\n",
    "    \n",
    "    for i in range(b):\n",
    "        result += a\n",
    "    print(result)\n",
    "    \n",
    "    \n",
    "multiply(2,3)"
   ]
  },
  {
   "cell_type": "code",
   "execution_count": 2,
   "metadata": {},
   "outputs": [
    {
     "data": {
      "text/plain": [
       "6"
      ]
     },
     "execution_count": 2,
     "metadata": {},
     "output_type": "execute_result"
    }
   ],
   "source": [
    "# Multiply using Recursion\n",
    "\n",
    "def multiply(a,b):\n",
    "    \n",
    "    if b == 1:\n",
    "        return a\n",
    "    else:\n",
    "        return a + multiply(a,b-1)\n",
    "    \n",
    "    \n",
    "multiply(2,3)"
   ]
  },
  {
   "cell_type": "code",
   "execution_count": null,
   "metadata": {},
   "outputs": [
    {
     "data": {
      "text/plain": [
       "120"
      ]
     },
     "execution_count": 3,
     "metadata": {},
     "output_type": "execute_result"
    }
   ],
   "source": [
    "# Factorial of a given number with Recursion\n",
    "\n",
    "def fact(n):\n",
    "    \n",
    "    if n == 1:\n",
    "        return 1\n",
    "    else:\n",
    "        return n * fact(n-1)\n",
    "    \n",
    "fact(5)"
   ]
  },
  {
   "cell_type": "code",
   "execution_count": null,
   "metadata": {},
   "outputs": [
    {
     "name": "stdout",
     "output_type": "stream",
     "text": [
      "Palindrome\n"
     ]
    }
   ],
   "source": [
    "# Palindrome using Recursion\n",
    "\n",
    "def isPalindrome(s):\n",
    "    \n",
    "    if len(s) == 0 or len(s) == 1:\n",
    "        print('Palindrome')\n",
    "    else:\n",
    "        if s[0] == s[-1]:\n",
    "            isPalindrome(s[1:-1])\n",
    "        else:\n",
    "            print('Not a Palindrome')\n",
    "            \n",
    "            \n",
    "            \n",
    "isPalindrome('madam')    \n",
    "        "
   ]
  },
  {
   "cell_type": "code",
   "execution_count": 17,
   "metadata": {},
   "outputs": [
    {
     "name": "stdout",
     "output_type": "stream",
     "text": [
      "24157817\n",
      "4.012707710266113\n"
     ]
    }
   ],
   "source": [
    "# The Rabbit Problem (Fibonacci Series) in Recursion\n",
    "\n",
    "import time\n",
    "\n",
    "def fib(m):\n",
    "    \n",
    "    if m == 0 or m == 1:\n",
    "        return 1\n",
    "    else:\n",
    "        return fib(m-1) + fib(m-2)\n",
    "    \n",
    "    \n",
    "start = time.time()\n",
    "print(fib(36))\n",
    "print(time.time()-start)"
   ]
  },
  {
   "cell_type": "code",
   "execution_count": 20,
   "metadata": {},
   "outputs": [
    {
     "name": "stdout",
     "output_type": "stream",
     "text": [
      "225591516161936330872512695036072072046011324913758190588638866418474627738686883405015987052796968498626\n",
      "0.0011858940124511719\n"
     ]
    }
   ],
   "source": [
    "# Dynamic Programming (Memoization => Space and Time Trade) \n",
    "\n",
    "import time\n",
    "\n",
    "def memo(n,d):\n",
    "    if n in d:\n",
    "        return d[n]\n",
    "    else:\n",
    "        d[n] = memo(n-1,d) + memo(n-2,d)\n",
    "        return d[n]\n",
    "\n",
    "start = time.time()\n",
    "d = {0:1 , 1:1}\n",
    "print(memo(500,d))\n",
    "print(time.time()-start)"
   ]
  },
  {
   "cell_type": "code",
   "execution_count": null,
   "metadata": {},
   "outputs": [
    {
     "name": "stdout",
     "output_type": "stream",
     "text": [
      "[[], [2], [1], [1, 2]]\n"
     ]
    }
   ],
   "source": [
    "def power_set(lst, index=0, current_subset=None):\n",
    "    if current_subset is None:\n",
    "        current_subset = []\n",
    "    \n",
    "    if index == len(lst):\n",
    "        return [current_subset]\n",
    "    \n",
    "    # Exclude the current element\n",
    "    subsets_excluding = power_set(lst, index + 1, current_subset)\n",
    "    \n",
    "    # Include the current element\n",
    "    subsets_including = power_set(lst, index + 1, current_subset + [lst[index]])\n",
    "    \n",
    "    return subsets_excluding + subsets_including\n",
    "\n",
    "# Example usage\n",
    "input_list = [1, 2]\n",
    "output = power_set(input_list)\n",
    "print(output)"
   ]
  },
  {
   "cell_type": "code",
   "execution_count": null,
   "metadata": {},
   "outputs": [],
   "source": []
  }
 ],
 "metadata": {
  "kernelspec": {
   "display_name": "Python 3",
   "language": "python",
   "name": "python3"
  },
  "language_info": {
   "codemirror_mode": {
    "name": "ipython",
    "version": 3
   },
   "file_extension": ".py",
   "mimetype": "text/x-python",
   "name": "python",
   "nbconvert_exporter": "python",
   "pygments_lexer": "ipython3",
   "version": "3.11.9"
  }
 },
 "nbformat": 4,
 "nbformat_minor": 2
}
