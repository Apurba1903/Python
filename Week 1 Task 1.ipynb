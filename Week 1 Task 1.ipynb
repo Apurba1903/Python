{
 "cells": [
  {
   "cell_type": "markdown",
   "metadata": {
    "id": "A05OG15VqOPF"
   },
   "source": [
    "# Task : Session 1\n",
    "Solve these questions own your own and try to test yourself what you have learned in the session.\n",
    "\n",
    "Happy Learning!"
   ]
  },
  {
   "cell_type": "markdown",
   "metadata": {
    "id": "2doIXf8bqe9_"
   },
   "source": [
    "### Q1 :- Print the given strings as per stated format.\n",
    "\n",
    "**Given strings**:\n",
    "```\n",
    "\"Data\" \"Science\" \"Mentorship\" \"Program\"\n",
    "\"By\" \"CampusX\"\n",
    "```\n",
    "**Output**:\n",
    "```\n",
    "Data-Science-Mentorship-Program-started-By-CampusX\n",
    "```\n",
    "\n",
    "Concept- [Seperator and End]"
   ]
  },
  {
   "cell_type": "code",
   "execution_count": 5,
   "metadata": {
    "id": "-em6d3KErDtp"
   },
   "outputs": [
    {
     "name": "stdout",
     "output_type": "stream",
     "text": [
      "Data-Science-Mentorship-Program-started-By-CampusX\n"
     ]
    }
   ],
   "source": [
    "print (\"Data\", \"Science\", \"Mentorship\", \"Program\", \"started\", \"By\", \"CampusX\", sep=\"-\")"
   ]
  },
  {
   "cell_type": "markdown",
   "metadata": {
    "id": "1KUpN7ZTrC3_"
   },
   "source": [
    "### Q2:- Write a program that will convert celsius value to fahrenheit."
   ]
  },
  {
   "cell_type": "code",
   "execution_count": 22,
   "metadata": {
    "id": "yxKYhYQiqWfj"
   },
   "outputs": [
    {
     "name": "stdout",
     "output_type": "stream",
     "text": [
      "89.6\n"
     ]
    }
   ],
   "source": [
    "c = 32\n",
    "f = c * (9/5) + 32\n",
    "print (f)"
   ]
  },
  {
   "cell_type": "markdown",
   "metadata": {
    "id": "RLrOBBJurLB2"
   },
   "source": [
    "### Q3:- Take 2 numbers as input from the user.Write a program to swap the numbers without using any special python syntax."
   ]
  },
  {
   "cell_type": "code",
   "execution_count": 12,
   "metadata": {
    "id": "yPn7if0TrJ4F"
   },
   "outputs": [
    {
     "name": "stdin",
     "output_type": "stream",
     "text": [
      "Enter First Number :  1904\n",
      "Enter Second Number :  1999\n"
     ]
    },
    {
     "name": "stdout",
     "output_type": "stream",
     "text": [
      "1999 1904\n"
     ]
    }
   ],
   "source": [
    "A = input (\"Enter First Number : \")\n",
    "B = input (\"Enter Second Number : \")\n",
    "c = A\n",
    "A = B\n",
    "B = c\n",
    "print (A,B)\n"
   ]
  },
  {
   "cell_type": "markdown",
   "metadata": {
    "id": "waLCP1bjr7ML"
   },
   "source": [
    "### Q4:- Write a program to find the euclidean distance between two coordinates.Take both the coordinates from the user as input."
   ]
  },
  {
   "cell_type": "code",
   "execution_count": 23,
   "metadata": {
    "id": "Pl1Sv-xnrxnH"
   },
   "outputs": [
    {
     "name": "stdin",
     "output_type": "stream",
     "text": [
      "Enter x1 Value :  0\n",
      "Enter y1 Value :  0\n",
      "Enter x2 Value :  2\n",
      "Enter y2 Value :  2\n"
     ]
    },
    {
     "name": "stdout",
     "output_type": "stream",
     "text": [
      "2.8284271247461903\n"
     ]
    }
   ],
   "source": [
    "x1 = int(input (\"Enter x1 Value : \"))\n",
    "y1 = int(input (\"Enter y1 Value : \"))\n",
    "x2 = int(input (\"Enter x2 Value : \"))\n",
    "y2 = int(input (\"Enter y2 Value : \"))\n",
    "\n",
    "\n",
    "D = (( x2 - x1 ) ** 2 + ( y2 - y1 ) ** 2)**0.5\n",
    "\n",
    "print (D)"
   ]
  },
  {
   "cell_type": "markdown",
   "metadata": {
    "id": "VLrhg-FRsHjR"
   },
   "source": [
    "### Q5:- Write a program to find the simple interest when the value of principle,rate of interest and time period is provided by the user.\n"
   ]
  },
  {
   "cell_type": "code",
   "execution_count": 25,
   "metadata": {
    "id": "s40DlReZsTmY"
   },
   "outputs": [
    {
     "name": "stdin",
     "output_type": "stream",
     "text": [
      "Enter Amount :  10000\n",
      "Enter Maturity Time :  2\n",
      "Enter Interest Rate :  5\n"
     ]
    },
    {
     "name": "stdout",
     "output_type": "stream",
     "text": [
      "1000.0\n"
     ]
    }
   ],
   "source": [
    "p = int (input (\"Enter Amount : \"))\n",
    "t = int (input (\"Enter Maturity Time : \"))\n",
    "r = float (input (\"Enter Interest Rate : \"))\n",
    "\n",
    "si = (p*t*r)/100\n",
    "\n",
    "print (si)"
   ]
  },
  {
   "cell_type": "markdown",
   "metadata": {
    "id": "LMy0BTUktYKa"
   },
   "source": [
    "### Q6:- Write a program that will tell the number of dogs and chicken are there when the user will provide the value of total heads and legs.\n",
    "\n",
    "For example:\n",
    "Input:\n",
    "heads -> 4\n",
    "legs -> 12\n",
    "<br>\n",
    "Output:\n",
    "dogs -> 2\n",
    "chicken -> 2\n",
    "\n",
    "\n",
    "\n"
   ]
  },
  {
   "cell_type": "code",
   "execution_count": 30,
   "metadata": {
    "id": "XSBvJoA4tXaG"
   },
   "outputs": [
    {
     "name": "stdin",
     "output_type": "stream",
     "text": [
      "Enter the amount of heads :  4\n",
      "Enter the amount of legs :  12\n"
     ]
    },
    {
     "name": "stdout",
     "output_type": "stream",
     "text": [
      "Dogs: 2.0\n",
      "Chickens: 2.0\n"
     ]
    }
   ],
   "source": [
    "Heads = int (input (\"Enter the amount of heads : \"))\n",
    "Legs = int (input (\"Enter the amount of legs : \"))\n",
    "\n",
    "\n",
    "Dog = (Legs - 2 * Heads) / 2 \n",
    "Chicken = Heads - Dog  \n",
    "\n",
    "print(\"Dogs:\", Dog)\n",
    "print(\"Chickens:\", Chicken)\n"
   ]
  },
  {
   "cell_type": "markdown",
   "metadata": {
    "id": "gJ7C5kZYt4BP"
   },
   "source": [
    "### Q7:- Write a program to find the sum of squares of first n natural numbers where n will be provided by the user."
   ]
  },
  {
   "cell_type": "code",
   "execution_count": 32,
   "metadata": {
    "id": "_tHsmEHzt2nX"
   },
   "outputs": [
    {
     "name": "stdin",
     "output_type": "stream",
     "text": [
      "Provide a natural number :  5\n"
     ]
    },
    {
     "name": "stdout",
     "output_type": "stream",
     "text": [
      "55.0\n"
     ]
    }
   ],
   "source": [
    "n = int (input(\"Provide a natural number : \"))\n",
    "\n",
    "\n",
    "sum = n*(n+1)*(2*n+1)/6\n",
    "\n",
    "print (sum)"
   ]
  },
  {
   "cell_type": "markdown",
   "metadata": {
    "id": "FHrMM7g-yG1h"
   },
   "source": [
    "### Q8:- Given the first 2 terms of an Arithmetic Series.Find the Nth term of the series. Assume all inputs are provided by the user."
   ]
  },
  {
   "cell_type": "code",
   "execution_count": 34,
   "metadata": {
    "id": "go4_kmZmyVSx"
   },
   "outputs": [
    {
     "name": "stdin",
     "output_type": "stream",
     "text": [
      "Enter the First Number :  10\n",
      "Enter the Second Number :  20\n",
      "Enter the nth Number :  5\n"
     ]
    },
    {
     "name": "stdout",
     "output_type": "stream",
     "text": [
      "50\n"
     ]
    }
   ],
   "source": [
    "first_term = int (input (\"Enter the First Number : \"))\n",
    "second_term = int (input (\"Enter the Second Number : \"))\n",
    "\n",
    "nth_term = int (input (\"Enter the nth Number : \"))\n",
    "\n",
    "d = second_term - first_term\n",
    "\n",
    "an = first_term + (nth_term - 1)*d\n",
    "\n",
    "print (an)"
   ]
  },
  {
   "cell_type": "markdown",
   "metadata": {
    "id": "QgyRX_es1oum"
   },
   "source": [
    "### Q9:- Given 2 fractions, find the sum of those 2 fractions.Take the numerator and denominator values of the fractions from the user."
   ]
  },
  {
   "cell_type": "code",
   "execution_count": 37,
   "metadata": {
    "id": "X05xqFS1yW16"
   },
   "outputs": [
    {
     "name": "stdin",
     "output_type": "stream",
     "text": [
      "Enter n1 Value :  3\n",
      "Enter d1 Value :  7\n",
      "Enter n2 Value :  2\n",
      "Enter d2 Value :  11\n"
     ]
    },
    {
     "name": "stdout",
     "output_type": "stream",
     "text": [
      "47/77\n"
     ]
    }
   ],
   "source": [
    "n1 = int(input (\"Enter n1 Value : \"))\n",
    "d1 = int(input (\"Enter d1 Value : \"))\n",
    "n2 = int(input (\"Enter n2 Value : \"))\n",
    "d2 = int(input (\"Enter d2 Value : \"))\n",
    "\n",
    "rn = n1*d2 + n2*d1\n",
    "rd = d1*d2\n",
    "\n",
    "print (rn,rd, sep=\"/\")"
   ]
  },
  {
   "cell_type": "markdown",
   "metadata": {
    "id": "eaql38ln13u7"
   },
   "source": [
    "### Q10:- Given the height, width and breadth of a milk tank, you have to find out how many glasses of milk can be obtained? Assume all the inputs are provided by the user.\n",
    "\n",
    "\n",
    "\n",
    "Input:<br>\n",
    "Dimensions of the milk tank<br>\n",
    "H = 20cm, L = 20cm, B = 20cm\n",
    "<br><br>\n",
    "Dimensions of the glass<br>\n",
    "h = 3cm, r = 1cm"
   ]
  },
  {
   "cell_type": "code",
   "execution_count": 39,
   "metadata": {
    "id": "FePZqno74eWv"
   },
   "outputs": [
    {
     "name": "stdin",
     "output_type": "stream",
     "text": [
      "Enter Milk Tank Height :  10\n",
      "Enter Milk Tank Length :  19\n",
      "Enter Milk Tank Breadth :  10\n",
      "Enter Glass Radius :  2\n",
      "Enter Glass Height :  5\n"
     ]
    },
    {
     "name": "stdout",
     "output_type": "stream",
     "text": [
      "Glasses of Milk 30.23936847466259\n"
     ]
    }
   ],
   "source": [
    "H = int(input (\"Enter Milk Tank Height : \"))\n",
    "L = int(input (\"Enter Milk Tank Length : \"))\n",
    "B = int(input (\"Enter Milk Tank Breadth : \"))\n",
    "r = int(input (\"Enter Glass Radius : \"))\n",
    "h = int(input (\"Enter Glass Height : \"))\n",
    "\n",
    "Area = H * L * B\n",
    "Glass_Area = 3.1416 * r * r * h\n",
    "\n",
    "Obtain = Area / Glass_Area\n",
    "\n",
    "print ('Glasses of Milk',Obtain )"
   ]
  },
  {
   "cell_type": "code",
   "execution_count": null,
   "metadata": {},
   "outputs": [],
   "source": []
  }
 ],
 "metadata": {
  "colab": {
   "provenance": []
  },
  "kernelspec": {
   "display_name": "Python 3 (ipykernel)",
   "language": "python",
   "name": "python3"
  },
  "language_info": {
   "codemirror_mode": {
    "name": "ipython",
    "version": 3
   },
   "file_extension": ".py",
   "mimetype": "text/x-python",
   "name": "python",
   "nbconvert_exporter": "python",
   "pygments_lexer": "ipython3",
   "version": "3.10.13"
  }
 },
 "nbformat": 4,
 "nbformat_minor": 4
}
