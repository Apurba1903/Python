{
 "cells": [
  {
   "cell_type": "markdown",
   "metadata": {
    "id": "yqLLqLyj4r0z"
   },
   "source": [
    "### Class Relationships\n",
    "\n",
    "- Aggregation\n",
    "- Inheritance"
   ]
  },
  {
   "cell_type": "markdown",
   "metadata": {
    "id": "f69fS6U45Hqr"
   },
   "source": [
    "### Aggregation(Has-A relationship)"
   ]
  },
  {
   "cell_type": "code",
   "execution_count": 10,
   "metadata": {
    "colab": {
     "base_uri": "https://localhost:8080/"
    },
    "id": "5kx2nO_m5GdR",
    "outputId": "334c7266-876b-4569-e3af-d9bdb824a0e4"
   },
   "outputs": [
    {
     "name": "stdout",
     "output_type": "stream",
     "text": [
      "Mirpur\n",
      "1216\n",
      "Dhaka\n",
      "-------------------\n",
      "Banani\n",
      "1209\n",
      "Dhaka\n"
     ]
    }
   ],
   "source": [
    "# Example\n",
    "class Customer:\n",
    "    \n",
    "    def __init__(self, name, gender, address):\n",
    "        self.name = name\n",
    "        self.gender = gender\n",
    "        self.address = address\n",
    "        \n",
    "    def print_address(self):\n",
    "        print(self.address.get_city())\n",
    "        print(self.address.pin)\n",
    "        print(self.address.state)\n",
    "        \n",
    "    def edit_profile(self, new_name, new_city, new_pin, new_state):     # Method Example\n",
    "        self.name = new_name\n",
    "        self.address.edit_address(new_city, new_pin, new_state)\n",
    "        \n",
    "        \n",
    "class Address:\n",
    "    \n",
    "    def __init__(self, city, pin, state):\n",
    "        self.__city = city                          # Can not access private attribute when aggregation\n",
    "        self.pin = pin\n",
    "        self.state = state\n",
    "        \n",
    "    def get_city(self):\n",
    "        return self.__city                          # What about Private Attribute\n",
    "    \n",
    "    def edit_address(self, new_city, new_pin, new_state):\n",
    "        self.__city = new_city\n",
    "        self.pin = new_pin\n",
    "        self.state = new_state\n",
    "        \n",
    "        \n",
    "    \n",
    "add1 = Address('Mirpur', 1216, 'Dhaka')\n",
    "cust = Customer('Apurba', 'Male', add1 )\n",
    "\n",
    "cust.print_address()\n",
    "\n",
    "print('-------------------')\n",
    "\n",
    "cust.edit_profile('Apurba Halder', 'Banani', 1209, 'Dhaka')\n",
    "\n",
    "cust.print_address()"
   ]
  },
  {
   "cell_type": "markdown",
   "metadata": {
    "id": "iwHzHwcQ5L94"
   },
   "source": [
    "##### Aggregation class diagram"
   ]
  },
  {
   "cell_type": "code",
   "execution_count": null,
   "metadata": {
    "id": "N8leEVkv5PQ1"
   },
   "outputs": [],
   "source": [
    "# - means private variable\n",
    "# + means public variable\n",
    "# Diamond shape means aggregation\n",
    "# Whoever owns will have the diamond near to it\n",
    "# In this case, Customer owns Address\n",
    "# So, Customer has the diamond shape near to it\n",
    "# Address is a separate entity"
   ]
  },
  {
   "cell_type": "markdown",
   "metadata": {
    "id": "ftkzTkLv64OS"
   },
   "source": [
    "### Inheritance\n",
    "\n",
    "- What is inheritance\n",
    "- Example\n",
    "- What gets inherited?"
   ]
  },
  {
   "cell_type": "code",
   "execution_count": null,
   "metadata": {
    "id": "uSTDcEyh65cu"
   },
   "outputs": [],
   "source": [
    "# Inheritance and it's benefits"
   ]
  },
  {
   "cell_type": "code",
   "execution_count": 6,
   "metadata": {
    "colab": {
     "base_uri": "https://localhost:8080/"
    },
    "id": "k_BCUsIbPHud",
    "outputId": "ace03f99-3335-4da0-9ab6-37d6f980f637"
   },
   "outputs": [
    {
     "name": "stdout",
     "output_type": "stream",
     "text": [
      "Apurba\n",
      "Enroll the Course\n",
      "Login\n"
     ]
    }
   ],
   "source": [
    "# Example\n",
    "\n",
    "\n",
    "# Parent Class\n",
    "class User:\n",
    "    \n",
    "    \n",
    "    def __init__(self):\n",
    "        self.name = 'Apurba'\n",
    "        \n",
    "        \n",
    "    def login(self):\n",
    "        print('Login')\n",
    "        \n",
    "\n",
    "# Child Class\n",
    "class Student(User):\n",
    "    \n",
    "    \n",
    "    def enroll(self):\n",
    "        print('Enroll the Course')\n",
    "    \n",
    "\n",
    "\n",
    "u = User()\n",
    "s = Student()\n",
    "\n",
    "print(s.name)\n",
    "s.enroll()\n",
    "s.login()\n",
    "\n"
   ]
  },
  {
   "cell_type": "code",
   "execution_count": null,
   "metadata": {
    "id": "Nh2Ug7mZSJMd"
   },
   "outputs": [],
   "source": [
    "# Class diagram\n",
    "\n",
    "# If the diagram shows the triangle then it means inheritance."
   ]
  },
  {
   "cell_type": "markdown",
   "metadata": {
    "id": "CJEPRGHGPY9n"
   },
   "source": [
    "##### What gets inherited?\n",
    "\n",
    "- Constructor\n",
    "- Non Private Attributes\n",
    "- Non Private Methods"
   ]
  },
  {
   "cell_type": "code",
   "execution_count": null,
   "metadata": {
    "colab": {
     "base_uri": "https://localhost:8080/"
    },
    "id": "VGpL2aWUPX-C",
    "outputId": "5114dda8-4e7a-45ea-fd82-ce6e968cba82"
   },
   "outputs": [
    {
     "name": "stdout",
     "output_type": "stream",
     "text": [
      "Inside Phone Constructor\n"
     ]
    },
    {
     "data": {
      "text/plain": [
       "'iPhone 16 Pro Max'"
      ]
     },
     "execution_count": 10,
     "metadata": {},
     "output_type": "execute_result"
    }
   ],
   "source": [
    "# Constructor Example\n",
    "\n",
    "class Phone:\n",
    "    \n",
    "    def __init__ (self, price, brand, camera):\n",
    "        print('Inside Phone Constructor')\n",
    "        self.price = price\n",
    "        self.brand = brand\n",
    "        self.camera = camera\n",
    "        \n",
    "    def buy(self):\n",
    "        print('Buying Phone')\n",
    "        \n",
    "        \n",
    "class SmartPhone(Phone):\n",
    "    \n",
    "    pass\n",
    "\n",
    "s = SmartPhone(78999 , 'iPhone 16 Pro Max', '15 Mega Pixel')\n",
    "\n",
    "s.brand\n",
    "\n",
    "\n",
    "# if child does not have his own constructor then he calls the parent constructor\n"
   ]
  },
  {
   "cell_type": "code",
   "execution_count": null,
   "metadata": {
    "colab": {
     "base_uri": "https://localhost:8080/",
     "height": 223
    },
    "id": "PMjCWA3wP_s-",
    "outputId": "9cf6eca4-444a-48ee-9a55-82eeca73e4e2"
   },
   "outputs": [
    {
     "name": "stdout",
     "output_type": "stream",
     "text": [
      "Inside SmartPhone Constructor\n"
     ]
    }
   ],
   "source": [
    "# Constructor Example 2\n",
    "\n",
    "class Phone:\n",
    "    \n",
    "    def __init__ (self, price, brand, camera):\n",
    "        print('Inside Phone Constructor')\n",
    "        self.price = price\n",
    "        self.brand = brand\n",
    "        self.camera = camera\n",
    "        \n",
    "\n",
    "class SmartPhone(Phone):\n",
    "    \n",
    "    def __init__ (self, os, ram):\n",
    "        self.os = os\n",
    "        self.ram = ram\n",
    "        print('Inside SmartPhone Constructor')\n",
    "        \n",
    "        \n",
    "\n",
    "s = SmartPhone('Android' , 2)"
   ]
  },
  {
   "cell_type": "code",
   "execution_count": 13,
   "metadata": {
    "colab": {
     "base_uri": "https://localhost:8080/"
    },
    "id": "OBJEbXw3QNs5",
    "outputId": "a6a7aa97-7b04-4f07-959f-290c1c82d2cd"
   },
   "outputs": [
    {
     "name": "stdout",
     "output_type": "stream",
     "text": [
      "Inside Phone Constructor\n",
      "Android\n"
     ]
    },
    {
     "ename": "AttributeError",
     "evalue": "'SmartPhone' object has no attribute '_SmartPhone__price'",
     "output_type": "error",
     "traceback": [
      "\u001b[1;31m---------------------------------------------------------------------------\u001b[0m",
      "\u001b[1;31mAttributeError\u001b[0m                            Traceback (most recent call last)",
      "Cell \u001b[1;32mIn[13], line 24\u001b[0m\n\u001b[0;32m     22\u001b[0m s \u001b[38;5;241m=\u001b[39m SmartPhone(\u001b[38;5;241m20000\u001b[39m, \u001b[38;5;124m'\u001b[39m\u001b[38;5;124mAndroid\u001b[39m\u001b[38;5;124m'\u001b[39m , \u001b[38;5;241m12\u001b[39m)\n\u001b[0;32m     23\u001b[0m \u001b[38;5;28mprint\u001b[39m(s\u001b[38;5;241m.\u001b[39mbrand)\n\u001b[1;32m---> 24\u001b[0m \u001b[43ms\u001b[49m\u001b[38;5;241;43m.\u001b[39;49m\u001b[43mcheck\u001b[49m\u001b[43m(\u001b[49m\u001b[43m)\u001b[49m\n",
      "Cell \u001b[1;32mIn[13], line 18\u001b[0m, in \u001b[0;36mSmartPhone.check\u001b[1;34m(self)\u001b[0m\n\u001b[0;32m     17\u001b[0m \u001b[38;5;28;01mdef\u001b[39;00m \u001b[38;5;21mcheck\u001b[39m(\u001b[38;5;28mself\u001b[39m):\n\u001b[1;32m---> 18\u001b[0m     \u001b[38;5;28mprint\u001b[39m(\u001b[38;5;28;43mself\u001b[39;49m\u001b[38;5;241;43m.\u001b[39;49m\u001b[43m__price\u001b[49m)\n",
      "\u001b[1;31mAttributeError\u001b[0m: 'SmartPhone' object has no attribute '_SmartPhone__price'"
     ]
    }
   ],
   "source": [
    "# Child can not access private members of the class\n",
    "\n",
    "class Phone:\n",
    "    \n",
    "    def __init__ (self, price, brand, camera):\n",
    "        print('Inside Phone Constructor')\n",
    "        self.__price = price\n",
    "        self.brand = brand\n",
    "        self.camera = camera\n",
    "        \n",
    "        def show(self):\n",
    "            print(self.__price)\n",
    "        \n",
    "\n",
    "class SmartPhone(Phone):\n",
    "    \n",
    "    def check(self):\n",
    "        print(self.__price)\n",
    "        \n",
    "        \n",
    "\n",
    "s = SmartPhone(20000, 'Android' , 12)\n",
    "print(s.brand)\n",
    "s.check()"
   ]
  },
  {
   "cell_type": "code",
   "execution_count": null,
   "metadata": {
    "colab": {
     "base_uri": "https://localhost:8080/"
    },
    "id": "4ehYsT2BS5Cm",
    "outputId": "5e27f6d1-0f60-4246-fd59-977e41dfd4f9"
   },
   "outputs": [
    {
     "name": "stdout",
     "output_type": "stream",
     "text": [
      "100\n",
      "This is in Child Class\n"
     ]
    }
   ],
   "source": [
    "class Parent:\n",
    "    \n",
    "    def __init__(self,num):\n",
    "        self.__num = num\n",
    "        \n",
    "    def get_num(self):\n",
    "        return self.__num\n",
    "    \n",
    "class Child(Parent):\n",
    "    \n",
    "    def show(self):\n",
    "        print('This is in Child Class')\n",
    "        \n",
    "        \n",
    "        \n",
    "son = Child(100)\n",
    "\n",
    "\n",
    "print(son.get_num())\n",
    "son.show()\n",
    "\n",
    "#Private data can be accessed by getter method.\n"
   ]
  },
  {
   "cell_type": "code",
   "execution_count": 16,
   "metadata": {
    "colab": {
     "base_uri": "https://localhost:8080/",
     "height": 348
    },
    "id": "__jK3DNZS7-g",
    "outputId": "1cb66ea1-97e5-4589-d792-ec804c3ddb81"
   },
   "outputs": [
    {
     "ename": "AttributeError",
     "evalue": "'Child' object has no attribute '_Parent__num'",
     "output_type": "error",
     "traceback": [
      "\u001b[1;31m---------------------------------------------------------------------------\u001b[0m",
      "\u001b[1;31mAttributeError\u001b[0m                            Traceback (most recent call last)",
      "Cell \u001b[1;32mIn[16], line 23\u001b[0m\n\u001b[0;32m     15\u001b[0m         \u001b[38;5;28;01mreturn\u001b[39;00m \u001b[38;5;28mself\u001b[39m\u001b[38;5;241m.\u001b[39m__val\n\u001b[0;32m     20\u001b[0m son \u001b[38;5;241m=\u001b[39m Child(\u001b[38;5;241m100\u001b[39m,\u001b[38;5;241m10\u001b[39m)\n\u001b[1;32m---> 23\u001b[0m \u001b[38;5;28mprint\u001b[39m(\u001b[38;5;124m\"\u001b[39m\u001b[38;5;124mParent: Num:\u001b[39m\u001b[38;5;124m\"\u001b[39m, \u001b[43mson\u001b[49m\u001b[38;5;241;43m.\u001b[39;49m\u001b[43mget_num\u001b[49m\u001b[43m(\u001b[49m\u001b[43m)\u001b[49m)\n\u001b[0;32m     24\u001b[0m \u001b[38;5;28mprint\u001b[39m(\u001b[38;5;124m\"\u001b[39m\u001b[38;5;124mChild: Val:\u001b[39m\u001b[38;5;124m\"\u001b[39m, son\u001b[38;5;241m.\u001b[39mget_val())\n",
      "Cell \u001b[1;32mIn[16], line 7\u001b[0m, in \u001b[0;36mParent.get_num\u001b[1;34m(self)\u001b[0m\n\u001b[0;32m      6\u001b[0m \u001b[38;5;28;01mdef\u001b[39;00m \u001b[38;5;21mget_num\u001b[39m(\u001b[38;5;28mself\u001b[39m):\n\u001b[1;32m----> 7\u001b[0m     \u001b[38;5;28;01mreturn\u001b[39;00m \u001b[38;5;28;43mself\u001b[39;49m\u001b[38;5;241;43m.\u001b[39;49m\u001b[43m__num\u001b[49m\n",
      "\u001b[1;31mAttributeError\u001b[0m: 'Child' object has no attribute '_Parent__num'"
     ]
    }
   ],
   "source": [
    "class Parent:\n",
    "    \n",
    "    def __init__(self,num):\n",
    "        self.__num = num\n",
    "        \n",
    "    def get_num(self):\n",
    "        return self.__num\n",
    "    \n",
    "class Child(Parent):\n",
    "    \n",
    "    def __init__(self,val,num):\n",
    "        self.__val = val\n",
    "    \n",
    "    def get_val(self):\n",
    "        return self.__val\n",
    "    \n",
    "        \n",
    "        \n",
    "        \n",
    "son = Child(100,10)\n",
    "\n",
    "\n",
    "print(\"Parent: Num:\", son.get_num())\n",
    "print(\"Child: Val:\", son.get_val())\n"
   ]
  },
  {
   "cell_type": "code",
   "execution_count": 17,
   "metadata": {
    "colab": {
     "base_uri": "https://localhost:8080/"
    },
    "id": "nyRDS-91TJA_",
    "outputId": "ca0f5671-e73a-467b-8c96-45f825e88eaa"
   },
   "outputs": [
    {
     "name": "stdout",
     "output_type": "stream",
     "text": [
      "Class A : 100\n"
     ]
    }
   ],
   "source": [
    "class A:\n",
    "    \n",
    "    def __init__(self):\n",
    "        self.var1 = 100\n",
    "        \n",
    "    def display1(self,var1):\n",
    "        print('Class A :', self.var1)\n",
    "        \n",
    "class B(A):\n",
    "    \n",
    "    def display2(self,var1):\n",
    "        print('Class B :',self.var1)\n",
    "\n",
    "obj = B()\n",
    "obj.display1(200)\n",
    "        "
   ]
  },
  {
   "cell_type": "code",
   "execution_count": 22,
   "metadata": {
    "colab": {
     "base_uri": "https://localhost:8080/"
    },
    "id": "EgDguVtCTlsY",
    "outputId": "e9a17cfc-e48d-4967-90df-164a9fb9906e"
   },
   "outputs": [
    {
     "name": "stdout",
     "output_type": "stream",
     "text": [
      "Inside Phone Constructor\n",
      "Buying a SmartPhone\n"
     ]
    }
   ],
   "source": [
    "class Phone:\n",
    "    \n",
    "    def __init__ (self, price, brand, camera):\n",
    "        print('Inside Phone Constructor')\n",
    "        self.__price = price\n",
    "        self.brand = brand\n",
    "        self.camera = camera\n",
    "        \n",
    "    def buy(self):\n",
    "        print('Buying a Phone')\n",
    "        \n",
    "\n",
    "class SmartPhone(Phone):\n",
    "    \n",
    "    def buy(self):\n",
    "        print('Buying a SmartPhone')\n",
    "        \n",
    "        \n",
    "\n",
    "s = SmartPhone(20000, 'Android' , 12)\n",
    "\n",
    "s.buy()\n",
    "\n",
    "# If Parent and Child have 2 methods with same name. Then the child method will be work.\n",
    "# This is call Method Overriding."
   ]
  },
  {
   "cell_type": "markdown",
   "metadata": {
    "id": "O85epdv770M-"
   },
   "source": [
    "### Super Keyword"
   ]
  },
  {
   "cell_type": "code",
   "execution_count": 23,
   "metadata": {
    "colab": {
     "base_uri": "https://localhost:8080/"
    },
    "id": "NR4F_NIo71hS",
    "outputId": "31d11020-10c1-47cd-81e0-6335ee6fc1f0"
   },
   "outputs": [
    {
     "name": "stdout",
     "output_type": "stream",
     "text": [
      "Inside Phone Constructor\n",
      "Buying a SmartPhone\n",
      "Buying a Phone\n"
     ]
    }
   ],
   "source": [
    "class Phone:\n",
    "    \n",
    "    def __init__ (self, price, brand, camera):\n",
    "        print('Inside Phone Constructor')\n",
    "        self.__price = price\n",
    "        self.brand = brand\n",
    "        self.camera = camera\n",
    "        \n",
    "    def buy(self):\n",
    "            print('Buying a Phone')\n",
    "        \n",
    "\n",
    "class SmartPhone(Phone):\n",
    "    \n",
    "    def buy(self):\n",
    "        print('Buying a SmartPhone')\n",
    "        # Syntax to call Parent's Buy Method\n",
    "        super().buy()\n",
    "        \n",
    "\n",
    "s = SmartPhone(20000, 'Android' , 12)\n",
    "\n",
    "s.buy()\n"
   ]
  },
  {
   "cell_type": "code",
   "execution_count": null,
   "metadata": {
    "colab": {
     "base_uri": "https://localhost:8080/",
     "height": 223
    },
    "id": "USJ2YcPLT68v",
    "outputId": "9039f621-2f56-4d1b-f4ed-8abc36ac4cd8"
   },
   "outputs": [
    {
     "name": "stdout",
     "output_type": "stream",
     "text": [
      "Inside SmartPhone Constructor\n",
      "Inside Phone Constructor\n",
      "Inside SmartPhone Constructor\n",
      "Android\n",
      "Samsung\n"
     ]
    }
   ],
   "source": [
    "# Super => Constructor\n",
    "\n",
    "class Phone:\n",
    "    \n",
    "    def __init__ (self, price, brand, camera):\n",
    "        \n",
    "        print('Inside Phone Constructor')\n",
    "        self.__price = price\n",
    "        self.brand = brand\n",
    "        self.camera = camera\n",
    "        \n",
    "        \n",
    "class SmartPhone(Phone):\n",
    "    def __init__ (self, price, brand, camera, os, ram):\n",
    "        \n",
    "        print('Inside SmartPhone Constructor')\n",
    "        super().__init__(price, brand, camera)\n",
    "        self.os = os\n",
    "        self.ram = ram\n",
    "        print('Inside SmartPhone Constructor')\n",
    "        \n",
    "        \n",
    "s = SmartPhone(20000, \"Samsung\", 12, \"Android\", 2)\n",
    "\n",
    "print(s.os)\n",
    "print(s.brand)\n",
    "    \n",
    "    \n",
    "#  By Using Super we can access Parent's Method"
   ]
  },
  {
   "cell_type": "code",
   "execution_count": null,
   "metadata": {
    "colab": {
     "base_uri": "https://localhost:8080/",
     "height": 366
    },
    "id": "KGIWVYdYUBAd",
    "outputId": "8e4228f8-af9c-4c72-d18c-6016808df3de"
   },
   "outputs": [
    {
     "name": "stdout",
     "output_type": "stream",
     "text": [
      "Inside Phone Constructor\n"
     ]
    },
    {
     "ename": "AttributeError",
     "evalue": "'SmartPhone' object has no attribute 'super'",
     "output_type": "error",
     "traceback": [
      "\u001b[1;31m---------------------------------------------------------------------------\u001b[0m",
      "\u001b[1;31mAttributeError\u001b[0m                            Traceback (most recent call last)",
      "Cell \u001b[1;32mIn[27], line 22\u001b[0m\n\u001b[0;32m     17\u001b[0m         \u001b[38;5;66;03m# Syntax to call Parent's Buy Method\u001b[39;00m\n\u001b[0;32m     20\u001b[0m s \u001b[38;5;241m=\u001b[39m SmartPhone(\u001b[38;5;241m20000\u001b[39m, \u001b[38;5;124m'\u001b[39m\u001b[38;5;124mAndroid\u001b[39m\u001b[38;5;124m'\u001b[39m , \u001b[38;5;241m12\u001b[39m)\n\u001b[1;32m---> 22\u001b[0m \u001b[43ms\u001b[49m\u001b[38;5;241;43m.\u001b[39;49m\u001b[43msuper\u001b[49m()\u001b[38;5;241m.\u001b[39mbuy()\n",
      "\u001b[1;31mAttributeError\u001b[0m: 'SmartPhone' object has no attribute 'super'"
     ]
    }
   ],
   "source": [
    "class Phone:\n",
    "    \n",
    "    def __init__ (self, price, brand, camera):\n",
    "        print('Inside Phone Constructor')\n",
    "        self.__price = price\n",
    "        self.brand = brand\n",
    "        self.camera = camera\n",
    "        \n",
    "    def buy(self):\n",
    "            print('Buying a Phone')\n",
    "        \n",
    "\n",
    "class SmartPhone(Phone):\n",
    "    \n",
    "    def buy(self):\n",
    "        print('Buying a SmartPhone')\n",
    "        \n",
    "\n",
    "s = SmartPhone(20000, 'Android' , 12)\n",
    "\n",
    "s.super().buy()\n",
    "\n",
    "# Super keyword only works inside a class. Always inside Child Class.\n"
   ]
  },
  {
   "cell_type": "code",
   "execution_count": null,
   "metadata": {
    "colab": {
     "base_uri": "https://localhost:8080/"
    },
    "id": "jPW3DV5GUKNJ",
    "outputId": "5e1dfad5-6f71-48dd-ceaa-7d5211136968"
   },
   "outputs": [
    {
     "name": "stdout",
     "output_type": "stream",
     "text": [
      "Inside Phone Constructor\n",
      "Buying a SmartPhone\n"
     ]
    },
    {
     "ename": "AttributeError",
     "evalue": "'super' object has no attribute 'brand'",
     "output_type": "error",
     "traceback": [
      "\u001b[1;31m---------------------------------------------------------------------------\u001b[0m",
      "\u001b[1;31mAttributeError\u001b[0m                            Traceback (most recent call last)",
      "Cell \u001b[1;32mIn[28], line 23\u001b[0m\n\u001b[0;32m     18\u001b[0m         \u001b[38;5;28mprint\u001b[39m(\u001b[38;5;28msuper\u001b[39m()\u001b[38;5;241m.\u001b[39mbrand)\n\u001b[0;32m     21\u001b[0m s \u001b[38;5;241m=\u001b[39m SmartPhone(\u001b[38;5;241m20000\u001b[39m, \u001b[38;5;124m'\u001b[39m\u001b[38;5;124mAndroid\u001b[39m\u001b[38;5;124m'\u001b[39m , \u001b[38;5;241m12\u001b[39m)\n\u001b[1;32m---> 23\u001b[0m \u001b[43ms\u001b[49m\u001b[38;5;241;43m.\u001b[39;49m\u001b[43mbuy\u001b[49m\u001b[43m(\u001b[49m\u001b[43m)\u001b[49m\n\u001b[0;32m     25\u001b[0m \u001b[38;5;66;03m# Super keyword only works inside a class. Always inside Child Class.\u001b[39;00m\n",
      "Cell \u001b[1;32mIn[28], line 18\u001b[0m, in \u001b[0;36mSmartPhone.buy\u001b[1;34m(self)\u001b[0m\n\u001b[0;32m     16\u001b[0m \u001b[38;5;28mprint\u001b[39m(\u001b[38;5;124m'\u001b[39m\u001b[38;5;124mBuying a SmartPhone\u001b[39m\u001b[38;5;124m'\u001b[39m)\n\u001b[0;32m     17\u001b[0m \u001b[38;5;66;03m# Syntax to call Parent's Buy Method\u001b[39;00m\n\u001b[1;32m---> 18\u001b[0m \u001b[38;5;28mprint\u001b[39m(\u001b[38;5;28;43msuper\u001b[39;49m\u001b[43m(\u001b[49m\u001b[43m)\u001b[49m\u001b[38;5;241;43m.\u001b[39;49m\u001b[43mbrand\u001b[49m)\n",
      "\u001b[1;31mAttributeError\u001b[0m: 'super' object has no attribute 'brand'"
     ]
    }
   ],
   "source": [
    "class Phone:\n",
    "    \n",
    "    def __init__ (self, price, brand, camera):\n",
    "        print('Inside Phone Constructor')\n",
    "        self.__price = price\n",
    "        self.brand = brand\n",
    "        self.camera = camera\n",
    "        \n",
    "    def buy(self):\n",
    "            print('Buying a Phone')\n",
    "        \n",
    "\n",
    "class SmartPhone(Phone):\n",
    "    \n",
    "    def buy(self):\n",
    "        print('Buying a SmartPhone')\n",
    "        # Syntax to call Parent's Buy Method\n",
    "        print(super().brand)\n",
    "        \n",
    "\n",
    "s = SmartPhone(20000, 'Android' , 12)\n",
    "\n",
    "s.buy()\n",
    "\n",
    "# Super can not access variables.\n",
    "# Super can not be used outside the class.\n",
    "# Super is used only inside Child class.\n",
    "# Super can not access attribute. It can only access Methods"
   ]
  },
  {
   "cell_type": "markdown",
   "metadata": {
    "id": "_YE_kj_0Ufe4"
   },
   "source": [
    "##### Inheritance in summary\n",
    "\n",
    "- A class can inherit from another class.\n",
    "\n",
    "- Inheritance improves code reuse\n",
    "\n",
    "- Constructor, attributes, methods get inherited to the child class\n",
    "\n",
    "- The parent has no access to the child class\n",
    "\n",
    "- Private properties of parent are not accessible directly in child class\n",
    "\n",
    "- Child class can override the attributes or methods. This is called method overriding\n",
    "\n",
    "- super() is an inbuilt function which is used to invoke the parent class methods and constructor"
   ]
  },
  {
   "cell_type": "code",
   "execution_count": null,
   "metadata": {
    "colab": {
     "base_uri": "https://localhost:8080/"
    },
    "id": "iHFjwJtBUuK3",
    "outputId": "0fc43374-9b51-498d-d1ba-12defba202f3"
   },
   "outputs": [
    {
     "name": "stdout",
     "output_type": "stream",
     "text": [
      "100\n",
      "200\n"
     ]
    }
   ],
   "source": [
    "class Parent:\n",
    "    \n",
    "    def __init__(self,num):\n",
    "        self.__num = num\n",
    "        \n",
    "    def get_num(self):\n",
    "        return self.__num\n",
    "    \n",
    "    \n",
    "class Child(Parent):\n",
    "    \n",
    "    def __init__(self, num, val):\n",
    "        super().__init__(num)\n",
    "        self.__val = val\n",
    "        \n",
    "    def get_val(self):\n",
    "        return self.__val\n",
    "    \n",
    "    \n",
    "son = Child(100,200)\n",
    "\n",
    "print(son.get_num())\n",
    "print(son.get_val())"
   ]
  },
  {
   "cell_type": "code",
   "execution_count": 31,
   "metadata": {
    "colab": {
     "base_uri": "https://localhost:8080/"
    },
    "id": "szLznZ0bUvRj",
    "outputId": "0306224c-7467-420d-dbdb-d13e2c4e6a05"
   },
   "outputs": [
    {
     "name": "stdout",
     "output_type": "stream",
     "text": [
      "100\n",
      "200\n"
     ]
    }
   ],
   "source": [
    "class Parent:\n",
    "    \n",
    "    def __init__(self):\n",
    "        self.num = 100\n",
    "        \n",
    "class Child(Parent):\n",
    "    \n",
    "    def __init__(self):\n",
    "        super().__init__()\n",
    "        self.var = 200\n",
    "        \n",
    "    def show(self):\n",
    "        print(self.num)\n",
    "        print(self.var)\n",
    "        \n",
    "\n",
    "son = Child()\n",
    "son.show()"
   ]
  },
  {
   "cell_type": "code",
   "execution_count": 34,
   "metadata": {
    "colab": {
     "base_uri": "https://localhost:8080/"
    },
    "id": "1v9P77SdU5z9",
    "outputId": "d81815d0-a87f-4335-d486-744e6c5e239d"
   },
   "outputs": [
    {
     "name": "stdout",
     "output_type": "stream",
     "text": [
      "Child:  10\n"
     ]
    }
   ],
   "source": [
    "class Parent:\n",
    "    \n",
    "    def __init__(self):\n",
    "        self.__num = 100\n",
    "        \n",
    "    def show(self):\n",
    "        print('Parent: ',self.__num)\n",
    "        \n",
    "        \n",
    "class Child(Parent):\n",
    "    \n",
    "    def __init__(self):\n",
    "        super().__init__()\n",
    "        self.__var = 10\n",
    "        \n",
    "    def show(self):\n",
    "        print('Child: ',self.__var)\n",
    "        \n",
    "\n",
    "obj = Child()\n",
    "obj.show()"
   ]
  },
  {
   "cell_type": "markdown",
   "metadata": {
    "id": "q9WZMWV18G4Q"
   },
   "source": [
    "### Types of Inheritance\n",
    "\n",
    "- Single Inheritance\n",
    "- Multilevel Inheritance\n",
    "- Hierarchical Inheritance\n",
    "- Multiple Inheritance(Diamond Problem)\n",
    "- Hybrid Inheritance"
   ]
  },
  {
   "cell_type": "code",
   "execution_count": null,
   "metadata": {
    "colab": {
     "base_uri": "https://localhost:8080/"
    },
    "id": "OehIWuKS8JZm",
    "outputId": "69dde2a0-8b7e-49fd-f7a7-e86f4c2261e1"
   },
   "outputs": [],
   "source": []
  },
  {
   "cell_type": "code",
   "execution_count": null,
   "metadata": {
    "colab": {
     "base_uri": "https://localhost:8080/"
    },
    "id": "jGcAw7QtV1vN",
    "outputId": "9800414e-1785-4f14-9a1d-514fb3f03b39"
   },
   "outputs": [],
   "source": []
  },
  {
   "cell_type": "code",
   "execution_count": null,
   "metadata": {
    "colab": {
     "base_uri": "https://localhost:8080/"
    },
    "id": "axM6rE1HWA2d",
    "outputId": "0a5896e9-8301-4be2-8b2e-599354183b64"
   },
   "outputs": [],
   "source": []
  },
  {
   "cell_type": "code",
   "execution_count": null,
   "metadata": {
    "colab": {
     "base_uri": "https://localhost:8080/"
    },
    "id": "MPY34iq8WWGw",
    "outputId": "58b6e426-a8ba-4a9e-c997-a1a65a768de2"
   },
   "outputs": [],
   "source": []
  },
  {
   "cell_type": "code",
   "execution_count": null,
   "metadata": {
    "colab": {
     "base_uri": "https://localhost:8080/"
    },
    "id": "I2ixigsSWagF",
    "outputId": "ecde3fef-f9a7-469e-b0c4-ff0ef60d3b3b"
   },
   "outputs": [],
   "source": [
    "# the diamond problem\n",
    "# https://stackoverflow.com/questions/56361048/what-is-the-diamond-problem-in-python-and-why-its-not-appear-in-python2"
   ]
  },
  {
   "cell_type": "code",
   "execution_count": null,
   "metadata": {
    "colab": {
     "base_uri": "https://localhost:8080/"
    },
    "id": "sA_UVGoRWr7W",
    "outputId": "e71fe50b-c725-4c5f-a1d0-0dbc186fcfd0"
   },
   "outputs": [],
   "source": []
  },
  {
   "cell_type": "code",
   "execution_count": null,
   "metadata": {
    "colab": {
     "base_uri": "https://localhost:8080/",
     "height": 390
    },
    "id": "ogbluGw-Wu3c",
    "outputId": "a08d2384-c4c3-4bd7-b7ac-896b22d98711"
   },
   "outputs": [],
   "source": []
  },
  {
   "cell_type": "markdown",
   "metadata": {
    "id": "TvZX-Zw9FtKB"
   },
   "source": [
    "### Polymorphism\n",
    "\n",
    "- Method Overriding\n",
    "- Method Overloading\n",
    "- Operator Overloading"
   ]
  },
  {
   "cell_type": "code",
   "execution_count": null,
   "metadata": {
    "colab": {
     "base_uri": "https://localhost:8080/"
    },
    "id": "wuVzSLONF0ha",
    "outputId": "c0ef3d86-9a4b-4d2f-f6b4-2ca8b7d42764"
   },
   "outputs": [],
   "source": []
  },
  {
   "cell_type": "code",
   "execution_count": null,
   "metadata": {
    "colab": {
     "base_uri": "https://localhost:8080/",
     "height": 36
    },
    "id": "3-SJbwpMXE4J",
    "outputId": "1fb14d61-32b2-4267-e997-edbd98de1c22"
   },
   "outputs": [],
   "source": []
  },
  {
   "cell_type": "code",
   "execution_count": null,
   "metadata": {
    "colab": {
     "base_uri": "https://localhost:8080/"
    },
    "id": "XIhrt6ffXFOq",
    "outputId": "5936ff62-3649-470b-8080-27e0932d795c"
   },
   "outputs": [],
   "source": []
  },
  {
   "cell_type": "code",
   "execution_count": null,
   "metadata": {
    "colab": {
     "base_uri": "https://localhost:8080/"
    },
    "id": "ykLFszsHfrKi",
    "outputId": "b6dce7af-c9d9-4414-bd3e-dbdacc9df9e1"
   },
   "outputs": [],
   "source": []
  },
  {
   "cell_type": "markdown",
   "metadata": {
    "id": "FHZlflrSF1Df"
   },
   "source": [
    "### Abstraction"
   ]
  },
  {
   "cell_type": "code",
   "execution_count": null,
   "metadata": {
    "id": "EFrfU_45F2wx"
   },
   "outputs": [],
   "source": []
  },
  {
   "cell_type": "code",
   "execution_count": null,
   "metadata": {
    "id": "_KULGDqYxtwk"
   },
   "outputs": [],
   "source": []
  },
  {
   "cell_type": "code",
   "execution_count": null,
   "metadata": {
    "id": "WlGxjLHz6J94"
   },
   "outputs": [],
   "source": []
  },
  {
   "cell_type": "code",
   "execution_count": null,
   "metadata": {
    "colab": {
     "base_uri": "https://localhost:8080/"
    },
    "id": "e-ygxfhV6MR9",
    "outputId": "93969604-41c2-4966-d322-ffaadcd85e4f"
   },
   "outputs": [],
   "source": []
  },
  {
   "cell_type": "code",
   "execution_count": null,
   "metadata": {
    "colab": {
     "base_uri": "https://localhost:8080/",
     "height": 169
    },
    "id": "hvVMYalv6v3j",
    "outputId": "2809badf-e568-4a87-ddfb-1f64d944900d"
   },
   "outputs": [],
   "source": []
  },
  {
   "cell_type": "code",
   "execution_count": null,
   "metadata": {
    "id": "OvdixiRJ7kDn"
   },
   "outputs": [],
   "source": []
  }
 ],
 "metadata": {
  "colab": {
   "provenance": []
  },
  "kernelspec": {
   "display_name": "Python 3",
   "language": "python",
   "name": "python3"
  },
  "language_info": {
   "codemirror_mode": {
    "name": "ipython",
    "version": 3
   },
   "file_extension": ".py",
   "mimetype": "text/x-python",
   "name": "python",
   "nbconvert_exporter": "python",
   "pygments_lexer": "ipython3",
   "version": "3.11.9"
  }
 },
 "nbformat": 4,
 "nbformat_minor": 4
}
