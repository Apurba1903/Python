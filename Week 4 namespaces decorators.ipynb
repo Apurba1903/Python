{
  "cells": [
    {
      "cell_type": "markdown",
      "metadata": {
        "id": "Xk9kpQFIwb4q"
      },
      "source": [
        "### Namespaces\n",
        "\n",
        "A namespace is a space that holds names(identifiers).Programmatically speaking, namespaces are dictionary of identifiers(keys) and their objects(values)\n",
        "\n",
        "There are 4 types of namespaces:\n",
        "- Builtin Namespace\n",
        "- Global Namespace\n",
        "- Enclosing Namespace\n",
        "- Local Namespace"
      ]
    },
    {
      "cell_type": "markdown",
      "metadata": {
        "id": "gwHLayLAz07u"
      },
      "source": [
        "### Scope and LEGB Rule\n",
        "\n",
        "A scope is a textual region of a Python program where a namespace is directly accessible.\n",
        "\n",
        "The interpreter searches for a name from the inside out, looking in the local, enclosing, global, and finally the built-in scope. If the interpreter doesn’t find the name in any of these locations, then Python raises a NameError exception."
      ]
    },
    {
      "cell_type": "code",
      "execution_count": null,
      "metadata": {
        "colab": {
          "base_uri": "https://localhost:8080/"
        },
        "id": "je-pFfh12wH_",
        "outputId": "07ad3dca-cf87-4bf1-ce0a-5ec58cb17390"
      },
      "outputs": [
        {
          "name": "stdout",
          "output_type": "stream",
          "text": [
            "3\n",
            "2\n"
          ]
        }
      ],
      "source": [
        "# Local and Global\n",
        "\n",
        "a = 2 # This is a Global Scope\n",
        "\n",
        "def temp():\n",
        "    b = 3 # This is a Local Scope\n",
        "    print(b)\n",
        "\n",
        "temp()\n",
        "print(a)"
      ]
    },
    {
      "cell_type": "code",
      "execution_count": null,
      "metadata": {
        "id": "j8yQ5lUr2yCq"
      },
      "outputs": [
        {
          "name": "stdout",
          "output_type": "stream",
          "text": [
            "3\n",
            "2\n"
          ]
        }
      ],
      "source": [
        "# Local and Global => Same Name\n",
        "\n",
        "a = 2 # This is a Global Scope\n",
        "\n",
        "def temp():\n",
        "    a = 3 # This is a Local Scope\n",
        "    print(a)\n",
        "\n",
        "temp()\n",
        "print(a)\n",
        "\n",
        "# Both a are in different Scope"
      ]
    },
    {
      "cell_type": "code",
      "execution_count": 3,
      "metadata": {
        "colab": {
          "base_uri": "https://localhost:8080/"
        },
        "id": "KGxD7YQS3We_",
        "outputId": "8e329d2f-7a9b-4516-d43e-02d293e882b9"
      },
      "outputs": [
        {
          "name": "stdout",
          "output_type": "stream",
          "text": [
            "2\n",
            "2\n"
          ]
        }
      ],
      "source": [
        "# Local and Global => Local does not have but Global has\n",
        "\n",
        "a = 2 # This is a Global Scope\n",
        "\n",
        "def temp():\n",
        "    \n",
        "    print(a)\n",
        "\n",
        "temp()\n",
        "print(a)"
      ]
    },
    {
      "cell_type": "code",
      "execution_count": null,
      "metadata": {
        "colab": {
          "base_uri": "https://localhost:8080/",
          "height": 348
        },
        "id": "ey9-FHzM21P_",
        "outputId": "fee2d260-f6e5-4db1-f7d7-52c829a41e4a"
      },
      "outputs": [
        {
          "ename": "UnboundLocalError",
          "evalue": "cannot access local variable 'a' where it is not associated with a value",
          "output_type": "error",
          "traceback": [
            "\u001b[1;31m---------------------------------------------------------------------------\u001b[0m",
            "\u001b[1;31mUnboundLocalError\u001b[0m                         Traceback (most recent call last)",
            "Cell \u001b[1;32mIn[4], line 9\u001b[0m\n\u001b[0;32m      6\u001b[0m     a \u001b[38;5;241m+\u001b[39m\u001b[38;5;241m=\u001b[39m \u001b[38;5;241m1\u001b[39m\n\u001b[0;32m      7\u001b[0m     \u001b[38;5;28mprint\u001b[39m(a)\n\u001b[1;32m----> 9\u001b[0m \u001b[43mtemp\u001b[49m\u001b[43m(\u001b[49m\u001b[43m)\u001b[49m\n\u001b[0;32m     10\u001b[0m \u001b[38;5;28mprint\u001b[39m(a)\n",
            "Cell \u001b[1;32mIn[4], line 6\u001b[0m, in \u001b[0;36mtemp\u001b[1;34m()\u001b[0m\n\u001b[0;32m      5\u001b[0m \u001b[38;5;28;01mdef\u001b[39;00m \u001b[38;5;21mtemp\u001b[39m():\n\u001b[1;32m----> 6\u001b[0m     \u001b[43ma\u001b[49m \u001b[38;5;241m+\u001b[39m\u001b[38;5;241m=\u001b[39m \u001b[38;5;241m1\u001b[39m\n\u001b[0;32m      7\u001b[0m     \u001b[38;5;28mprint\u001b[39m(a)\n",
            "\u001b[1;31mUnboundLocalError\u001b[0m: cannot access local variable 'a' where it is not associated with a value"
          ]
        }
      ],
      "source": [
        "# Local and Global => Editing Global\n",
        "\n",
        "a = 2 # This is a Global Scope\n",
        "\n",
        "def temp():\n",
        "    a += 1\n",
        "    print(a)\n",
        "\n",
        "temp()\n",
        "print(a)\n",
        "\n",
        "# You can access global scope from local but you can not change it."
      ]
    },
    {
      "cell_type": "code",
      "execution_count": 6,
      "metadata": {
        "colab": {
          "base_uri": "https://localhost:8080/"
        },
        "id": "F1FtV8ZLBNvy",
        "outputId": "4dd8a6e7-8cda-4652-c34c-f1b3b3b99f3b"
      },
      "outputs": [
        {
          "name": "stdout",
          "output_type": "stream",
          "text": [
            "3\n",
            "3\n"
          ]
        }
      ],
      "source": [
        "# Local and Global => Editing Global after using Global Keyword\n",
        "\n",
        "a = 2 # This is a Global Scope\n",
        "\n",
        "def temp():\n",
        "    global a\n",
        "    a += 1\n",
        "    print(a)\n",
        "\n",
        "temp()\n",
        "print(a)\n",
        "\n",
        "# If you declare global and then you can access"
      ]
    },
    {
      "cell_type": "code",
      "execution_count": null,
      "metadata": {
        "id": "yDkgBLQu3JIw"
      },
      "outputs": [
        {
          "name": "stdout",
          "output_type": "stream",
          "text": [
            "1\n",
            "1\n"
          ]
        }
      ],
      "source": [
        "# Local and Global => Global created inside Local\n",
        "\n",
        "\n",
        "def temp():\n",
        "    global a\n",
        "    a = 1\n",
        "    print(a)\n",
        "\n",
        "temp()\n",
        "print(a)\n",
        "\n",
        "# If you declare global and then you can access"
      ]
    },
    {
      "cell_type": "code",
      "execution_count": null,
      "metadata": {
        "colab": {
          "base_uri": "https://localhost:8080/",
          "height": 241
        },
        "id": "gWLr0xi024Or",
        "outputId": "744dd057-68f4-46f1-8f44-522eb5cf3521"
      },
      "outputs": [
        {
          "name": "stdout",
          "output_type": "stream",
          "text": [
            "5\n",
            "5\n"
          ]
        }
      ],
      "source": [
        "# Local and Global => Function parameter is Local\n",
        "\n",
        "def temp(z):\n",
        "    print(z)\n",
        "\n",
        "\n",
        "a = 5\n",
        "\n",
        "temp(5)\n",
        "print(a)\n"
      ]
    },
    {
      "cell_type": "code",
      "execution_count": null,
      "metadata": {
        "colab": {
          "base_uri": "https://localhost:8080/"
        },
        "id": "P7wHSji-3q-r",
        "outputId": "ff2f6d15-70a6-4972-b789-37eeac7082b1"
      },
      "outputs": [
        {
          "name": "stdout",
          "output_type": "stream",
          "text": [
            "Apurba Halder\n"
          ]
        },
        {
          "data": {
            "text/plain": [
              "int"
            ]
          },
          "execution_count": 12,
          "metadata": {},
          "output_type": "execute_result"
        }
      ],
      "source": [
        "# Built-In Scope\n",
        "\n",
        "print('Apurba Halder')\n",
        "type(1)"
      ]
    },
    {
      "cell_type": "code",
      "execution_count": null,
      "metadata": {
        "id": "F769q7Nj33tX"
      },
      "outputs": [
        {
          "name": "stdout",
          "output_type": "stream",
          "text": [
            "['ArithmeticError', 'AssertionError', 'AttributeError', 'BaseException', 'BaseExceptionGroup', 'BlockingIOError', 'BrokenPipeError', 'BufferError', 'BytesWarning', 'ChildProcessError', 'ConnectionAbortedError', 'ConnectionError', 'ConnectionRefusedError', 'ConnectionResetError', 'DeprecationWarning', 'EOFError', 'Ellipsis', 'EncodingWarning', 'EnvironmentError', 'Exception', 'ExceptionGroup', 'False', 'FileExistsError', 'FileNotFoundError', 'FloatingPointError', 'FutureWarning', 'GeneratorExit', 'IOError', 'ImportError', 'ImportWarning', 'IndentationError', 'IndexError', 'InterruptedError', 'IsADirectoryError', 'KeyError', 'KeyboardInterrupt', 'LookupError', 'MemoryError', 'ModuleNotFoundError', 'NameError', 'None', 'NotADirectoryError', 'NotImplemented', 'NotImplementedError', 'OSError', 'OverflowError', 'PendingDeprecationWarning', 'PermissionError', 'ProcessLookupError', 'RecursionError', 'ReferenceError', 'ResourceWarning', 'RuntimeError', 'RuntimeWarning', 'StopAsyncIteration', 'StopIteration', 'SyntaxError', 'SyntaxWarning', 'SystemError', 'SystemExit', 'TabError', 'TimeoutError', 'True', 'TypeError', 'UnboundLocalError', 'UnicodeDecodeError', 'UnicodeEncodeError', 'UnicodeError', 'UnicodeTranslateError', 'UnicodeWarning', 'UserWarning', 'ValueError', 'Warning', 'WindowsError', 'ZeroDivisionError', '__IPYTHON__', '__build_class__', '__debug__', '__doc__', '__import__', '__loader__', '__name__', '__package__', '__spec__', 'abs', 'aiter', 'all', 'anext', 'any', 'ascii', 'bin', 'bool', 'breakpoint', 'bytearray', 'bytes', 'callable', 'chr', 'classmethod', 'compile', 'complex', 'copyright', 'credits', 'delattr', 'dict', 'dir', 'display', 'divmod', 'enumerate', 'eval', 'exec', 'execfile', 'filter', 'float', 'format', 'frozenset', 'get_ipython', 'getattr', 'globals', 'hasattr', 'hash', 'help', 'hex', 'id', 'input', 'int', 'isinstance', 'issubclass', 'iter', 'len', 'license', 'list', 'locals', 'map', 'max', 'memoryview', 'min', 'next', 'object', 'oct', 'open', 'ord', 'pow', 'print', 'property', 'range', 'repr', 'reversed', 'round', 'runfile', 'set', 'setattr', 'slice', 'sorted', 'staticmethod', 'str', 'sum', 'super', 'tuple', 'type', 'vars', 'zip']\n"
          ]
        }
      ],
      "source": [
        "# How to see all the Built-In Scope \n",
        "\n",
        "import builtins\n",
        "print(dir(builtins))"
      ]
    },
    {
      "cell_type": "code",
      "execution_count": 20,
      "metadata": {
        "colab": {
          "base_uri": "https://localhost:8080/",
          "height": 241
        },
        "id": "Qd3fM_Ha3ruR",
        "outputId": "fb8b79d9-8b3a-483f-b1aa-b642832c1edd"
      },
      "outputs": [
        {
          "ename": "TypeError",
          "evalue": "max() takes 0 positional arguments but 1 was given",
          "output_type": "error",
          "traceback": [
            "\u001b[1;31m---------------------------------------------------------------------------\u001b[0m",
            "\u001b[1;31mTypeError\u001b[0m                                 Traceback (most recent call last)",
            "Cell \u001b[1;32mIn[20], line 4\u001b[0m\n\u001b[0;32m      1\u001b[0m \u001b[38;5;66;03m# Renaming Built-In's\u001b[39;00m\n\u001b[0;32m      3\u001b[0m L \u001b[38;5;241m=\u001b[39m [\u001b[38;5;241m1\u001b[39m,\u001b[38;5;241m2\u001b[39m,\u001b[38;5;241m3\u001b[39m]\n\u001b[1;32m----> 4\u001b[0m \u001b[38;5;28;43mmax\u001b[39;49m\u001b[43m(\u001b[49m\u001b[43mL\u001b[49m\u001b[43m)\u001b[49m\n\u001b[0;32m      6\u001b[0m \u001b[38;5;28;01mdef\u001b[39;00m \u001b[38;5;21mmax\u001b[39m():\n\u001b[0;32m      7\u001b[0m     \u001b[38;5;28mprint\u001b[39m(\u001b[38;5;124m'\u001b[39m\u001b[38;5;124mApurba\u001b[39m\u001b[38;5;124m'\u001b[39m)\n",
            "\u001b[1;31mTypeError\u001b[0m: max() takes 0 positional arguments but 1 was given"
          ]
        }
      ],
      "source": [
        "# Renaming Built-In's\n",
        "\n",
        "L = [1,2,3]\n",
        "max(L)\n",
        "\n",
        "def max():\n",
        "    print('Apurba')\n",
        "    \n",
        "max(L)"
      ]
    },
    {
      "cell_type": "code",
      "execution_count": null,
      "metadata": {
        "colab": {
          "base_uri": "https://localhost:8080/"
        },
        "id": "JORTYJik4LKH",
        "outputId": "1458570e-91b5-4533-d1be-2f89c4585c79"
      },
      "outputs": [
        {
          "ename": "NameError",
          "evalue": "name 'q' is not defined",
          "output_type": "error",
          "traceback": [
            "\u001b[1;31m---------------------------------------------------------------------------\u001b[0m",
            "\u001b[1;31mNameError\u001b[0m                                 Traceback (most recent call last)",
            "Cell \u001b[1;32mIn[31], line 11\u001b[0m\n\u001b[0;32m      8\u001b[0m     inner()\n\u001b[0;32m      9\u001b[0m     \u001b[38;5;28mprint\u001b[39m(\u001b[38;5;124m'\u001b[39m\u001b[38;5;124mOuter Function\u001b[39m\u001b[38;5;124m'\u001b[39m)\n\u001b[1;32m---> 11\u001b[0m \u001b[43mouter\u001b[49m\u001b[43m(\u001b[49m\u001b[43m)\u001b[49m    \n\u001b[0;32m     12\u001b[0m \u001b[38;5;28mprint\u001b[39m(\u001b[38;5;124m'\u001b[39m\u001b[38;5;124mMain Program\u001b[39m\u001b[38;5;124m'\u001b[39m) \u001b[38;5;66;03m# Global Scope\u001b[39;00m\n",
            "Cell \u001b[1;32mIn[31], line 8\u001b[0m, in \u001b[0;36mouter\u001b[1;34m()\u001b[0m\n\u001b[0;32m      5\u001b[0m \u001b[38;5;28;01mdef\u001b[39;00m \u001b[38;5;21minner\u001b[39m(): \u001b[38;5;66;03m# Local Scope\u001b[39;00m\n\u001b[0;32m      6\u001b[0m     \u001b[38;5;28mprint\u001b[39m(q) \n\u001b[1;32m----> 8\u001b[0m \u001b[43minner\u001b[49m\u001b[43m(\u001b[49m\u001b[43m)\u001b[49m\n\u001b[0;32m      9\u001b[0m \u001b[38;5;28mprint\u001b[39m(\u001b[38;5;124m'\u001b[39m\u001b[38;5;124mOuter Function\u001b[39m\u001b[38;5;124m'\u001b[39m)\n",
            "Cell \u001b[1;32mIn[31], line 6\u001b[0m, in \u001b[0;36mouter.<locals>.inner\u001b[1;34m()\u001b[0m\n\u001b[0;32m      5\u001b[0m \u001b[38;5;28;01mdef\u001b[39;00m \u001b[38;5;21minner\u001b[39m(): \u001b[38;5;66;03m# Local Scope\u001b[39;00m\n\u001b[1;32m----> 6\u001b[0m     \u001b[38;5;28mprint\u001b[39m(\u001b[43mq\u001b[49m)\n",
            "\u001b[1;31mNameError\u001b[0m: name 'q' is not defined"
          ]
        }
      ],
      "source": [
        "# Enclosing Scope\n",
        "\n",
        "\n",
        "def outer(): # Enclosing Scope\n",
        "\n",
        "    def inner(): # Local Scope\n",
        "        print(q) \n",
        "        \n",
        "    inner()\n",
        "    print('Outer Function')\n",
        "\n",
        "outer()    \n",
        "print('Main Program') # Global Scope"
      ]
    },
    {
      "cell_type": "code",
      "execution_count": 34,
      "metadata": {
        "colab": {
          "base_uri": "https://localhost:8080/"
        },
        "id": "mG6ONk3I4lFX",
        "outputId": "c989fa4d-0ffd-48bc-fedf-16afc53ca8fa"
      },
      "outputs": [
        {
          "name": "stdout",
          "output_type": "stream",
          "text": [
            "Inner 2\n",
            "Outer 2\n",
            "Main Program\n"
          ]
        }
      ],
      "source": [
        "# Nonlocal keyword\n",
        "\n",
        "def outer(): # Enclosing Scope\n",
        "    a = 1\n",
        "    def inner(): # Local Scope\n",
        "        nonlocal a\n",
        "        a += 1\n",
        "        print('Inner', a) \n",
        "        \n",
        "    inner()\n",
        "    print('Outer', a)\n",
        "\n",
        "outer()    \n",
        "print('Main Program') # Global Scope"
      ]
    },
    {
      "cell_type": "markdown",
      "metadata": {
        "id": "v2I4_MetLUYb"
      },
      "source": [
        "### Decorators\n",
        "\n",
        "A decorator in python is a function that receives another function as input and adds some functionality(decoration) to and it and returns it.\n",
        "\n",
        "This can happen only because python functions are 1st class citizens.\n",
        "\n",
        "There are 2 types of decorators available in python\n",
        "- `Built in decorators` like `@staticmethod`, `@classmethod`, `@abstractmethod` and `@property` etc\n",
        "- `User defined decorators` that we programmers can create according to our needs"
      ]
    },
    {
      "cell_type": "code",
      "execution_count": 36,
      "metadata": {
        "colab": {
          "base_uri": "https://localhost:8080/"
        },
        "id": "PLEnpaeHUvAk",
        "outputId": "86fe9ab7-3533-4ed2-cd65-f96e8941df74"
      },
      "outputs": [
        {
          "data": {
            "text/plain": [
              "4"
            ]
          },
          "execution_count": 36,
          "metadata": {},
          "output_type": "execute_result"
        }
      ],
      "source": [
        "# Python are 1st class function\n",
        "\n",
        "def modify(func, num):\n",
        "    return func(num)\n",
        "    \n",
        "def square(num):\n",
        "    return num**2\n",
        "\n",
        "modify(square, 2)"
      ]
    },
    {
      "cell_type": "code",
      "execution_count": 41,
      "metadata": {
        "colab": {
          "base_uri": "https://localhost:8080/"
        },
        "id": "fsyP9F9z5OSe",
        "outputId": "ec17ff47-2eaa-46e4-a6c7-0eb131ff488c"
      },
      "outputs": [
        {
          "name": "stdout",
          "output_type": "stream",
          "text": [
            "****************************************\n",
            "Apurba Halder\n",
            "****************************************\n",
            "****************************************\n",
            "Hallo, Ich bin Apurba Halder. \n",
            "****************************************\n"
          ]
        }
      ],
      "source": [
        "# Simple Example\n",
        "\n",
        "def my_decorator(func):\n",
        "    def wrapper():\n",
        "        print('****************************************')\n",
        "        func()\n",
        "        print('****************************************')\n",
        "    return wrapper\n",
        "\n",
        "def hello():\n",
        "    print('Apurba Halder')\n",
        "    \n",
        "def display():\n",
        "    print('Hallo, Ich bin Apurba Halder. ')\n",
        "    \n",
        "a = my_decorator(hello)\n",
        "a()\n",
        "\n",
        "b = my_decorator(display)\n",
        "b()\n",
        "\n"
      ]
    },
    {
      "cell_type": "code",
      "execution_count": null,
      "metadata": {
        "colab": {
          "base_uri": "https://localhost:8080/"
        },
        "id": "6xenz10AVfTp",
        "outputId": "cb2e3d25-d951-49d5-ae36-62fff01bae68"
      },
      "outputs": [
        {
          "name": "stdout",
          "output_type": "stream",
          "text": [
            "****************************************\n",
            "Apurba Halder\n",
            "****************************************\n"
          ]
        }
      ],
      "source": [
        "# Actual syntax\n",
        "\n",
        "def my_decorator(func):\n",
        "    def wrapper():\n",
        "        print('****************************************')\n",
        "        func()\n",
        "        print('****************************************')\n",
        "    return wrapper\n",
        "\n",
        "@my_decorator\n",
        "def hello():\n",
        "    print('Apurba Halder')\n",
        "    \n",
        "    \n",
        "hello()\n"
      ]
    },
    {
      "cell_type": "code",
      "execution_count": 55,
      "metadata": {
        "colab": {
          "base_uri": "https://localhost:8080/"
        },
        "id": "JGXuT9XSP3ue",
        "outputId": "0d9ce629-0d1e-4198-b9b4-95e21486adc8"
      },
      "outputs": [
        {
          "name": "stdout",
          "output_type": "stream",
          "text": [
            "Hallo, Ich bin Apurba Halder. Wo immens du?\n",
            "Execution time is hello 2.0013427734375 Seconds.\n",
            "Hi, Kaffee und Brot, Bitte\n",
            "Execution time is display 4.000826835632324 Seconds.\n",
            "4\n",
            "Execution time is square 1.0011208057403564 Seconds.\n",
            "3125\n",
            "Execution time is power 1.000708818435669 Seconds.\n"
          ]
        }
      ],
      "source": [
        "# Create a meaningful Decorator which can tell the time of a function execution time.\n",
        "\n",
        "import time\n",
        "\n",
        "def timer(func):\n",
        "    def wrapper(*args):\n",
        "        start = time.time()\n",
        "        func(*args)\n",
        "        print('Execution time is', func.__name__ , time.time()-start, 'Seconds.')\n",
        "    return wrapper\n",
        "\n",
        "\n",
        "@timer\n",
        "def hello():\n",
        "    print('Hallo, Ich bin Apurba Halder. Wo immens du?')\n",
        "    time.sleep(2)\n",
        "\n",
        "@timer\n",
        "def display():\n",
        "    print('Hi, Kaffee und Brot, Bitte')\n",
        "    time.sleep(4)\n",
        "\n",
        "@timer\n",
        "def square(num):\n",
        "    time.sleep(1)\n",
        "    print(num**2) \n",
        "\n",
        "@timer\n",
        "def power(a,b):\n",
        "    time.sleep(1)\n",
        "    print(a**b) \n",
        "\n",
        "\n",
        "hello()\n",
        "display()\n",
        "square(2)\n",
        "power(5,5)"
      ]
    },
    {
      "cell_type": "code",
      "execution_count": 69,
      "metadata": {
        "id": "WDb2Cn_PQAA9"
      },
      "outputs": [
        {
          "name": "stdout",
          "output_type": "stream",
          "text": [
            "Hallo Apurba\n"
          ]
        }
      ],
      "source": [
        "# Decorators with Arguments which will check if the function is receiving an data type if its correct or not.\n",
        "\n",
        "def sanity_check(data_type):\n",
        "    \n",
        "    def outer_wrapper(func):\n",
        "        def inner_wrapper(*args):\n",
        "            if type(*args) == data_type:\n",
        "                func(*args)\n",
        "            else:\n",
        "                raise TypeError('This Data Type will not work.')\n",
        "        return inner_wrapper\n",
        "    return outer_wrapper\n",
        "\n",
        "\n",
        "@sanity_check(int) # You can send input to decorator as well.\n",
        "def square(num):\n",
        "    print(num**2)\n",
        "\n",
        "@sanity_check(str)\n",
        "def greet(name):\n",
        "    print('Hallo', name)\n",
        "\n",
        "\n",
        "# square()\n",
        "greet('Apurba')"
      ]
    },
    {
      "cell_type": "code",
      "execution_count": null,
      "metadata": {},
      "outputs": [],
      "source": []
    }
  ],
  "metadata": {
    "colab": {
      "provenance": []
    },
    "kernelspec": {
      "display_name": "Python 3",
      "name": "python3"
    },
    "language_info": {
      "codemirror_mode": {
        "name": "ipython",
        "version": 3
      },
      "file_extension": ".py",
      "mimetype": "text/x-python",
      "name": "python",
      "nbconvert_exporter": "python",
      "pygments_lexer": "ipython3",
      "version": "3.11.9"
    }
  },
  "nbformat": 4,
  "nbformat_minor": 0
}
