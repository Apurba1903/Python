{
 "cells": [
  {
   "cell_type": "markdown",
   "metadata": {
    "id": "YvVCKvEhNhie"
   },
   "source": [
    "## Example Programs"
   ]
  },
  {
   "cell_type": "code",
   "execution_count": 1,
   "metadata": {
    "colab": {
     "base_uri": "https://localhost:8080/"
    },
    "id": "KKEdMynlM-_F",
    "outputId": "f7eccfbd-c7d3-4825-df4a-215b2a338aaa"
   },
   "outputs": [
    {
     "name": "stdin",
     "output_type": "stream",
     "text": [
      "Enter the string:  Apurba Halder\n"
     ]
    },
    {
     "name": "stdout",
     "output_type": "stream",
     "text": [
      "The length of the string is:  13\n"
     ]
    }
   ],
   "source": [
    "# Find the length of a given string without using the len() function\n",
    "\n",
    "s = input('Enter the string: ')\n",
    "\n",
    "counter = 0\n",
    "\n",
    "for i in s:\n",
    "    counter += 1\n",
    "\n",
    "print ('The length of the string is: ',counter)"
   ]
  },
  {
   "cell_type": "code",
   "execution_count": 5,
   "metadata": {
    "colab": {
     "base_uri": "https://localhost:8080/"
    },
    "id": "2Db_x3upNzFo",
    "outputId": "db63c64d-3775-46c0-fbf6-a65ea0e96d5b"
   },
   "outputs": [
    {
     "name": "stdin",
     "output_type": "stream",
     "text": [
      "Enter your Email:  Apurba1903@gmail.com\n"
     ]
    },
    {
     "name": "stdout",
     "output_type": "stream",
     "text": [
      "Apurba1903\n"
     ]
    }
   ],
   "source": [
    "# Extract username from a given email.\n",
    "# Eg if the email is nitish24singh@gmail.com\n",
    "# then the username should be nitish24singh\n",
    "\n",
    "s = input('Enter your Email: ')\n",
    "\n",
    "position = (s.index('@'))\n",
    "\n",
    "print (s[0:position])\n"
   ]
  },
  {
   "cell_type": "code",
   "execution_count": 7,
   "metadata": {
    "colab": {
     "base_uri": "https://localhost:8080/"
    },
    "id": "N7agO2bGN6ZH",
    "outputId": "744473ea-26a5-428e-dbd1-987a2c435967"
   },
   "outputs": [
    {
     "name": "stdin",
     "output_type": "stream",
     "text": [
      "Enter a string:  Hi, My name is Apurba Halder. I am learning python programming.\n",
      "What you want to find in the String:  a\n"
     ]
    },
    {
     "name": "stdout",
     "output_type": "stream",
     "text": [
      "Frequency is  6\n"
     ]
    }
   ],
   "source": [
    "# Count the frequency of a particular character in a provided string.\n",
    "# Eg 'hello how are you' is the string, the frequency of h in this string is 2.\n",
    "\n",
    "s = input('Enter a string: ')\n",
    "term = input('What you want to find in the String: ')\n",
    "\n",
    "counter = 0\n",
    "\n",
    "for i in s:\n",
    "    if i == term:\n",
    "        counter +=1\n",
    "\n",
    "print ('Frequency is ',counter)\n"
   ]
  },
  {
   "cell_type": "code",
   "execution_count": 10,
   "metadata": {
    "colab": {
     "base_uri": "https://localhost:8080/"
    },
    "id": "5nnIm08wOAhP",
    "outputId": "b9db5f10-ec01-4539-ad92-9c6a7d6ff89c"
   },
   "outputs": [
    {
     "name": "stdin",
     "output_type": "stream",
     "text": [
      "Enter a string:  I am Apurba Halder\n",
      "What you want to remove in the String:  a\n"
     ]
    },
    {
     "name": "stdout",
     "output_type": "stream",
     "text": [
      "I m Apurb Hlder\n"
     ]
    }
   ],
   "source": [
    "# Write a program which can remove a particular character from a string.\n",
    "\n",
    "s = input('Enter a string: ')\n",
    "term = input('What you want to remove in the String: ')\n",
    "\n",
    "result = ''\n",
    "\n",
    "for i in s:\n",
    "    if i != term:\n",
    "        result = result + i\n",
    "\n",
    "print (result)\n",
    "\n"
   ]
  },
  {
   "cell_type": "code",
   "execution_count": 13,
   "metadata": {
    "colab": {
     "base_uri": "https://localhost:8080/"
    },
    "id": "OWLbKD8yOIL8",
    "outputId": "cd490de2-7bb3-49cb-a9a6-2227bca3e815"
   },
   "outputs": [
    {
     "name": "stdin",
     "output_type": "stream",
     "text": [
      "Enter a string:  RACECAR\n"
     ]
    },
    {
     "name": "stdout",
     "output_type": "stream",
     "text": [
      "Palindrome\n"
     ]
    }
   ],
   "source": [
    "# Write a program that can check whether a given string is palindrome or not.\n",
    "\n",
    "s = input('Enter a string: ')\n",
    "\n",
    "flag = True\n",
    "\n",
    "for i in range (0,len(s)//2):\n",
    "    if s[i] != s[len(s) - i -1]:\n",
    "        flag = False\n",
    "        print('Not a Palindrome')\n",
    "        break\n",
    "if flag:\n",
    "    print('Palindrome')\n",
    "\n"
   ]
  },
  {
   "cell_type": "code",
   "execution_count": 17,
   "metadata": {
    "colab": {
     "base_uri": "https://localhost:8080/"
    },
    "id": "qBHUb5taOLdC",
    "outputId": "7d771c8a-9123-488b-8f63-06435638fb2e"
   },
   "outputs": [
    {
     "name": "stdin",
     "output_type": "stream",
     "text": [
      "Enter a string:  Hello Mate! How you doin?\n"
     ]
    },
    {
     "name": "stdout",
     "output_type": "stream",
     "text": [
      "['Hello', 'Mate!', 'How', 'you', 'doin?']\n"
     ]
    }
   ],
   "source": [
    "# Write a program to count the number of words in a string without split()\n",
    "\n",
    "s = input('Enter a string: ')\n",
    "\n",
    "temp = ''\n",
    "L = []\n",
    "\n",
    "for i in s:\n",
    "    if i != ' ':\n",
    "        temp = temp + i\n",
    "    else:\n",
    "        L.append(temp)\n",
    "        temp = ''\n",
    "        \n",
    "L.append(temp)\n",
    "\n",
    "print (L)\n"
   ]
  },
  {
   "cell_type": "code",
   "execution_count": 25,
   "metadata": {
    "colab": {
     "base_uri": "https://localhost:8080/"
    },
    "id": "tz_DbyP-OO9z",
    "outputId": "218e781e-a930-4b85-a223-5de2212e0ed0"
   },
   "outputs": [
    {
     "name": "stdin",
     "output_type": "stream",
     "text": [
      "Enter a string:  Hello BART, I am MoeW\n"
     ]
    },
    {
     "name": "stdout",
     "output_type": "stream",
     "text": [
      "Hello Bart, I Am Moew\n"
     ]
    }
   ],
   "source": [
    "# Write a python program to convert a string to title case without using the title()\n",
    "\n",
    "s = input('Enter a string: ')\n",
    "\n",
    "L = []\n",
    "\n",
    "for i in s.split():\n",
    "    L.append(i[0].upper() + i[1:].lower())\n",
    "\n",
    "print (' '.join(L))"
   ]
  },
  {
   "cell_type": "code",
   "execution_count": 28,
   "metadata": {
    "colab": {
     "base_uri": "https://localhost:8080/"
    },
    "id": "Gj-c2HctOibM",
    "outputId": "8c1c15a6-9f20-4de1-ddba-e9801122c973"
   },
   "outputs": [
    {
     "name": "stdin",
     "output_type": "stream",
     "text": [
      "Enter a number:  500\n"
     ]
    },
    {
     "name": "stdout",
     "output_type": "stream",
     "text": [
      "500\n",
      "<class 'str'>\n"
     ]
    }
   ],
   "source": [
    "# Write a program that can convert an integer to string.\n",
    "\n",
    "number = int(input('Enter a number: '))\n",
    "\n",
    "digits = '0123456789'\n",
    "\n",
    "result = ''\n",
    "\n",
    "while number != 0:\n",
    "    result = digits[number % 10] + result\n",
    "    number = number // 10\n",
    "\n",
    "print (result)\n",
    "print (type(result))\n",
    "\n"
   ]
  },
  {
   "cell_type": "code",
   "execution_count": null,
   "metadata": {},
   "outputs": [],
   "source": []
  }
 ],
 "metadata": {
  "colab": {
   "provenance": []
  },
  "kernelspec": {
   "display_name": "Python 3 (ipykernel)",
   "language": "python",
   "name": "python3"
  },
  "language_info": {
   "codemirror_mode": {
    "name": "ipython",
    "version": 3
   },
   "file_extension": ".py",
   "mimetype": "text/x-python",
   "name": "python",
   "nbconvert_exporter": "python",
   "pygments_lexer": "ipython3",
   "version": "3.10.13"
  }
 },
 "nbformat": 4,
 "nbformat_minor": 4
}
