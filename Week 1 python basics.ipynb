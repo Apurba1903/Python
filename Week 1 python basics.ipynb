{
 "cells": [
  {
   "cell_type": "code",
   "execution_count": 5,
   "id": "a30af0ae-940d-496d-8a9b-5f57eb4c78df",
   "metadata": {},
   "outputs": [
    {
     "name": "stdout",
     "output_type": "stream",
     "text": [
      "Hello World\n"
     ]
    }
   ],
   "source": [
    "# Python is a case sensitive language.\n",
    "print ('Hello World')"
   ]
  },
  {
   "cell_type": "code",
   "execution_count": 9,
   "id": "8d231f44-6be3-4763-837a-91f414dd644b",
   "metadata": {},
   "outputs": [
    {
     "name": "stdout",
     "output_type": "stream",
     "text": [
      "True\n"
     ]
    }
   ],
   "source": [
    "print(True)"
   ]
  },
  {
   "cell_type": "code",
   "execution_count": 10,
   "id": "f37e7a0b-5c79-42e5-9576-bf6eeb20cf9d",
   "metadata": {},
   "outputs": [
    {
     "name": "stdout",
     "output_type": "stream",
     "text": [
      "Hello 1.5 1903 False\n"
     ]
    }
   ],
   "source": [
    "print (\"Hello\", 1.5, 1903, False)"
   ]
  },
  {
   "cell_type": "code",
   "execution_count": 11,
   "id": "919f06dd-0de5-4c6d-b0a6-962d6a5e5af8",
   "metadata": {},
   "outputs": [
    {
     "name": "stdout",
     "output_type": "stream",
     "text": [
      "Hello/1.5/1903/False\n"
     ]
    }
   ],
   "source": [
    "print (\"Hello\", 1.5, 1903, False, sep=\"/\") "
   ]
  },
  {
   "cell_type": "code",
   "execution_count": 17,
   "id": "9191d795-9176-4823-b416-c3725e320ff0",
   "metadata": {},
   "outputs": [
    {
     "name": "stdout",
     "output_type": "stream",
     "text": [
      "Hello * World\n"
     ]
    }
   ],
   "source": [
    "print (\"Hello\", end=\" * \")\n",
    "print (\"World\")"
   ]
  },
  {
   "cell_type": "code",
   "execution_count": 18,
   "id": "79f7b0de-fc46-4576-8b25-3c2780e16c26",
   "metadata": {},
   "outputs": [
    {
     "name": "stdout",
     "output_type": "stream",
     "text": [
      " 8.55\n"
     ]
    }
   ],
   "source": [
    "print (\" 8.55\")"
   ]
  },
  {
   "cell_type": "code",
   "execution_count": 19,
   "id": "b0e5ad96-6c17-4a45-9bd5-773be8a4a477",
   "metadata": {},
   "outputs": [
    {
     "name": "stdout",
     "output_type": "stream",
     "text": [
      "True\n",
      "False\n"
     ]
    }
   ],
   "source": [
    "print (True)\n",
    "print (False)"
   ]
  },
  {
   "cell_type": "code",
   "execution_count": 20,
   "id": "291d8146-41e0-4a48-9ae1-9ba2415ccc29",
   "metadata": {},
   "outputs": [
    {
     "name": "stdout",
     "output_type": "stream",
     "text": [
      " Hello World\n"
     ]
    }
   ],
   "source": [
    "print (\" Hello World\")"
   ]
  },
  {
   "cell_type": "code",
   "execution_count": 22,
   "id": "7d5b7ec8-dacb-483e-98ee-484367e6f84a",
   "metadata": {},
   "outputs": [
    {
     "name": "stdout",
     "output_type": "stream",
     "text": [
      "(5+2j)\n"
     ]
    }
   ],
   "source": [
    "print (5+2j)"
   ]
  },
  {
   "cell_type": "code",
   "execution_count": 23,
   "id": "09126a27-d4a5-46f3-93dc-6aa5039a1657",
   "metadata": {},
   "outputs": [
    {
     "name": "stdout",
     "output_type": "stream",
     "text": [
      "[1, 2, 3, 4, 5]\n"
     ]
    }
   ],
   "source": [
    "print ([1,2,3,4,5])"
   ]
  },
  {
   "cell_type": "code",
   "execution_count": 24,
   "id": "10c48626-128d-4609-8fd2-0fc7671b2b0d",
   "metadata": {},
   "outputs": [
    {
     "name": "stdout",
     "output_type": "stream",
     "text": [
      "(1, 2, 3, 4, 5)\n"
     ]
    }
   ],
   "source": [
    "print ((1,2,3,4,5))"
   ]
  },
  {
   "cell_type": "code",
   "execution_count": 25,
   "id": "fcb93e4c-0b8f-468d-9112-7d03c93bbaaa",
   "metadata": {},
   "outputs": [
    {
     "name": "stdout",
     "output_type": "stream",
     "text": [
      "{1, 2, 3, 4, 5}\n"
     ]
    }
   ],
   "source": [
    "print ({1,2,3,4,5})"
   ]
  },
  {
   "cell_type": "code",
   "execution_count": 27,
   "id": "5eff5fad-d973-43a9-9a79-985d7e4cf436",
   "metadata": {},
   "outputs": [
    {
     "name": "stdout",
     "output_type": "stream",
     "text": [
      "{'Name': 'Apurba', 'Age': '25', 'Gender': 'Male'}\n"
     ]
    }
   ],
   "source": [
    "print ({'Name' : 'Apurba' , 'Age' : '25' , 'Gender' : 'Male'})"
   ]
  },
  {
   "cell_type": "code",
   "execution_count": 28,
   "id": "c78e516d-3b72-466f-b3a6-96ecec499714",
   "metadata": {},
   "outputs": [
    {
     "data": {
      "text/plain": [
       "int"
      ]
     },
     "execution_count": 28,
     "metadata": {},
     "output_type": "execute_result"
    }
   ],
   "source": [
    "type(2)"
   ]
  },
  {
   "cell_type": "code",
   "execution_count": 30,
   "id": "41649822-d416-45e4-a4d9-7191ae87bfcc",
   "metadata": {},
   "outputs": [
    {
     "data": {
      "text/plain": [
       "str"
      ]
     },
     "execution_count": 30,
     "metadata": {},
     "output_type": "execute_result"
    }
   ],
   "source": [
    "type('Apurba')"
   ]
  },
  {
   "cell_type": "code",
   "execution_count": 31,
   "id": "8e9633b9-7417-4033-89e7-9ffc3e91dc05",
   "metadata": {},
   "outputs": [
    {
     "data": {
      "text/plain": [
       "list"
      ]
     },
     "execution_count": 31,
     "metadata": {},
     "output_type": "execute_result"
    }
   ],
   "source": [
    "type([1,2,3])"
   ]
  },
  {
   "cell_type": "code",
   "execution_count": 33,
   "id": "2e936aff-c49b-4f8b-9a3e-33ad5d72969b",
   "metadata": {},
   "outputs": [
    {
     "name": "stdout",
     "output_type": "stream",
     "text": [
      "2\n"
     ]
    }
   ],
   "source": [
    "A = 2\n",
    "print (A)"
   ]
  },
  {
   "cell_type": "code",
   "execution_count": 36,
   "id": "696d73c5-e4e8-45d5-935c-f0c717c06501",
   "metadata": {},
   "outputs": [
    {
     "name": "stdout",
     "output_type": "stream",
     "text": [
      "489\n"
     ]
    }
   ],
   "source": [
    "a = 69\n",
    "b = 420\n",
    "print(a+b)"
   ]
  },
  {
   "cell_type": "code",
   "execution_count": 37,
   "id": "2e502ea2-bb33-482d-93a0-4958e1aa5e5e",
   "metadata": {},
   "outputs": [],
   "source": [
    "# Dynamic typing means we do not tell python that what is the data type. \n",
    "# The interpretor of python automatically understands it."
   ]
  },
  {
   "cell_type": "code",
   "execution_count": 41,
   "id": "2b33b86c-b481-4dcc-a9e1-7b9ea55b8885",
   "metadata": {},
   "outputs": [
    {
     "name": "stdout",
     "output_type": "stream",
     "text": [
      "5\n",
      "Apurba\n"
     ]
    }
   ],
   "source": [
    "A = 5\n",
    "print (A)\n",
    "A = 'Apurba'\n",
    "print (A)"
   ]
  },
  {
   "cell_type": "code",
   "execution_count": 43,
   "id": "d207a4ac-eee2-4513-bc37-8688471e02b6",
   "metadata": {},
   "outputs": [
    {
     "name": "stdout",
     "output_type": "stream",
     "text": [
      "1 2 3\n"
     ]
    }
   ],
   "source": [
    "a, b, c = 1, 2, 3\n",
    "print (a, b, c)"
   ]
  },
  {
   "cell_type": "code",
   "execution_count": 44,
   "id": "7ae7cdab-b9ec-45a1-ab3c-5ed5c28d2810",
   "metadata": {},
   "outputs": [
    {
     "name": "stdout",
     "output_type": "stream",
     "text": [
      "5 5 5\n"
     ]
    }
   ],
   "source": [
    "a=b=c = 5\n",
    "print (a, b, c)"
   ]
  },
  {
   "cell_type": "code",
   "execution_count": 51,
   "id": "50bf2967-83c4-4f11-a4b2-e11e33916b7e",
   "metadata": {},
   "outputs": [
    {
     "name": "stdin",
     "output_type": "stream",
     "text": [
      "Enter 1st Number :  20\n",
      "Enter 2nd Number :  30\n"
     ]
    },
    {
     "name": "stdout",
     "output_type": "stream",
     "text": [
      "50\n"
     ]
    }
   ],
   "source": [
    "A = int (input (\"Enter 1st Number : \"))\n",
    "B = int (input (\"Enter 2nd Number : \"))\n",
    "Sum = A+B\n",
    "print (Sum)\n",
    "\n",
    "# Type Conversion"
   ]
  },
  {
   "cell_type": "code",
   "execution_count": 54,
   "id": "cc7f8dcb-8094-4039-a1e0-747f7b38287a",
   "metadata": {},
   "outputs": [
    {
     "name": "stdout",
     "output_type": "stream",
     "text": [
      "ApurbaHalder\n"
     ]
    }
   ],
   "source": [
    "first_name = 'Apurba'\n",
    "last_name = 'Halder'\n",
    "\n",
    "full_name = first_name + last_name\n",
    "\n",
    "print (full_name)"
   ]
  },
  {
   "cell_type": "code",
   "execution_count": 59,
   "id": "a68538cb-9ed9-4d67-864f-afef5b644527",
   "metadata": {},
   "outputs": [
    {
     "name": "stdout",
     "output_type": "stream",
     "text": [
      "32\n"
     ]
    }
   ],
   "source": [
    "#Literals\n",
    "\n",
    "a = 0b100000 \n",
    "print (a)"
   ]
  },
  {
   "cell_type": "code",
   "execution_count": 64,
   "id": "43dfba9a-608c-4f72-8d02-93a0d09c315b",
   "metadata": {},
   "outputs": [
    {
     "name": "stdout",
     "output_type": "stream",
     "text": [
      "🐠\n"
     ]
    }
   ],
   "source": [
    "unicode = u\"\\U0001f420\"\n",
    "print (unicode)"
   ]
  },
  {
   "cell_type": "code",
   "execution_count": 65,
   "id": "c90033a2-0809-4572-9762-95fe64180a33",
   "metadata": {},
   "outputs": [
    {
     "name": "stdout",
     "output_type": "stream",
     "text": [
      "None\n"
     ]
    }
   ],
   "source": [
    "a = None\n",
    "print (a)"
   ]
  },
  {
   "cell_type": "code",
   "execution_count": null,
   "id": "e55292b4-9452-40ba-9a94-85159510bdc8",
   "metadata": {},
   "outputs": [],
   "source": []
  }
 ],
 "metadata": {
  "kernelspec": {
   "display_name": "Python 3 (ipykernel)",
   "language": "python",
   "name": "python3"
  },
  "language_info": {
   "codemirror_mode": {
    "name": "ipython",
    "version": 3
   },
   "file_extension": ".py",
   "mimetype": "text/x-python",
   "name": "python",
   "nbconvert_exporter": "python",
   "pygments_lexer": "ipython3",
   "version": "3.10.13"
  }
 },
 "nbformat": 4,
 "nbformat_minor": 5
}
