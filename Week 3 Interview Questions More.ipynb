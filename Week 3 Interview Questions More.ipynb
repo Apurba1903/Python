{
  "cells": [
    {
      "cell_type": "markdown",
      "metadata": {
        "id": "8g7s0N6vQFNW"
      },
      "source": [
        "- How indexing works in sets\n",
        "- Why dict key cant be mutable data types\n",
        "- Enumerate\n",
        "- destructor\n",
        "- dir/isinstance/issubclass\n",
        "- classmethod vs staticmethod\n",
        "- The diamond problem\n",
        "- What’s the meaning of single and double underscores in Python variable and method names\n",
        "- Magic Methods (repr vs str)\n",
        "- How can objects be stored in sets even though they are mutable"
      ]
    },
    {
      "cell_type": "code",
      "execution_count": 7,
      "metadata": {
        "colab": {
          "base_uri": "https://localhost:8080/"
        },
        "id": "4YADog27XRE_",
        "outputId": "e763b5c7-4eb1-4d6c-f847-97223c9b5f34"
      },
      "outputs": [
        {
          "data": {
            "text/plain": [
              "{11, 21, 34, 39, 56}"
            ]
          },
          "execution_count": 7,
          "metadata": {},
          "output_type": "execute_result"
        }
      ],
      "source": [
        "# How Indexing works in SETS\n",
        "\n",
        "s = {21, 34, 11, 56, 39}        # Any sets index position depends on hashing algorithm\n",
        "s                               # Probing or Chaining[Link List]\n",
        "\n",
        "# The reason we dont use hashing in list because of order matters."
      ]
    },
    {
      "cell_type": "code",
      "execution_count": 8,
      "metadata": {
        "colab": {
          "base_uri": "https://localhost:8080/"
        },
        "id": "v1SP9lAYcDns",
        "outputId": "1d72074e-0786-4606-f69f-b0e0bdfbf59f"
      },
      "outputs": [
        {
          "data": {
            "text/plain": [
              "{(1, 2, 3): 'Apurba'}"
            ]
          },
          "execution_count": 8,
          "metadata": {},
          "output_type": "execute_result"
        }
      ],
      "source": [
        "# Why dict key cant be mutable data types\n",
        "\n",
        "d = {(1,2,3):'Apurba'}\n",
        "d"
      ]
    },
    {
      "cell_type": "code",
      "execution_count": null,
      "metadata": {
        "colab": {
          "base_uri": "https://localhost:8080/",
          "height": 187
        },
        "id": "ZL2OZTZDcHv3",
        "outputId": "9cbc1da3-6f53-45d3-8153-b2409e2a08aa"
      },
      "outputs": [
        {
          "ename": "SyntaxError",
          "evalue": "invalid syntax (2176076090.py, line 3)",
          "output_type": "error",
          "traceback": [
            "\u001b[1;36m  Cell \u001b[1;32mIn[10], line 3\u001b[1;36m\u001b[0m\n\u001b[1;33m    OUTPUT:\u001b[0m\n\u001b[1;37m           ^\u001b[0m\n\u001b[1;31mSyntaxError\u001b[0m\u001b[1;31m:\u001b[0m invalid syntax\n"
          ]
        }
      ],
      "source": [
        "d = {[1,2,3]:'Apurba'}\n",
        "d \n",
        "# Mutable data type can not be a key because of hashing problem where it changed the value and make issues.\n",
        "# We have to recalculate hash every time we change the key value."
      ]
    },
    {
      "cell_type": "code",
      "execution_count": null,
      "metadata": {
        "colab": {
          "base_uri": "https://localhost:8080/"
        },
        "id": "SNuZUS02QHgn",
        "outputId": "f4185458-09c5-43e4-da87-bbe52470bb38"
      },
      "outputs": [
        {
          "data": {
            "text/plain": [
              "[('Tahjib', 29), ('Apurba', 25), ('Arnob', 22)]"
            ]
          },
          "execution_count": 25,
          "metadata": {},
          "output_type": "execute_result"
        }
      ],
      "source": [
        "# Enumerate\n",
        "# The Enumerate() method adds a counter to an iterable and returns it (the enumerate object).\n",
        "\n",
        "L = [('Apurba',25),('Arnob',22),('Tahjib',29)]\n",
        "\n",
        "sorted(L, key=lambda x:x[1], reverse=True)\n",
        "\n",
        "# Sort by 2nd value of a pair."
      ]
    },
    {
      "cell_type": "code",
      "execution_count": 17,
      "metadata": {
        "colab": {
          "base_uri": "https://localhost:8080/"
        },
        "id": "PkKjtmoueMcS",
        "outputId": "c23fa47b-6d24-4255-d348-7230cfb11556"
      },
      "outputs": [
        {
          "data": {
            "text/plain": [
              "[(100, 50), (101, 45), (102, 67), (103, 89)]"
            ]
          },
          "execution_count": 17,
          "metadata": {},
          "output_type": "execute_result"
        }
      ],
      "source": [
        "# Enumerate adds counter to an list.\n",
        "\n",
        "L = [50, 45, 67, 89]\n",
        "list(enumerate(L, start=100))"
      ]
    },
    {
      "cell_type": "code",
      "execution_count": 35,
      "metadata": {
        "colab": {
          "base_uri": "https://localhost:8080/"
        },
        "id": "h7Z7xBiCcF6t",
        "outputId": "b1ab55f1-d0ef-4b43-bd29-5afb1c7176df"
      },
      "outputs": [
        {
          "name": "stdout",
          "output_type": "stream",
          "text": [
            "Constructor Called\n",
            "Destructor Called\n"
          ]
        }
      ],
      "source": [
        "# Destructor\n",
        "\n",
        "class Example:\n",
        "\n",
        "    def __init__(self):                 # When object is created then constructor is called\n",
        "        print('Constructor Called')\n",
        "\n",
        "    \n",
        "    def __del__(self):                  # When object is deleted then destructor is called\n",
        "        print('Destructor Called')\n",
        "\n",
        "obj = Example()\n",
        "a = obj\n",
        "\n",
        "del obj\n",
        "del a\n",
        "\n",
        "# Un till we delete all the reference of the destructor will not work"
      ]
    },
    {
      "cell_type": "code",
      "execution_count": 36,
      "metadata": {
        "colab": {
          "base_uri": "https://localhost:8080/"
        },
        "id": "7zpWBxLmc0QF",
        "outputId": "4f3c924c-3fb6-427d-c11e-6cb9b46b7e11"
      },
      "outputs": [
        {
          "name": "stdout",
          "output_type": "stream",
          "text": [
            "['_Test__baz', '__class__', '__delattr__', '__dict__', '__dir__', '__doc__', '__eq__', '__format__', '__ge__', '__getattribute__', '__getstate__', '__gt__', '__hash__', '__init__', '__init_subclass__', '__le__', '__lt__', '__module__', '__ne__', '__new__', '__reduce__', '__reduce_ex__', '__repr__', '__setattr__', '__sizeof__', '__str__', '__subclasshook__', '__weakref__', '_bar', 'foo', 'greet']\n"
          ]
        }
      ],
      "source": [
        "# dir\n",
        "\n",
        "class Test:\n",
        "    \n",
        "    def __init__(self):\n",
        "        self.foo = 11\n",
        "        self._bar = 23\n",
        "        self.__baz = 23\n",
        "\n",
        "    def greet(self):\n",
        "        print('Hello')\n",
        "\n",
        "t = Test()\n",
        "print(dir(t))\n",
        "\n",
        "# This gives us a list with the object’s attributes"
      ]
    },
    {
      "cell_type": "code",
      "execution_count": 39,
      "metadata": {
        "colab": {
          "base_uri": "https://localhost:8080/"
        },
        "id": "gbqv-qpDjfIf",
        "outputId": "772f72ce-aff6-4fe9-fcc3-af69ebd5b137"
      },
      "outputs": [
        {
          "name": "stdout",
          "output_type": "stream",
          "text": [
            "Hello\n"
          ]
        },
        {
          "data": {
            "text/plain": [
              "True"
            ]
          },
          "execution_count": 39,
          "metadata": {},
          "output_type": "execute_result"
        }
      ],
      "source": [
        "# isinstance\n",
        "\n",
        "class Example:\n",
        "\n",
        "    def __init__(self):\n",
        "        print('Hello')\n",
        "\n",
        "obj = Example()\n",
        "\n",
        "isinstance(obj,Example)"
      ]
    },
    {
      "cell_type": "code",
      "execution_count": 46,
      "metadata": {
        "colab": {
          "base_uri": "https://localhost:8080/"
        },
        "id": "IaoALHTHscQk",
        "outputId": "13617314-bb99-4754-f2e0-ea9b11cc9fea"
      },
      "outputs": [
        {
          "data": {
            "text/plain": [
              "True"
            ]
          },
          "execution_count": 46,
          "metadata": {},
          "output_type": "execute_result"
        }
      ],
      "source": [
        "# issubclass\n",
        "\n",
        "class A:\n",
        "    \n",
        "    def __init__(self):\n",
        "        pass\n",
        "\n",
        "class B(A):\n",
        "    pass\n",
        "\n",
        "\n",
        "issubclass(B,A)"
      ]
    },
    {
      "cell_type": "markdown",
      "metadata": {
        "id": "K1bywWmVC0-5"
      },
      "source": [
        "### classmethod\n",
        "- A class method is a method that is bound to the class and not the object of the class.\n",
        "- They have the access to the state of the class as it takes a class parameter that points to the class and not the object instance.\n",
        "- It can modify a class state that would apply across all the instances of the class. For example, it can modify a class variable that will be applicable to all the instances."
      ]
    },
    {
      "cell_type": "markdown",
      "metadata": {
        "id": "t-FxUfxODJcy"
      },
      "source": [
        "### staticmethod\n",
        "A static method does not receive an implicit first argument. A static method is also a method that is bound to the class and not the object of the class. This method can’t access or modify the class state. It is present in a class because it makes sense for the method to be present in class."
      ]
    },
    {
      "cell_type": "code",
      "execution_count": null,
      "metadata": {
        "id": "QZSo-vziBksz"
      },
      "outputs": [],
      "source": []
    },
    {
      "cell_type": "markdown",
      "metadata": {
        "id": "aPbAGeiuDjTn"
      },
      "source": [
        "### Class method vs Static Method<br>\n",
        "The difference between the Class method and the static method is:\n",
        "\n",
        "- A class method takes cls as the first parameter while a static method needs no specific parameters.\n",
        "- A class method can access or modify the class state while a static method can’t access or modify it.\n",
        "- In general, static methods know nothing about the class state. They are utility-type methods that take some parameters and work upon those parameters. On the other hand class methods must have class as a parameter.\n",
        "- We use @classmethod decorator in python to create a class method and we use @staticmethod decorator to create a static method in python."
      ]
    },
    {
      "cell_type": "markdown",
      "metadata": {
        "id": "IxbCxvXPD5CS"
      },
      "source": [
        "### When to use the class or static method?\n",
        "- We generally use the class method to create factory methods. Factory methods return class objects ( similar to a constructor ) for different use cases.\n",
        "- We generally use static methods to create utility functions."
      ]
    },
    {
      "cell_type": "code",
      "execution_count": null,
      "metadata": {
        "colab": {
          "base_uri": "https://localhost:8080/"
        },
        "id": "UpVqHn5HDrMM",
        "outputId": "30b61a92-8e37-4971-eabb-dd16377105b4"
      },
      "outputs": [],
      "source": [
        "# The Diamond Problem\n",
        "\n",
        "class Class1:\n",
        "    \n",
        "    def m(self):\n",
        "        print(\"In Class1\")\n",
        "\n",
        "\n",
        "class Class2(Class1):\n",
        "    \n",
        "    def m(self):\n",
        "        print(\"In Class2\")\n",
        "\n",
        "\n",
        "class Class3(Class1):\n",
        "    \n",
        "    def m(self):\n",
        "        print(\"In Class3\")\n",
        "\n",
        "\n",
        "class Class4(Class3, Class2):\n",
        "    pass\n",
        "\n",
        "obj = Class4()\n",
        "obj.m()\n",
        "\n",
        "# MRO , Whichever class I am inheriting first, I am giving that class priority first."
      ]
    },
    {
      "cell_type": "code",
      "execution_count": null,
      "metadata": {},
      "outputs": [
        {
          "name": "stdout",
          "output_type": "stream",
          "text": [
            "10\n"
          ]
        }
      ],
      "source": [
        "class A:\n",
        "    \n",
        "    def __init__(self):\n",
        "        self._var = 10\n",
        "        \n",
        "a = A()\n",
        "a._var\n",
        "\n",
        "# _var or any other variable starts with _ means we should not use it outside the class."
      ]
    },
    {
      "cell_type": "code",
      "execution_count": 48,
      "metadata": {
        "colab": {
          "base_uri": "https://localhost:8080/"
        },
        "id": "lJ9pdrNtEOtH",
        "outputId": "ed5a1a6c-ce1d-4ce8-daee-d50f302a544b"
      },
      "outputs": [
        {
          "name": "stdout",
          "output_type": "stream",
          "text": [
            "Apurba\n",
            "'Apurba'\n"
          ]
        }
      ],
      "source": [
        "# repr and other magic methods\n",
        "# repr means Representation\n",
        "\n",
        "a = 'Apurba'\n",
        "\n",
        "print(str(a))\n",
        "print(repr(a))"
      ]
    },
    {
      "cell_type": "code",
      "execution_count": null,
      "metadata": {
        "colab": {
          "base_uri": "https://localhost:8080/"
        },
        "id": "qbtNfndVNkgv",
        "outputId": "4f02f7dc-d188-4e36-9cb2-9b135b70731b"
      },
      "outputs": [
        {
          "name": "stdout",
          "output_type": "stream",
          "text": [
            "2025-03-09 02:44:44.695961\n",
            "2025-03-09 02:44:44.695961\n",
            "datetime.datetime(2025, 3, 9, 2, 44, 44, 695961)\n",
            "'2025-03-09 02:44:44.695961'\n"
          ]
        }
      ],
      "source": [
        "import datetime\n",
        "\n",
        "a = datetime.datetime.now()\n",
        "b = str(a)\n",
        "\n",
        "print(str(a))\n",
        "print(str(b))\n",
        "\n",
        "print(repr(a)) \n",
        "print(repr(b))\n",
        "\n",
        "# String is for user and repr is for developer.\n",
        "# Both function used for printing but repr is used for debugging or for programmer."
      ]
    },
    {
      "cell_type": "markdown",
      "metadata": {
        "id": "iLQeyt0WN88O"
      },
      "source": [
        "### In summary\n",
        "\n",
        "- str is for users -> meant to be more readable\n",
        "- repr is for developers for debugging - > for being unambigous"
      ]
    },
    {
      "cell_type": "code",
      "execution_count": null,
      "metadata": {
        "colab": {
          "base_uri": "https://localhost:8080/"
        },
        "id": "gVAOLF4sEUkV",
        "outputId": "a2d1bb93-5600-483e-87f0-96875948b965"
      },
      "outputs": [
        {
          "name": "stdout",
          "output_type": "stream",
          "text": [
            "Constructor\n",
            "Hello\n",
            "{<__main__.A object at 0x0000024B10B73950>}\n"
          ]
        },
        {
          "data": {
            "text/plain": [
              "['__class__',\n",
              " '__delattr__',\n",
              " '__dict__',\n",
              " '__dir__',\n",
              " '__doc__',\n",
              " '__eq__',\n",
              " '__format__',\n",
              " '__ge__',\n",
              " '__getattribute__',\n",
              " '__getstate__',\n",
              " '__gt__',\n",
              " '__hash__',\n",
              " '__init__',\n",
              " '__init_subclass__',\n",
              " '__le__',\n",
              " '__lt__',\n",
              " '__module__',\n",
              " '__ne__',\n",
              " '__new__',\n",
              " '__reduce__',\n",
              " '__reduce_ex__',\n",
              " '__repr__',\n",
              " '__setattr__',\n",
              " '__sizeof__',\n",
              " '__str__',\n",
              " '__subclasshook__',\n",
              " '__weakref__',\n",
              " 'hello']"
            ]
          },
          "execution_count": 53,
          "metadata": {},
          "output_type": "execute_result"
        }
      ],
      "source": [
        "# How objects are stored even though they are Mutable\n",
        "# https://stackoverflow.com/questions/31340756/python-why-can-i-put-mutable-object-in-a-dict-or-set\n",
        "\n",
        "class A:\n",
        "\n",
        "    def __init__(self):\n",
        "        print('Constructor')\n",
        "\n",
        "    def hello(self):\n",
        "        print('Hello')\n",
        "\n",
        "a = A()\n",
        "a.hello()\n",
        "s = {a}\n",
        "print(s)\n",
        "dir(a)\n",
        "\n",
        "# If the class is hashable then it can be stored in sets and dict.\n",
        "\n",
        "# Every function have hash inside its memory. If its return integer then it is hashable."
      ]
    },
    {
      "cell_type": "code",
      "execution_count": 58,
      "metadata": {},
      "outputs": [
        {
          "name": "stdout",
          "output_type": "stream",
          "text": [
            "Constructor\n",
            "Hello\n"
          ]
        },
        {
          "ename": "TypeError",
          "evalue": "__hash__ method should return an integer",
          "output_type": "error",
          "traceback": [
            "\u001b[1;31m---------------------------------------------------------------------------\u001b[0m",
            "\u001b[1;31mTypeError\u001b[0m                                 Traceback (most recent call last)",
            "Cell \u001b[1;32mIn[58], line 18\u001b[0m\n\u001b[0;32m     16\u001b[0m a \u001b[38;5;241m=\u001b[39m A()\n\u001b[0;32m     17\u001b[0m a\u001b[38;5;241m.\u001b[39mhello()\n\u001b[1;32m---> 18\u001b[0m s \u001b[38;5;241m=\u001b[39m {a}\n\u001b[0;32m     19\u001b[0m \u001b[38;5;28mprint\u001b[39m(s)\n\u001b[0;32m     20\u001b[0m \u001b[38;5;28mdir\u001b[39m(a)\n",
            "\u001b[1;31mTypeError\u001b[0m: __hash__ method should return an integer"
          ]
        }
      ],
      "source": [
        "class A:\n",
        "\n",
        "    def __init__(self):\n",
        "        print('Constructor')\n",
        "\n",
        "    \n",
        "    def __hash__(self):\n",
        "        return                    \n",
        "\n",
        "# If it is not integer then it does not returns and does not make sets and dict work.\n",
        "    \n",
        "    \n",
        "    def hello(self):\n",
        "        print('Hello')\n",
        "\n",
        "a = A()\n",
        "a.hello()\n",
        "s = {a}\n",
        "print(s)\n",
        "dir(a)"
      ]
    },
    {
      "cell_type": "markdown",
      "metadata": {},
      "source": [
        "#### Set does not see if the value is immutable or not. It only sees that if the value is hashable or not. Depends on hash function."
      ]
    },
    {
      "cell_type": "code",
      "execution_count": 60,
      "metadata": {},
      "outputs": [
        {
          "name": "stdout",
          "output_type": "stream",
          "text": [
            "None\n"
          ]
        }
      ],
      "source": [
        "print(L.__hash__)"
      ]
    },
    {
      "cell_type": "code",
      "execution_count": null,
      "metadata": {},
      "outputs": [
        {
          "data": {
            "text/plain": [
              "-6412757846612224607"
            ]
          },
          "execution_count": 62,
          "metadata": {},
          "output_type": "execute_result"
        }
      ],
      "source": [
        "hash('Apurba') \n",
        "# Hash will always give you integer unless List"
      ]
    },
    {
      "cell_type": "code",
      "execution_count": 63,
      "metadata": {},
      "outputs": [
        {
          "ename": "TypeError",
          "evalue": "unhashable type: 'list'",
          "output_type": "error",
          "traceback": [
            "\u001b[1;31m---------------------------------------------------------------------------\u001b[0m",
            "\u001b[1;31mTypeError\u001b[0m                                 Traceback (most recent call last)",
            "Cell \u001b[1;32mIn[63], line 1\u001b[0m\n\u001b[1;32m----> 1\u001b[0m \u001b[38;5;28;43mhash\u001b[39;49m\u001b[43m(\u001b[49m\u001b[43m[\u001b[49m\u001b[38;5;241;43m1\u001b[39;49m\u001b[43m,\u001b[49m\u001b[38;5;241;43m2\u001b[39;49m\u001b[43m,\u001b[49m\u001b[38;5;241;43m3\u001b[39;49m\u001b[43m,\u001b[49m\u001b[38;5;241;43m4\u001b[39;49m\u001b[43m]\u001b[49m\u001b[43m)\u001b[49m\n",
            "\u001b[1;31mTypeError\u001b[0m: unhashable type: 'list'"
          ]
        }
      ],
      "source": [
        "hash([1,2,3,4])"
      ]
    }
  ],
  "metadata": {
    "colab": {
      "provenance": []
    },
    "kernelspec": {
      "display_name": "Python 3",
      "name": "python3"
    },
    "language_info": {
      "codemirror_mode": {
        "name": "ipython",
        "version": 3
      },
      "file_extension": ".py",
      "mimetype": "text/x-python",
      "name": "python",
      "nbconvert_exporter": "python",
      "pygments_lexer": "ipython3",
      "version": "3.11.9"
    }
  },
  "nbformat": 4,
  "nbformat_minor": 0
}
