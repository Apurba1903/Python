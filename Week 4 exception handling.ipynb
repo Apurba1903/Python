{
  "cells": [
    {
      "cell_type": "markdown",
      "metadata": {
        "id": "xh7vgT_4-gdB"
      },
      "source": [
        "There are 2 stages where error may happen in a program\n",
        "\n",
        "- During compilation -> Syntax Error\n",
        "- During execution -> Exceptions"
      ]
    },
    {
      "cell_type": "markdown",
      "metadata": {
        "id": "U9R2vn5c-2RE"
      },
      "source": [
        "### Syntax Error\n",
        "\n",
        "- Something in the program is not written according to the program grammar.\n",
        "- Error is raised by the interpreter/compiler\n",
        "- You can solve it by rectifying the program\n"
      ]
    },
    {
      "cell_type": "code",
      "execution_count": 36,
      "metadata": {
        "colab": {
          "base_uri": "https://localhost:8080/",
          "height": 133
        },
        "id": "sgsgNEc--1ux",
        "outputId": "f973a81c-d579-4259-dcea-19d380fbaaa8"
      },
      "outputs": [
        {
          "ename": "SyntaxError",
          "evalue": "Missing parentheses in call to 'print'. Did you mean print(...)? (4014094292.py, line 3)",
          "output_type": "error",
          "traceback": [
            "\u001b[1;36m  Cell \u001b[1;32mIn[36], line 3\u001b[1;36m\u001b[0m\n\u001b[1;33m    print 'hello world'\u001b[0m\n\u001b[1;37m    ^\u001b[0m\n\u001b[1;31mSyntaxError\u001b[0m\u001b[1;31m:\u001b[0m Missing parentheses in call to 'print'. Did you mean print(...)?\n"
          ]
        }
      ],
      "source": [
        "# Example of Syntax Error\n",
        "\n",
        "print 'hello world'"
      ]
    },
    {
      "cell_type": "markdown",
      "metadata": {
        "id": "502wvB8BGO0K"
      },
      "source": [
        "### Other examples of syntax error\n",
        "\n",
        "- Leaving symbols like colon,brackets\n",
        "- Misspelling a keyword\n",
        "- Incorrect indentation\n",
        "- empty if/else/loops/class/functions"
      ]
    },
    {
      "cell_type": "code",
      "execution_count": 39,
      "metadata": {
        "colab": {
          "base_uri": "https://localhost:8080/",
          "height": 133
        },
        "id": "gd_SjrGDGTcU",
        "outputId": "5623d424-d264-45ec-cbc9-6ad6834f89ea"
      },
      "outputs": [
        {
          "ename": "SyntaxError",
          "evalue": "expected ':' (1664071857.py, line 2)",
          "output_type": "error",
          "traceback": [
            "\u001b[1;36m  Cell \u001b[1;32mIn[39], line 2\u001b[1;36m\u001b[0m\n\u001b[1;33m    if a == 3\u001b[0m\n\u001b[1;37m             ^\u001b[0m\n\u001b[1;31mSyntaxError\u001b[0m\u001b[1;31m:\u001b[0m expected ':'\n"
          ]
        }
      ],
      "source": [
        "a = 5\n",
        "if a == 3\n",
        "  print('Hello')"
      ]
    },
    {
      "cell_type": "code",
      "execution_count": 40,
      "metadata": {
        "colab": {
          "base_uri": "https://localhost:8080/",
          "height": 133
        },
        "id": "eq0Y-v_MGTmR",
        "outputId": "9ccfb071-fc71-4540-fda7-05542f9b26d3"
      },
      "outputs": [
        {
          "ename": "SyntaxError",
          "evalue": "invalid syntax (116280664.py, line 2)",
          "output_type": "error",
          "traceback": [
            "\u001b[1;36m  Cell \u001b[1;32mIn[40], line 2\u001b[1;36m\u001b[0m\n\u001b[1;33m    iff a == 3:\u001b[0m\n\u001b[1;37m        ^\u001b[0m\n\u001b[1;31mSyntaxError\u001b[0m\u001b[1;31m:\u001b[0m invalid syntax\n"
          ]
        }
      ],
      "source": [
        "a = 5\n",
        "iff a == 3:\n",
        "  print('Hello')"
      ]
    },
    {
      "cell_type": "code",
      "execution_count": 41,
      "metadata": {
        "colab": {
          "base_uri": "https://localhost:8080/",
          "height": 133
        },
        "id": "Llm9KioiGTwe",
        "outputId": "04702c51-21de-4138-9402-4d8ef3a59c8f"
      },
      "outputs": [
        {
          "ename": "IndentationError",
          "evalue": "expected an indented block after 'if' statement on line 2 (978102109.py, line 3)",
          "output_type": "error",
          "traceback": [
            "\u001b[1;36m  Cell \u001b[1;32mIn[41], line 3\u001b[1;36m\u001b[0m\n\u001b[1;33m    print('Hello')\u001b[0m\n\u001b[1;37m    ^\u001b[0m\n\u001b[1;31mIndentationError\u001b[0m\u001b[1;31m:\u001b[0m expected an indented block after 'if' statement on line 2\n"
          ]
        }
      ],
      "source": [
        "a = 5\n",
        "if a == 3:\n",
        "print('Hello')"
      ]
    },
    {
      "cell_type": "code",
      "execution_count": 42,
      "metadata": {
        "colab": {
          "base_uri": "https://localhost:8080/",
          "height": 205
        },
        "id": "KZQFu9zdEuFC",
        "outputId": "546e9247-b4a2-4c14-b822-4c6c00264f30"
      },
      "outputs": [
        {
          "ename": "IndexError",
          "evalue": "list index out of range",
          "output_type": "error",
          "traceback": [
            "\u001b[1;31m---------------------------------------------------------------------------\u001b[0m",
            "\u001b[1;31mIndexError\u001b[0m                                Traceback (most recent call last)",
            "Cell \u001b[1;32mIn[42], line 5\u001b[0m\n\u001b[0;32m      1\u001b[0m \u001b[38;5;66;03m# IndexError\u001b[39;00m\n\u001b[0;32m      2\u001b[0m \u001b[38;5;66;03m# The IndexError is thrown when trying to access an item at an invalid index.\u001b[39;00m\n\u001b[0;32m      4\u001b[0m L \u001b[38;5;241m=\u001b[39m [\u001b[38;5;241m1\u001b[39m,\u001b[38;5;241m2\u001b[39m,\u001b[38;5;241m3\u001b[39m]\n\u001b[1;32m----> 5\u001b[0m \u001b[43mL\u001b[49m\u001b[43m[\u001b[49m\u001b[38;5;241;43m10\u001b[39;49m\u001b[43m]\u001b[49m\n",
            "\u001b[1;31mIndexError\u001b[0m: list index out of range"
          ]
        }
      ],
      "source": [
        "# IndexError\n",
        "# The IndexError is thrown when trying to access an item at an invalid index.\n",
        "\n",
        "L = [1,2,3]\n",
        "L[10]"
      ]
    },
    {
      "cell_type": "code",
      "execution_count": 43,
      "metadata": {
        "colab": {
          "base_uri": "https://localhost:8080/",
          "height": 366
        },
        "id": "FfoXlpAGE1rW",
        "outputId": "b5800421-3a3d-4293-fad6-fb49227da0e6"
      },
      "outputs": [
        {
          "ename": "ModuleNotFoundError",
          "evalue": "No module named 'mathi'",
          "output_type": "error",
          "traceback": [
            "\u001b[1;31m---------------------------------------------------------------------------\u001b[0m",
            "\u001b[1;31mModuleNotFoundError\u001b[0m                       Traceback (most recent call last)",
            "Cell \u001b[1;32mIn[43], line 4\u001b[0m\n\u001b[0;32m      1\u001b[0m \u001b[38;5;66;03m# ModuleNotFoundError\u001b[39;00m\n\u001b[0;32m      2\u001b[0m \u001b[38;5;66;03m# The ModuleNotFoundError is thrown when a module could not be found.\u001b[39;00m\n\u001b[1;32m----> 4\u001b[0m \u001b[38;5;28;01mimport\u001b[39;00m \u001b[38;5;21;01mmathi\u001b[39;00m\n\u001b[0;32m      5\u001b[0m math\u001b[38;5;241m.\u001b[39mfloor(\u001b[38;5;241m5.3\u001b[39m)\n",
            "\u001b[1;31mModuleNotFoundError\u001b[0m: No module named 'mathi'"
          ]
        }
      ],
      "source": [
        "# ModuleNotFoundError\n",
        "# The ModuleNotFoundError is thrown when a module could not be found.\n",
        "\n",
        "import mathi\n",
        "math.floor(5.3)"
      ]
    },
    {
      "cell_type": "code",
      "execution_count": 44,
      "metadata": {
        "colab": {
          "base_uri": "https://localhost:8080/",
          "height": 205
        },
        "id": "IP2CycVwE66e",
        "outputId": "430034d1-08f0-4e37-baeb-486eeb121b43"
      },
      "outputs": [
        {
          "ename": "KeyError",
          "evalue": "'age'",
          "output_type": "error",
          "traceback": [
            "\u001b[1;31m---------------------------------------------------------------------------\u001b[0m",
            "\u001b[1;31mKeyError\u001b[0m                                  Traceback (most recent call last)",
            "Cell \u001b[1;32mIn[44], line 5\u001b[0m\n\u001b[0;32m      1\u001b[0m \u001b[38;5;66;03m# KeyError\u001b[39;00m\n\u001b[0;32m      2\u001b[0m \u001b[38;5;66;03m# The KeyError is thrown when a key is not found\u001b[39;00m\n\u001b[0;32m      4\u001b[0m d \u001b[38;5;241m=\u001b[39m {\u001b[38;5;124m'\u001b[39m\u001b[38;5;124mname\u001b[39m\u001b[38;5;124m'\u001b[39m:\u001b[38;5;124m'\u001b[39m\u001b[38;5;124mApurba\u001b[39m\u001b[38;5;124m'\u001b[39m}\n\u001b[1;32m----> 5\u001b[0m \u001b[43md\u001b[49m\u001b[43m[\u001b[49m\u001b[38;5;124;43m'\u001b[39;49m\u001b[38;5;124;43mage\u001b[39;49m\u001b[38;5;124;43m'\u001b[39;49m\u001b[43m]\u001b[49m\n",
            "\u001b[1;31mKeyError\u001b[0m: 'age'"
          ]
        }
      ],
      "source": [
        "# KeyError\n",
        "# The KeyError is thrown when a key is not found\n",
        "\n",
        "d = {'name':'Apurba'}\n",
        "d['age']"
      ]
    },
    {
      "cell_type": "code",
      "execution_count": 45,
      "metadata": {
        "colab": {
          "base_uri": "https://localhost:8080/",
          "height": 205
        },
        "id": "meGU1o_VE-Y5",
        "outputId": "e8b62d30-5c0e-411e-cd60-4cd7fa42ecfd"
      },
      "outputs": [
        {
          "ename": "TypeError",
          "evalue": "unsupported operand type(s) for +: 'int' and 'str'",
          "output_type": "error",
          "traceback": [
            "\u001b[1;31m---------------------------------------------------------------------------\u001b[0m",
            "\u001b[1;31mTypeError\u001b[0m                                 Traceback (most recent call last)",
            "Cell \u001b[1;32mIn[45], line 4\u001b[0m\n\u001b[0;32m      1\u001b[0m \u001b[38;5;66;03m# TypeError\u001b[39;00m\n\u001b[0;32m      2\u001b[0m \u001b[38;5;66;03m# The TypeError is thrown when an operation or function is applied to an object of an inappropriate type.\u001b[39;00m\n\u001b[1;32m----> 4\u001b[0m \u001b[38;5;241;43m1\u001b[39;49m\u001b[43m \u001b[49m\u001b[38;5;241;43m+\u001b[39;49m\u001b[43m \u001b[49m\u001b[38;5;124;43m'\u001b[39;49m\u001b[38;5;124;43ma\u001b[39;49m\u001b[38;5;124;43m'\u001b[39;49m\n",
            "\u001b[1;31mTypeError\u001b[0m: unsupported operand type(s) for +: 'int' and 'str'"
          ]
        }
      ],
      "source": [
        "# TypeError\n",
        "# The TypeError is thrown when an operation or function is applied to an object of an inappropriate type.\n",
        "\n",
        "1 + 'a'"
      ]
    },
    {
      "cell_type": "code",
      "execution_count": 46,
      "metadata": {
        "colab": {
          "base_uri": "https://localhost:8080/",
          "height": 205
        },
        "id": "ZE_r2WsaFF6f",
        "outputId": "a8f34b54-b1e3-47d9-cd32-7eeee19b4d47"
      },
      "outputs": [
        {
          "ename": "ValueError",
          "evalue": "invalid literal for int() with base 10: 'a'",
          "output_type": "error",
          "traceback": [
            "\u001b[1;31m---------------------------------------------------------------------------\u001b[0m",
            "\u001b[1;31mValueError\u001b[0m                                Traceback (most recent call last)",
            "Cell \u001b[1;32mIn[46], line 4\u001b[0m\n\u001b[0;32m      1\u001b[0m \u001b[38;5;66;03m# ValueError\u001b[39;00m\n\u001b[0;32m      2\u001b[0m \u001b[38;5;66;03m# The ValueError is thrown when a function's argument is of an inappropriate type.\u001b[39;00m\n\u001b[1;32m----> 4\u001b[0m \u001b[38;5;28;43mint\u001b[39;49m\u001b[43m(\u001b[49m\u001b[38;5;124;43m'\u001b[39;49m\u001b[38;5;124;43ma\u001b[39;49m\u001b[38;5;124;43m'\u001b[39;49m\u001b[43m)\u001b[49m\n",
            "\u001b[1;31mValueError\u001b[0m: invalid literal for int() with base 10: 'a'"
          ]
        }
      ],
      "source": [
        "# ValueError\n",
        "# The ValueError is thrown when a function's argument is of an inappropriate type.\n",
        "\n",
        "int('a')"
      ]
    },
    {
      "cell_type": "code",
      "execution_count": 47,
      "metadata": {
        "colab": {
          "base_uri": "https://localhost:8080/",
          "height": 205
        },
        "id": "yr7eRF2xFPo7",
        "outputId": "617b5a0c-2e8d-4e9d-e441-aa14c013bfa5"
      },
      "outputs": [
        {
          "ename": "NameError",
          "evalue": "name 'k' is not defined",
          "output_type": "error",
          "traceback": [
            "\u001b[1;31m---------------------------------------------------------------------------\u001b[0m",
            "\u001b[1;31mNameError\u001b[0m                                 Traceback (most recent call last)",
            "Cell \u001b[1;32mIn[47], line 4\u001b[0m\n\u001b[0;32m      1\u001b[0m \u001b[38;5;66;03m# NameError\u001b[39;00m\n\u001b[0;32m      2\u001b[0m \u001b[38;5;66;03m# The NameError is thrown when an object could not be found.\u001b[39;00m\n\u001b[1;32m----> 4\u001b[0m \u001b[38;5;28mprint\u001b[39m(\u001b[43mk\u001b[49m)\n",
            "\u001b[1;31mNameError\u001b[0m: name 'k' is not defined"
          ]
        }
      ],
      "source": [
        "# NameError\n",
        "# The NameError is thrown when an object could not be found.\n",
        "\n",
        "print(k)"
      ]
    },
    {
      "cell_type": "code",
      "execution_count": 48,
      "metadata": {
        "colab": {
          "base_uri": "https://localhost:8080/",
          "height": 205
        },
        "id": "VHVKtWwWFUhK",
        "outputId": "6d84d92c-f2c1-4abc-f4ed-6cf8ebd0cb1e"
      },
      "outputs": [
        {
          "ename": "AttributeError",
          "evalue": "'list' object has no attribute 'upper'",
          "output_type": "error",
          "traceback": [
            "\u001b[1;31m---------------------------------------------------------------------------\u001b[0m",
            "\u001b[1;31mAttributeError\u001b[0m                            Traceback (most recent call last)",
            "Cell \u001b[1;32mIn[48], line 4\u001b[0m\n\u001b[0;32m      1\u001b[0m \u001b[38;5;66;03m# AttributeError\u001b[39;00m\n\u001b[0;32m      3\u001b[0m L \u001b[38;5;241m=\u001b[39m [\u001b[38;5;241m1\u001b[39m,\u001b[38;5;241m2\u001b[39m,\u001b[38;5;241m3\u001b[39m]\n\u001b[1;32m----> 4\u001b[0m \u001b[43mL\u001b[49m\u001b[38;5;241;43m.\u001b[39;49m\u001b[43mupper\u001b[49m()\n",
            "\u001b[1;31mAttributeError\u001b[0m: 'list' object has no attribute 'upper'"
          ]
        }
      ],
      "source": [
        "# AttributeError\n",
        "\n",
        "L = [1,2,3]\n",
        "L.upper()"
      ]
    },
    {
      "cell_type": "markdown",
      "metadata": {
        "id": "l6JrgCrHA2Tq"
      },
      "source": [
        "### Exceptions\n",
        "\n",
        "If things go wrong during the execution of the program(runtime). It generally happens when something unforeseen has happened.\n",
        "\n",
        "- Exceptions are raised by python runtime\n",
        "- You have to takle is on the fly\n",
        "\n",
        "#### **Examples**\n",
        "\n",
        "- Memory overflow\n",
        "- Divide by 0 -> logical error\n",
        "- Database error"
      ]
    },
    {
      "cell_type": "code",
      "execution_count": null,
      "metadata": {
        "id": "rfzG2r9DAfDf"
      },
      "outputs": [],
      "source": [
        "# We call all the errors StackTrace\n",
        "\n",
        "# Why is it important to handle exceptions ?\n",
        "# How to handle exceptions ?\n",
        "# -> try except Block"
      ]
    },
    {
      "cell_type": "code",
      "execution_count": null,
      "metadata": {
        "id": "S_VIvkx9Hnxb"
      },
      "outputs": [],
      "source": [
        "# Create a file\n",
        "\n",
        "with open('Week 4.txt','w') as f:\n",
        "  f.write('Hello World')"
      ]
    },
    {
      "cell_type": "code",
      "execution_count": null,
      "metadata": {
        "colab": {
          "base_uri": "https://localhost:8080/"
        },
        "id": "9WItdkURHtvM",
        "outputId": "b14ed0bd-1d46-426b-ab81-42e24608ec4e"
      },
      "outputs": [
        {
          "name": "stdout",
          "output_type": "stream",
          "text": [
            "Sorry the file is not found.\n"
          ]
        }
      ],
      "source": [
        "# try except Demo\n",
        "\n",
        "try:\n",
        "    with open('Checking.txt', 'r') as f:\n",
        "        print(f.read())\n",
        "except:\n",
        "    print('Sorry the file is not found.')"
      ]
    },
    {
      "cell_type": "code",
      "execution_count": null,
      "metadata": {
        "colab": {
          "base_uri": "https://localhost:8080/"
        },
        "id": "px7mJhmvH0pd",
        "outputId": "a0052ee7-73f4-44cb-c7f9-2c6756a83fb3"
      },
      "outputs": [
        {
          "name": "stdout",
          "output_type": "stream",
          "text": [
            "Hello World\n",
            "5\n",
            "3.3333333333333335\n",
            "list index out of range\n"
          ]
        }
      ],
      "source": [
        "# Catching Specific Exception\n",
        "\n",
        "m = 5\n",
        "L = [1,2,3]\n",
        "\n",
        "try:\n",
        "    f = open('Week 4.txt', 'r')\n",
        "    print(f.read())\n",
        "    \n",
        "    print(m)\n",
        "    \n",
        "    print(10/3)\n",
        "    \n",
        "    L[6]\n",
        "    \n",
        "    \n",
        "except FileNotFoundError:\n",
        "    print('File not found.')\n",
        "    \n",
        "except NameError:\n",
        "    print('Variable not defined.')\n",
        "    \n",
        "except ZeroDivisionError:\n",
        "    print('Can not divide by 0.')\n",
        "    \n",
        "except Exception as e:\n",
        "    print(e)\n",
        "    "
      ]
    },
    {
      "cell_type": "code",
      "execution_count": 35,
      "metadata": {
        "colab": {
          "base_uri": "https://localhost:8080/"
        },
        "id": "nn-_EK1TKvno",
        "outputId": "311f3b30-b641-43f3-f99f-59f97d5e388c"
      },
      "outputs": [
        {
          "name": "stdout",
          "output_type": "stream",
          "text": [
            "File not found.\n"
          ]
        }
      ],
      "source": [
        "# else\n",
        "\n",
        "try:\n",
        "    f = open('Week 41.txt', 'r')\n",
        "\n",
        "except FileNotFoundError:\n",
        "    print('File not found.')\n",
        "except Exception:\n",
        "    print('There is some problem, Try again')\n",
        "    \n",
        "else:\n",
        "    print(f.read())"
      ]
    },
    {
      "cell_type": "code",
      "execution_count": null,
      "metadata": {
        "colab": {
          "base_uri": "https://localhost:8080/"
        },
        "id": "VKzyyGTUKwm5",
        "outputId": "e986811f-3009-451e-91ac-7b59f1db33e5"
      },
      "outputs": [
        {
          "name": "stdout",
          "output_type": "stream",
          "text": [
            "File not found.\n",
            "This will must print.\n"
          ]
        }
      ],
      "source": [
        "# finally\n",
        "\n",
        "try:\n",
        "    f = open('Week 41.txt', 'r')\n",
        "\n",
        "except FileNotFoundError:\n",
        "    print('File not found.')\n",
        "except Exception:\n",
        "    print('There is some problem, Try again')\n",
        "    \n",
        "else:\n",
        "    print(f.read())\n",
        "    \n",
        "finally:\n",
        "    print('This will must print.')\n",
        "    \n",
        "\n",
        "# We must have to use finally because it can close all opened ports and connections.\n"
      ]
    },
    {
      "cell_type": "code",
      "execution_count": null,
      "metadata": {
        "id": "weTHAgttKxaJ"
      },
      "outputs": [],
      "source": [
        "# raise Exception\n",
        "\n",
        "# In Python programming, exceptions are raised when errors occur at runtime.\n",
        "\n",
        "# We can also manually raise exceptions using the raise keyword.\n",
        "\n",
        "# We can optionally pass values to the exception to clarify why that exception was raised"
      ]
    },
    {
      "cell_type": "code",
      "execution_count": 55,
      "metadata": {
        "colab": {
          "base_uri": "https://localhost:8080/",
          "height": 169
        },
        "id": "IH51eIy5K9Yc",
        "outputId": "c7f361a1-35f3-4b11-86fb-b4d1f7e3932c"
      },
      "outputs": [
        {
          "ename": "ModuleNotFoundError",
          "evalue": "Just trying this function",
          "output_type": "error",
          "traceback": [
            "\u001b[1;31m---------------------------------------------------------------------------\u001b[0m",
            "\u001b[1;31mModuleNotFoundError\u001b[0m                       Traceback (most recent call last)",
            "Cell \u001b[1;32mIn[55], line 6\u001b[0m\n\u001b[0;32m      1\u001b[0m \u001b[38;5;66;03m# in Java\u001b[39;00m\n\u001b[0;32m      2\u001b[0m \u001b[38;5;66;03m# try -> try\u001b[39;00m\n\u001b[0;32m      3\u001b[0m \u001b[38;5;66;03m# except -> catch\u001b[39;00m\n\u001b[0;32m      4\u001b[0m \u001b[38;5;66;03m# raise -> throw\u001b[39;00m\n\u001b[1;32m----> 6\u001b[0m \u001b[38;5;28;01mraise\u001b[39;00m \u001b[38;5;167;01mModuleNotFoundError\u001b[39;00m(\u001b[38;5;124m'\u001b[39m\u001b[38;5;124mJust trying this function\u001b[39m\u001b[38;5;124m'\u001b[39m)\n",
            "\u001b[1;31mModuleNotFoundError\u001b[0m: Just trying this function"
          ]
        }
      ],
      "source": [
        "# in Java\n",
        "# try -> try\n",
        "# except -> catch\n",
        "# raise -> throw\n",
        "\n",
        "raise ModuleNotFoundError('Just trying this function')"
      ]
    },
    {
      "cell_type": "code",
      "execution_count": null,
      "metadata": {
        "colab": {
          "base_uri": "https://localhost:8080/"
        },
        "id": "0qLD1KYj_LPm",
        "outputId": "8753ccce-bb47-4e38-ce32-ce00f4c508f8"
      },
      "outputs": [
        {
          "name": "stdout",
          "output_type": "stream",
          "text": [
            "Amount can not be negetive.\n"
          ]
        }
      ],
      "source": [
        "# try raise catch Error Example\n",
        "\n",
        "class Bank:\n",
        "    \n",
        "    def __init__(self, balance):\n",
        "        self.balance = balance\n",
        "        \n",
        "    def withdraw(self, amount):\n",
        "        if amount < 0:\n",
        "            raise Exception('Amount can not be negative.')\n",
        "        if self.balance < amount:\n",
        "            raise Exception('Not enough money.')\n",
        "        self.balance = self.balance - amount\n",
        "        \n",
        "        \n",
        "obj = Bank(10000)\n",
        "\n",
        "\n",
        "try:\n",
        "    obj.withdraw(-200)\n",
        "\n",
        "\n",
        "except Exception as e:\n",
        "    print(e)\n",
        "\n",
        "\n",
        "else:\n",
        "    print(obj.balance)"
      ]
    },
    {
      "cell_type": "code",
      "execution_count": null,
      "metadata": {
        "colab": {
          "base_uri": "https://localhost:8080/"
        },
        "id": "DLzBsX5eBSNs",
        "outputId": "4b8d711a-43a7-45e1-9cd5-1ee6cf0633d9"
      },
      "outputs": [
        {
          "name": "stdout",
          "output_type": "stream",
          "text": [
            "Amount can not be negative.\n"
          ]
        }
      ],
      "source": [
        "# Creating Custom Exception Class\n",
        "\n",
        "\n",
        "class MyException(Exception):\n",
        "    def __init__(self,message):\n",
        "        print(message)\n",
        "\n",
        "\n",
        "class Bank:\n",
        "    \n",
        "    def __init__(self, balance):\n",
        "        self.balance = balance\n",
        "        \n",
        "    def withdraw(self, amount):\n",
        "        if amount < 0:\n",
        "            raise MyException('Amount can not be negative.')\n",
        "        if self.balance < amount:\n",
        "            raise MyException('Not enough money.')\n",
        "        self.balance = self.balance - amount\n",
        "        \n",
        "        \n",
        "obj = Bank(10000)\n",
        "\n",
        "\n",
        "try:\n",
        "    obj.withdraw(-200)\n",
        "\n",
        "\n",
        "except MyException as e:\n",
        "    pass\n",
        "\n",
        "\n",
        "else:\n",
        "    print(obj.balance)"
      ]
    },
    {
      "cell_type": "code",
      "execution_count": 69,
      "metadata": {
        "id": "x3VHwEYHg-z7"
      },
      "outputs": [
        {
          "name": "stdout",
          "output_type": "stream",
          "text": [
            "New device detected.\n",
            "Please get an approval from a new device.\n",
            "\n",
            "Logging out from all the devices.\n",
            "\n",
            "Database Connection Closed.\n",
            "\n"
          ]
        }
      ],
      "source": [
        "# Simple Exception\n",
        "\n",
        "class SecurityError(Exception):\n",
        "    \n",
        "    \n",
        "    def __init__(self,message):\n",
        "        print(message)\n",
        "\n",
        "\n",
        "    def logout(self):\n",
        "        print('Logging out from all the devices.\\n') \n",
        "\n",
        "\n",
        "\n",
        "\n",
        "class Google:\n",
        "    \n",
        "    \n",
        "    def __init__(self, name, email, password, device):\n",
        "        self.name = name\n",
        "        self.email = email\n",
        "        self.password = password\n",
        "        self.device = device\n",
        "        \n",
        "        \n",
        "    def login(self, email, password, device):\n",
        "        if device != self.device:\n",
        "            raise SecurityError('New device detected.\\nPlease get an approval from a new device.\\n')\n",
        "        if email == self.email and password == self.password:\n",
        "            print('Welcome')\n",
        "        else:\n",
        "            print('Login Error')\n",
        "\n",
        "\n",
        "\n",
        "obj = Google ('Apurba Halder', 'apurba@gmail.com', '1234', 'IOS')\n",
        "\n",
        "\n",
        "try:\n",
        "    obj.login('apurba@gmail.com', '1234', 'Android')\n",
        "    \n",
        "except SecurityError as e:\n",
        "    e.logout()\n",
        "    \n",
        "else:\n",
        "    print(obj.name)  \n",
        "    \n",
        "finally:\n",
        "    print('Database Connection Closed.\\n') "
      ]
    }
  ],
  "metadata": {
    "colab": {
      "provenance": []
    },
    "kernelspec": {
      "display_name": "Python 3",
      "name": "python3"
    },
    "language_info": {
      "codemirror_mode": {
        "name": "ipython",
        "version": 3
      },
      "file_extension": ".py",
      "mimetype": "text/x-python",
      "name": "python",
      "nbconvert_exporter": "python",
      "pygments_lexer": "ipython3",
      "version": "3.11.9"
    }
  },
  "nbformat": 4,
  "nbformat_minor": 0
}
